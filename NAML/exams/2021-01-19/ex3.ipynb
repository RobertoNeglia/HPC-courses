{
 "cells": [
  {
   "cell_type": "code",
   "execution_count": 16,
   "metadata": {},
   "outputs": [
    {
     "name": "stdout",
     "output_type": "stream",
     "text": [
      "0.25\n"
     ]
    }
   ],
   "source": [
    "import numpy as np\n",
    "import jax\n",
    "\n",
    "n_samples = 10000\n",
    "np.random.seed(0)\n",
    "x = np.random.randn(n_samples)\n",
    "\n",
    "sigma = lambda x: 1 / (1 + np.e ** (-x))\n",
    "\n",
    "y_ex = 1 / (1 + np.e ** (-x))\n",
    "dsigma = jax.vmap(jax.jit(jax.grad(sigma)))\n",
    "\n",
    "dy = dsigma(x)\n",
    "print(max(dy))"
   ]
  }
 ],
 "metadata": {
  "kernelspec": {
   "display_name": "NAML",
   "language": "python",
   "name": "python3"
  },
  "language_info": {
   "codemirror_mode": {
    "name": "ipython",
    "version": 3
   },
   "file_extension": ".py",
   "mimetype": "text/x-python",
   "name": "python",
   "nbconvert_exporter": "python",
   "pygments_lexer": "ipython3",
   "version": "3.10.10"
  },
  "orig_nbformat": 4
 },
 "nbformat": 4,
 "nbformat_minor": 2
}
