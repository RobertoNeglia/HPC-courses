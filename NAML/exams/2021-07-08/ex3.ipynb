{
 "cells": [
  {
   "attachments": {},
   "cell_type": "markdown",
   "metadata": {},
   "source": [
    "Consider the following mapping:\n",
    "$$(0,0,0) →1$$ \n",
    "$$(1,0,0) →0$$ \n",
    "$$(0,1,0) →0$$ \n",
    "$$(0,0,1) →0$$\n",
    "$$(0,1,1) →1$$ \n",
    "$$(1,1,0) →0$$ \n",
    "$$(1,0,1) →0$$ \n",
    "$$(1,1,1) →1$$\n",
    "\n",
    "Is it possible to learn the previous map using only a single perceptron?"
   ]
  },
  {
   "attachments": {},
   "cell_type": "markdown",
   "metadata": {},
   "source": [
    "No, it is not possible, since the logical expression governing this mapping is not linearly separable, which means that there is not an hyperplane in the input space that can completely separate the inputs belonging to different classes (0 or 1), as we can see in the picture below."
   ]
  },
  {
   "attachments": {},
   "cell_type": "markdown",
   "metadata": {},
   "source": [
    "![](not-linearly-separable.png)"
   ]
  },
  {
   "attachments": {},
   "cell_type": "markdown",
   "metadata": {},
   "source": [
    "Propose a multi-perceptron neural network that is able to learn the previous mapping. Compute the\n",
    "weights and the biases of all the perceptrons in the network."
   ]
  },
  {
   "cell_type": "code",
   "execution_count": 74,
   "metadata": {},
   "outputs": [
    {
     "name": "stdout",
     "output_type": "stream",
     "text": [
      "(0, 0, 0) --> 1\n",
      "(0, 0, 1) --> 0\n",
      "(0, 1, 0) --> 0\n",
      "(0, 1, 1) --> 1\n",
      "(1, 0, 0) --> 0\n",
      "(1, 0, 1) --> 0\n",
      "(1, 1, 0) --> 0\n",
      "(1, 1, 1) --> 1\n"
     ]
    }
   ],
   "source": [
    "import numpy as np\n",
    "\n",
    "W1 = np.array([[-2, -2, -2], [0, 2, 2]])\n",
    "b1 = np.array([[1, -3]]).T\n",
    "W2 = np.array([[2, 2]])\n",
    "b2 = np.array([[-1]]).T\n",
    "\n",
    "\n",
    "def step_activation(x):\n",
    "    y = np.zeros(x.shape)\n",
    "    y[x > 0] = 1\n",
    "    return y\n",
    "\n",
    "\n",
    "def MLNN(x):\n",
    "    x = x.T\n",
    "    H = step_activation(W1 @ x + b1)\n",
    "    return step_activation(W2 @ H + b2)\n",
    "\n",
    "\n",
    "def print_results():\n",
    "    for a in (0, 1):\n",
    "        for b in (0, 1):\n",
    "            for c in (0, 1):\n",
    "                out = MLNN(np.array([[a, b, c]]))\n",
    "                print(\"(%d, %d, %d) --> %d\" % (a, b, c, out))\n",
    "\n",
    "\n",
    "print_results()"
   ]
  }
 ],
 "metadata": {
  "kernelspec": {
   "display_name": "NAML",
   "language": "python",
   "name": "python3"
  },
  "language_info": {
   "codemirror_mode": {
    "name": "ipython",
    "version": 3
   },
   "file_extension": ".py",
   "mimetype": "text/x-python",
   "name": "python",
   "nbconvert_exporter": "python",
   "pygments_lexer": "ipython3",
   "version": "3.10.10"
  },
  "orig_nbformat": 4
 },
 "nbformat": 4,
 "nbformat_minor": 2
}
