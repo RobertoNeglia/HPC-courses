{
 "cells": [
  {
   "attachments": {},
   "cell_type": "markdown",
   "metadata": {},
   "source": [
    "Consider a sigmoid neuron with 1D input $x$, weight $w$, bias $b$ and output $y = \\sigma(wx + b)$. \n",
    "\n",
    "The target is the 1D variable $z$. \n",
    "\n",
    "Consider the cost function $J(w,b) = \\frac{1}{2}(y - z)^2 = J(w,b) = \\frac{1}{2}(\\sigma(wx + b) - z)^2$"
   ]
  },
  {
   "attachments": {},
   "cell_type": "markdown",
   "metadata": {},
   "source": [
    "- Find $\\nabla J(w,b)$ and show that $||\\nabla J||< \\frac{1}{4}\\sqrt{1 + x^2}(1 + |z|)$"
   ]
  },
  {
   "cell_type": "code",
   "execution_count": 43,
   "metadata": {},
   "outputs": [
    {
     "name": "stdout",
     "output_type": "stream",
     "text": [
      "[-0.02137507  0.00213751]\n",
      "Confirmed!\n"
     ]
    }
   ],
   "source": [
    "import numpy as np\n",
    "import jax\n",
    "import jax.numpy as jnp\n",
    "\n",
    "x = np.arange(-10, 10)\n",
    "w = np.random.randn()\n",
    "b = np.random.randn()\n",
    "z = np.random.randn()\n",
    "\n",
    "\n",
    "def sigmoid(x):\n",
    "    return 1 / (1 + jnp.e ** (-x))\n",
    "\n",
    "\n",
    "def cost(w, b, x):\n",
    "    return 1 / 2 * jnp.square(sigmoid(w * x + b) - z)\n",
    "\n",
    "\n",
    "grad = jax.grad(cost, argnums=[0, 1])\n",
    "\n",
    "print(jnp.array(grad(w, b, x[0])))\n",
    "\n",
    "exception = False\n",
    "for i in x:\n",
    "    if jnp.linalg.norm(jnp.array(grad(w, b, i))) >= 1 / 4 * jnp.sqrt(1 + i**2) * (\n",
    "        1 + jnp.abs(z)\n",
    "    ):\n",
    "        print(\"Found an exeption!\")\n",
    "        exception = True\n",
    "        break\n",
    "\n",
    "if not exception:\n",
    "    print(\"Confirmed!\")"
   ]
  }
 ],
 "metadata": {
  "kernelspec": {
   "display_name": "NAML",
   "language": "python",
   "name": "python3"
  },
  "language_info": {
   "codemirror_mode": {
    "name": "ipython",
    "version": 3
   },
   "file_extension": ".py",
   "mimetype": "text/x-python",
   "name": "python",
   "nbconvert_exporter": "python",
   "pygments_lexer": "ipython3",
   "version": "3.10.11"
  },
  "orig_nbformat": 4
 },
 "nbformat": 4,
 "nbformat_minor": 2
}
