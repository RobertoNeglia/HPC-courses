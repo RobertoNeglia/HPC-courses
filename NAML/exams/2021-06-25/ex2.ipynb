{
 "cells": [
  {
   "attachments": {},
   "cell_type": "markdown",
   "metadata": {},
   "source": [
    "Consider the following data:\n",
    "$$ X = \\begin{bmatrix} 1 & 1 & 2 \\\\ 1 & 2 & 1 \\\\ 1 & 1 & 1 \\end{bmatrix}, \\quad y = \\begin{bmatrix} 11 \\\\ 10 \\\\ 8 \\end{bmatrix}$$\n",
    "where $X$ is the data matrix and $y$ contains the labels.\n",
    "\n",
    "We want to find the parameter vector \n",
    "$$\\beta = \\begin{bmatrix} \\beta_1 & \\beta_2 & \\beta_3 \\end{bmatrix}^T$$ \n",
    "that minimizes the loss over all instances $x_i$ (the i-th row of the matrix X):\n",
    "$$ L(X, \\beta, y) = \\sum_{i=1}^3(\\beta^Tx_i - y_i)^2$$"
   ]
  },
  {
   "attachments": {},
   "cell_type": "markdown",
   "metadata": {},
   "source": [
    "- Explain the differences between the classical gradient method (GD) and the stochastic gradient method (SGD).\n",
    "\n",
    "    The classical GD method is an iterative optimization (minimization/maximization) method that uses the gradient of the function as the direction (for maximization problems, the opposite direction for minimization ones) toward which to update the approximate solution: the gradient is computed by approximating its value by using the whole dataset available at each step.\n",
    "\n",
    "    On the other hand, in the SGD we approximate the gradient by only using a subset of points of the dataset, chosen randomly. It can be proven that the SGD yelds the same results as the classical GD, but is computationally more efficient, since we use less data to approximate the gradient of the function at each step.\n",
    "\n",
    "    There are many types of SGD: with or without replacement of the subset of points of the dataset used at each iteration, using only one point or a batch of points as subset, introducing the \"moment\" of the iteration, where we also consider the history of the past directions to update the next, and many more.\n"
   ]
  },
  {
   "attachments": {},
   "cell_type": "markdown",
   "metadata": {},
   "source": [
    "- Perform two epochs using SGD with a step size $\\eta = 0.1$ and report the errors and the total loss after each epoch; use the initial guess $\\beta = \\begin{bmatrix} 1 & 1 & 1 \\end{bmatrix}^T$ . (Run through the instances in order instead of performing a random selection.)."
   ]
  },
  {
   "attachments": {},
   "cell_type": "markdown",
   "metadata": {},
   "source": [
    "Setup:"
   ]
  },
  {
   "cell_type": "code",
   "execution_count": 67,
   "metadata": {},
   "outputs": [],
   "source": [
    "import numpy as np\n",
    "import jax\n",
    "import jax.numpy as jnp\n",
    "\n",
    "\n",
    "def loss(X, beta, y):\n",
    "    return jnp.sum(jnp.square(X @ beta - y))\n",
    "\n",
    "\n",
    "X = np.array([[1.0, 1.0, 2.0], [1.0, 2.0, 1.0], [1.0, 1.0, 1.0]])\n",
    "y = np.array([[11.0, 10.0, 8.0]]).T\n",
    "\n",
    "loss_jit = jax.jit(loss)\n",
    "dloss_jit = jax.jit(jax.grad(loss, argnums=1))"
   ]
  },
  {
   "attachments": {},
   "cell_type": "markdown",
   "metadata": {},
   "source": [
    "GD result:"
   ]
  },
  {
   "cell_type": "code",
   "execution_count": 103,
   "metadata": {},
   "outputs": [
    {
     "name": "stdout",
     "output_type": "stream",
     "text": [
      "110.0\n",
      "1113.0244\n",
      "[[-1.8000007]\n",
      " [-3.040001 ]\n",
      " [-2.6800013]]\n"
     ]
    }
   ],
   "source": [
    "beta = np.array([[1.0, 1.0, 1.0]]).T\n",
    "learning_rate = 0.1\n",
    "n_epochs = 2\n",
    "\n",
    "print(loss_jit(X, beta, y))\n",
    "for epoch in range(n_epochs):\n",
    "    grad = dloss_jit(X, beta, y)\n",
    "    beta -= learning_rate * grad\n",
    "\n",
    "print(loss_jit(X, beta, y))\n",
    "print(beta)"
   ]
  },
  {
   "attachments": {},
   "cell_type": "markdown",
   "metadata": {},
   "source": [
    "As we can see, with the classical GD the method is diverging. This is probably due to the learning rate too high (by reducing it to $\\eta = 0.01$ we obtain convergence)."
   ]
  },
  {
   "cell_type": "code",
   "execution_count": 102,
   "metadata": {},
   "outputs": [
    {
     "name": "stdout",
     "output_type": "stream",
     "text": [
      "110.0\n",
      "30.156832\n",
      "[[1.62  ]\n",
      " [1.8236]\n",
      " [1.8632]]\n"
     ]
    }
   ],
   "source": [
    "beta = np.array([[1.0, 1.0, 1.0]]).T\n",
    "learning_rate = 0.01\n",
    "n_epochs = 2\n",
    "\n",
    "print(loss_jit(X, beta, y))\n",
    "for epoch in range(n_epochs):\n",
    "    grad = dloss_jit(X, beta, y)\n",
    "    beta -= learning_rate * grad\n",
    "\n",
    "print(loss_jit(X, beta, y))\n",
    "print(beta)"
   ]
  },
  {
   "attachments": {},
   "cell_type": "markdown",
   "metadata": {},
   "source": [
    "Let's try with the SGD:"
   ]
  },
  {
   "cell_type": "code",
   "execution_count": 101,
   "metadata": {},
   "outputs": [
    {
     "name": "stdout",
     "output_type": "stream",
     "text": [
      "110.0\n",
      "0.24000011\n",
      "[[2.2]\n",
      " [2. ]\n",
      " [3.6]]\n"
     ]
    }
   ],
   "source": [
    "beta = np.array([[1.0, 1.0, 1.0]]).T\n",
    "learning_rate = 0.1\n",
    "n_epochs = 2\n",
    "\n",
    "print(loss_jit(X, beta, y))\n",
    "for epoch in range(n_epochs):\n",
    "    i = epoch % X.shape[0]\n",
    "\n",
    "    grad = dloss_jit(X[i], beta, y[i])\n",
    "    beta -= learning_rate * grad\n",
    "\n",
    "print(loss_jit(X, beta, y))\n",
    "print(beta)"
   ]
  },
  {
   "attachments": {},
   "cell_type": "markdown",
   "metadata": {},
   "source": [
    "This time it's converging. Let's try adding a dynamic learning rate:"
   ]
  },
  {
   "cell_type": "code",
   "execution_count": 100,
   "metadata": {},
   "outputs": [
    {
     "name": "stdout",
     "output_type": "stream",
     "text": [
      "110.0\n",
      "64.05398\n",
      "[[1.5603281 ]\n",
      " [1.7205362 ]\n",
      " [0.96044827]]\n"
     ]
    }
   ],
   "source": [
    "beta = np.array([[1.0, 1.0, 1.0]]).T\n",
    "learning_rate_max = 0.1\n",
    "learning_rate_min = 0.001\n",
    "learning_rate_decay = 5000\n",
    "n_epochs = 2\n",
    "\n",
    "print(loss_jit(X, beta, y))\n",
    "for epoch in range(n_epochs):\n",
    "    i = np.random.choice(X.shape[0], 2)\n",
    "    learning_rate = max(\n",
    "        learning_rate_min, learning_rate_max * (1 - epoch / learning_rate_decay)\n",
    "    )\n",
    "\n",
    "    grad = dloss_jit(X[i], beta, y[i])\n",
    "    beta -= learning_rate * grad\n",
    "\n",
    "print(loss_jit(X, beta, y))\n",
    "print(beta)"
   ]
  },
  {
   "attachments": {},
   "cell_type": "markdown",
   "metadata": {},
   "source": [
    "ADAGRAD (ADAptive GRADient) is a variation of the SGD method in which the learning rate is adapted for each feature in the dataset (3 feature in this case): it assigns a higher learning rate to infrequent features, and a smaller learning rate to features that appears very frequently.\n",
    "\n",
    "I don't think that in this case ADAGRAD would be helpful due to the small size of features in the dataset and the experimental fact that the plain SGD also performs very well."
   ]
  },
  {
   "cell_type": "code",
   "execution_count": 110,
   "metadata": {},
   "outputs": [
    {
     "name": "stdout",
     "output_type": "stream",
     "text": [
      "110.0\n",
      "89.49255\n",
      "[[1.1624695]\n",
      " [1.1847999]\n",
      " [1.1371391]]\n"
     ]
    }
   ],
   "source": [
    "beta = np.array([[1.0, 1.0, 1.0]]).T\n",
    "delta = 1.0e-7\n",
    "n_epochs = 2\n",
    "learning_rate = 0.1\n",
    "print(loss_jit(X, beta, y))\n",
    "r = np.zeros(beta.shape)\n",
    "for epoch in range(n_epochs):\n",
    "    i = epoch % X.shape[0]\n",
    "\n",
    "    grad = dloss_jit(X[i], beta, y[i])\n",
    "    r += grad * grad\n",
    "    beta -= learning_rate / (delta + np.sqrt(r)) * grad\n",
    "\n",
    "\n",
    "print(loss_jit(X, beta, y))\n",
    "print(beta)"
   ]
  },
  {
   "cell_type": "code",
   "execution_count": 23,
   "metadata": {},
   "outputs": [
    {
     "name": "stdout",
     "output_type": "stream",
     "text": [
      "[[3.]\n",
      " [2.]\n",
      " [3.]]\n",
      "5.364254e-29\n"
     ]
    }
   ],
   "source": [
    "w_ls = np.linalg.pinv(X) @ y\n",
    "\n",
    "print(w_ls)\n",
    "print(loss(X, w_ls, y))"
   ]
  }
 ],
 "metadata": {
  "kernelspec": {
   "display_name": "NAML",
   "language": "python",
   "name": "python3"
  },
  "language_info": {
   "codemirror_mode": {
    "name": "ipython",
    "version": 3
   },
   "file_extension": ".py",
   "mimetype": "text/x-python",
   "name": "python",
   "nbconvert_exporter": "python",
   "pygments_lexer": "ipython3",
   "version": "3.10.11"
  },
  "orig_nbformat": 4
 },
 "nbformat": 4,
 "nbformat_minor": 2
}
