{
 "cells": [
  {
   "cell_type": "code",
   "execution_count": 57,
   "metadata": {},
   "outputs": [
    {
     "data": {
      "text/html": [
       "<div>\n",
       "<style scoped>\n",
       "    .dataframe tbody tr th:only-of-type {\n",
       "        vertical-align: middle;\n",
       "    }\n",
       "\n",
       "    .dataframe tbody tr th {\n",
       "        vertical-align: top;\n",
       "    }\n",
       "\n",
       "    .dataframe thead th {\n",
       "        text-align: right;\n",
       "    }\n",
       "</style>\n",
       "<table border=\"1\" class=\"dataframe\">\n",
       "  <thead>\n",
       "    <tr style=\"text-align: right;\">\n",
       "      <th></th>\n",
       "      <th>Id</th>\n",
       "      <th>RI</th>\n",
       "      <th>Na</th>\n",
       "      <th>Mg</th>\n",
       "      <th>Al</th>\n",
       "      <th>Si</th>\n",
       "      <th>K</th>\n",
       "      <th>Ca</th>\n",
       "      <th>Ba</th>\n",
       "      <th>Fe</th>\n",
       "      <th>Type</th>\n",
       "    </tr>\n",
       "  </thead>\n",
       "  <tbody>\n",
       "    <tr>\n",
       "      <th>0</th>\n",
       "      <td>1</td>\n",
       "      <td>1.52101</td>\n",
       "      <td>13.64</td>\n",
       "      <td>4.49</td>\n",
       "      <td>1.10</td>\n",
       "      <td>71.78</td>\n",
       "      <td>0.06</td>\n",
       "      <td>8.75</td>\n",
       "      <td>0.0</td>\n",
       "      <td>0.0</td>\n",
       "      <td>1</td>\n",
       "    </tr>\n",
       "    <tr>\n",
       "      <th>1</th>\n",
       "      <td>2</td>\n",
       "      <td>1.51761</td>\n",
       "      <td>13.89</td>\n",
       "      <td>3.60</td>\n",
       "      <td>1.36</td>\n",
       "      <td>72.73</td>\n",
       "      <td>0.48</td>\n",
       "      <td>7.83</td>\n",
       "      <td>0.0</td>\n",
       "      <td>0.0</td>\n",
       "      <td>1</td>\n",
       "    </tr>\n",
       "    <tr>\n",
       "      <th>2</th>\n",
       "      <td>3</td>\n",
       "      <td>1.51618</td>\n",
       "      <td>13.53</td>\n",
       "      <td>3.55</td>\n",
       "      <td>1.54</td>\n",
       "      <td>72.99</td>\n",
       "      <td>0.39</td>\n",
       "      <td>7.78</td>\n",
       "      <td>0.0</td>\n",
       "      <td>0.0</td>\n",
       "      <td>1</td>\n",
       "    </tr>\n",
       "    <tr>\n",
       "      <th>3</th>\n",
       "      <td>4</td>\n",
       "      <td>1.51766</td>\n",
       "      <td>13.21</td>\n",
       "      <td>3.69</td>\n",
       "      <td>1.29</td>\n",
       "      <td>72.61</td>\n",
       "      <td>0.57</td>\n",
       "      <td>8.22</td>\n",
       "      <td>0.0</td>\n",
       "      <td>0.0</td>\n",
       "      <td>1</td>\n",
       "    </tr>\n",
       "    <tr>\n",
       "      <th>4</th>\n",
       "      <td>5</td>\n",
       "      <td>1.51742</td>\n",
       "      <td>13.27</td>\n",
       "      <td>3.62</td>\n",
       "      <td>1.24</td>\n",
       "      <td>73.08</td>\n",
       "      <td>0.55</td>\n",
       "      <td>8.07</td>\n",
       "      <td>0.0</td>\n",
       "      <td>0.0</td>\n",
       "      <td>1</td>\n",
       "    </tr>\n",
       "  </tbody>\n",
       "</table>\n",
       "</div>"
      ],
      "text/plain": [
       "   Id       RI     Na    Mg    Al     Si     K    Ca   Ba   Fe  Type\n",
       "0   1  1.52101  13.64  4.49  1.10  71.78  0.06  8.75  0.0  0.0     1\n",
       "1   2  1.51761  13.89  3.60  1.36  72.73  0.48  7.83  0.0  0.0     1\n",
       "2   3  1.51618  13.53  3.55  1.54  72.99  0.39  7.78  0.0  0.0     1\n",
       "3   4  1.51766  13.21  3.69  1.29  72.61  0.57  8.22  0.0  0.0     1\n",
       "4   5  1.51742  13.27  3.62  1.24  73.08  0.55  8.07  0.0  0.0     1"
      ]
     },
     "execution_count": 57,
     "metadata": {},
     "output_type": "execute_result"
    }
   ],
   "source": [
    "import pandas as pd\n",
    "import numpy as np\n",
    "import matplotlib.pyplot as plt\n",
    "\n",
    "data = pd.read_csv(\n",
    "    \"glass.data\",\n",
    "    names=[\"Id\", \"RI\", \"Na\", \"Mg\", \"Al\", \"Si\", \"K\", \"Ca\", \"Ba\", \"Fe\", \"Type\"],\n",
    ")\n",
    "data.head()"
   ]
  },
  {
   "attachments": {},
   "cell_type": "markdown",
   "metadata": {},
   "source": [
    "Extract the samples of type class 1 (building_windows_float_processed) and 7 (headlamps). How many samples belong to the two groups?"
   ]
  },
  {
   "cell_type": "code",
   "execution_count": 58,
   "metadata": {},
   "outputs": [
    {
     "name": "stdout",
     "output_type": "stream",
     "text": [
      "0      1\n",
      "1      1\n",
      "2      1\n",
      "3      1\n",
      "4      1\n",
      "      ..\n",
      "209    7\n",
      "210    7\n",
      "211    7\n",
      "212    7\n",
      "213    7\n",
      "Name: Type, Length: 214, dtype: int64\n"
     ]
    }
   ],
   "source": [
    "print(data[\"Type\"])"
   ]
  },
  {
   "cell_type": "code",
   "execution_count": 59,
   "metadata": {},
   "outputs": [
    {
     "name": "stdout",
     "output_type": "stream",
     "text": [
      "<class 'pandas.core.frame.DataFrame'>\n",
      "Int64Index: 70 entries, 0 to 69\n",
      "Data columns (total 11 columns):\n",
      " #   Column  Non-Null Count  Dtype  \n",
      "---  ------  --------------  -----  \n",
      " 0   Id      70 non-null     int64  \n",
      " 1   RI      70 non-null     float64\n",
      " 2   Na      70 non-null     float64\n",
      " 3   Mg      70 non-null     float64\n",
      " 4   Al      70 non-null     float64\n",
      " 5   Si      70 non-null     float64\n",
      " 6   K       70 non-null     float64\n",
      " 7   Ca      70 non-null     float64\n",
      " 8   Ba      70 non-null     float64\n",
      " 9   Fe      70 non-null     float64\n",
      " 10  Type    70 non-null     int64  \n",
      "dtypes: float64(9), int64(2)\n",
      "memory usage: 6.6 KB\n",
      "None\n",
      "<class 'pandas.core.frame.DataFrame'>\n",
      "Int64Index: 29 entries, 185 to 213\n",
      "Data columns (total 11 columns):\n",
      " #   Column  Non-Null Count  Dtype  \n",
      "---  ------  --------------  -----  \n",
      " 0   Id      29 non-null     int64  \n",
      " 1   RI      29 non-null     float64\n",
      " 2   Na      29 non-null     float64\n",
      " 3   Mg      29 non-null     float64\n",
      " 4   Al      29 non-null     float64\n",
      " 5   Si      29 non-null     float64\n",
      " 6   K       29 non-null     float64\n",
      " 7   Ca      29 non-null     float64\n",
      " 8   Ba      29 non-null     float64\n",
      " 9   Fe      29 non-null     float64\n",
      " 10  Type    29 non-null     int64  \n",
      "dtypes: float64(9), int64(2)\n",
      "memory usage: 2.7 KB\n",
      "None\n",
      "<bound method DataFrame.info of       Id       RI     Na    Mg    Al     Si     K    Ca    Ba   Fe  Type\n",
      "0      1  1.52101  13.64  4.49  1.10  71.78  0.06  8.75  0.00  0.0     1\n",
      "1      2  1.51761  13.89  3.60  1.36  72.73  0.48  7.83  0.00  0.0     1\n",
      "2      3  1.51618  13.53  3.55  1.54  72.99  0.39  7.78  0.00  0.0     1\n",
      "3      4  1.51766  13.21  3.69  1.29  72.61  0.57  8.22  0.00  0.0     1\n",
      "4      5  1.51742  13.27  3.62  1.24  73.08  0.55  8.07  0.00  0.0     1\n",
      "..   ...      ...    ...   ...   ...    ...   ...   ...   ...  ...   ...\n",
      "209  210  1.51623  14.14  0.00  2.88  72.61  0.08  9.18  1.06  0.0     7\n",
      "210  211  1.51685  14.92  0.00  1.99  73.06  0.00  8.40  1.59  0.0     7\n",
      "211  212  1.52065  14.36  0.00  2.02  73.42  0.00  8.44  1.64  0.0     7\n",
      "212  213  1.51651  14.38  0.00  1.94  73.61  0.00  8.48  1.57  0.0     7\n",
      "213  214  1.51711  14.23  0.00  2.08  73.36  0.00  8.62  1.67  0.0     7\n",
      "\n",
      "[99 rows x 11 columns]>\n"
     ]
    }
   ],
   "source": [
    "type_class_1 = data[data[\"Type\"] == 1]\n",
    "type_class_7 = data[data[\"Type\"] == 7]\n",
    "print(type_class_1.info())\n",
    "print(type_class_7.info())\n",
    "\n",
    "mask_1_7 = np.logical_or(data[\"Type\"] == 1, data[\"Type\"] == 7)\n",
    "data_filtered = data[mask_1_7]\n",
    "print(data_filtered.info)"
   ]
  },
  {
   "attachments": {},
   "cell_type": "markdown",
   "metadata": {},
   "source": [
    "There are 70 samples of type \"building_windows_float_processed\" and 29 of type \"building_windows_float_processed\"."
   ]
  },
  {
   "attachments": {},
   "cell_type": "markdown",
   "metadata": {},
   "source": [
    "Normalize the data."
   ]
  },
  {
   "cell_type": "code",
   "execution_count": 60,
   "metadata": {},
   "outputs": [
    {
     "data": {
      "text/html": [
       "<div>\n",
       "<style scoped>\n",
       "    .dataframe tbody tr th:only-of-type {\n",
       "        vertical-align: middle;\n",
       "    }\n",
       "\n",
       "    .dataframe tbody tr th {\n",
       "        vertical-align: top;\n",
       "    }\n",
       "\n",
       "    .dataframe thead th {\n",
       "        text-align: right;\n",
       "    }\n",
       "</style>\n",
       "<table border=\"1\" class=\"dataframe\">\n",
       "  <thead>\n",
       "    <tr style=\"text-align: right;\">\n",
       "      <th></th>\n",
       "      <th>Id</th>\n",
       "      <th>RI</th>\n",
       "      <th>Na</th>\n",
       "      <th>Mg</th>\n",
       "      <th>Al</th>\n",
       "      <th>Si</th>\n",
       "      <th>K</th>\n",
       "      <th>Ca</th>\n",
       "      <th>Ba</th>\n",
       "      <th>Fe</th>\n",
       "      <th>Type</th>\n",
       "    </tr>\n",
       "  </thead>\n",
       "  <tbody>\n",
       "    <tr>\n",
       "      <th>0</th>\n",
       "      <td>-1.069778</td>\n",
       "      <td>1.126268</td>\n",
       "      <td>0.059169</td>\n",
       "      <td>1.200193</td>\n",
       "      <td>-0.628449</td>\n",
       "      <td>-1.322348</td>\n",
       "      <td>-0.870066</td>\n",
       "      <td>0.058524</td>\n",
       "      <td>-0.528456</td>\n",
       "      <td>-0.560214</td>\n",
       "      <td>-0.640391</td>\n",
       "    </tr>\n",
       "    <tr>\n",
       "      <th>1</th>\n",
       "      <td>-1.056841</td>\n",
       "      <td>-0.260656</td>\n",
       "      <td>0.378917</td>\n",
       "      <td>0.613448</td>\n",
       "      <td>-0.154488</td>\n",
       "      <td>0.013063</td>\n",
       "      <td>0.169214</td>\n",
       "      <td>-1.213640</td>\n",
       "      <td>-0.528456</td>\n",
       "      <td>-0.560214</td>\n",
       "      <td>-0.640391</td>\n",
       "    </tr>\n",
       "    <tr>\n",
       "      <th>2</th>\n",
       "      <td>-1.043903</td>\n",
       "      <td>-0.843980</td>\n",
       "      <td>-0.081519</td>\n",
       "      <td>0.580485</td>\n",
       "      <td>0.173638</td>\n",
       "      <td>0.378544</td>\n",
       "      <td>-0.053489</td>\n",
       "      <td>-1.282779</td>\n",
       "      <td>-0.528456</td>\n",
       "      <td>-0.560214</td>\n",
       "      <td>-0.640391</td>\n",
       "    </tr>\n",
       "    <tr>\n",
       "      <th>3</th>\n",
       "      <td>-1.030965</td>\n",
       "      <td>-0.240260</td>\n",
       "      <td>-0.490796</td>\n",
       "      <td>0.672782</td>\n",
       "      <td>-0.282093</td>\n",
       "      <td>-0.155620</td>\n",
       "      <td>0.391917</td>\n",
       "      <td>-0.674353</td>\n",
       "      <td>-0.528456</td>\n",
       "      <td>-0.560214</td>\n",
       "      <td>-0.640391</td>\n",
       "    </tr>\n",
       "    <tr>\n",
       "      <th>4</th>\n",
       "      <td>-1.018028</td>\n",
       "      <td>-0.338161</td>\n",
       "      <td>-0.414057</td>\n",
       "      <td>0.626633</td>\n",
       "      <td>-0.373240</td>\n",
       "      <td>0.505056</td>\n",
       "      <td>0.342428</td>\n",
       "      <td>-0.881771</td>\n",
       "      <td>-0.528456</td>\n",
       "      <td>-0.560214</td>\n",
       "      <td>-0.640391</td>\n",
       "    </tr>\n",
       "  </tbody>\n",
       "</table>\n",
       "</div>"
      ],
      "text/plain": [
       "         Id        RI        Na        Mg        Al        Si         K  \\\n",
       "0 -1.069778  1.126268  0.059169  1.200193 -0.628449 -1.322348 -0.870066   \n",
       "1 -1.056841 -0.260656  0.378917  0.613448 -0.154488  0.013063  0.169214   \n",
       "2 -1.043903 -0.843980 -0.081519  0.580485  0.173638  0.378544 -0.053489   \n",
       "3 -1.030965 -0.240260 -0.490796  0.672782 -0.282093 -0.155620  0.391917   \n",
       "4 -1.018028 -0.338161 -0.414057  0.626633 -0.373240  0.505056  0.342428   \n",
       "\n",
       "         Ca        Ba        Fe      Type  \n",
       "0  0.058524 -0.528456 -0.560214 -0.640391  \n",
       "1 -1.213640 -0.528456 -0.560214 -0.640391  \n",
       "2 -1.282779 -0.528456 -0.560214 -0.640391  \n",
       "3 -0.674353 -0.528456 -0.560214 -0.640391  \n",
       "4 -0.881771 -0.528456 -0.560214 -0.640391  "
      ]
     },
     "execution_count": 60,
     "metadata": {},
     "output_type": "execute_result"
    }
   ],
   "source": [
    "data_mean = data_filtered.mean()\n",
    "data_std = data_filtered.std()\n",
    "\n",
    "normalized_data = (data_filtered - data_mean) / data_std\n",
    "\n",
    "normalized_data.head()"
   ]
  },
  {
   "attachments": {},
   "cell_type": "markdown",
   "metadata": {},
   "source": [
    "Perform PCA on the dataset by means of the SVD and plot the trend of the singular values, the cumulative fraction and the explained variance."
   ]
  },
  {
   "cell_type": "code",
   "execution_count": 61,
   "metadata": {},
   "outputs": [
    {
     "name": "stdout",
     "output_type": "stream",
     "text": [
      "(99, 9)\n"
     ]
    },
    {
     "data": {
      "text/plain": [
       "Text(0.5, 1.0, 'explained variance')"
      ]
     },
     "execution_count": 61,
     "metadata": {},
     "output_type": "execute_result"
    },
    {
     "data": {
      "image/png": "[encoded data removed]",
      "text/plain": [
       "<Figure size 1800x600 with 3 Axes>"
      ]
     },
     "metadata": {},
     "output_type": "display_data"
    }
   ],
   "source": [
    "data_np = normalized_data.to_numpy()\n",
    "attributes = [\"RI\", \"Na\", \"Mg\", \"Al\", \"Si\", \"K\", \"Ca\", \"Ba\", \"Fe\"]\n",
    "# Remove the ID column\n",
    "data_np = data_np[:, 1:-1]\n",
    "print(data_np.shape)\n",
    "\n",
    "U, s, VT = np.linalg.svd(data_np)\n",
    "\n",
    "fig, axs = plt.subplots(nrows=1, ncols=3, figsize=(18, 6))\n",
    "axs[0].semilogy(s, \"o-\")\n",
    "axs[0].set_title(\"singular values\")\n",
    "axs[1].semilogy(np.cumsum(s) / np.sum(s), \"o-\")\n",
    "axs[1].set_title(\"cumulative fraction\")\n",
    "axs[2].semilogy(np.cumsum(s**2) / np.sum(s**2), \"o-\")\n",
    "axs[2].set_title(\"explained variance\")"
   ]
  },
  {
   "attachments": {},
   "cell_type": "markdown",
   "metadata": {},
   "source": [
    "Compute a matrix containing the principal components associated with the dataset."
   ]
  },
  {
   "cell_type": "code",
   "execution_count": 62,
   "metadata": {},
   "outputs": [
    {
     "name": "stdout",
     "output_type": "stream",
     "text": [
      "(99, 9)\n"
     ]
    }
   ],
   "source": [
    "PHI = data_np @ VT.T\n",
    "print(PHI.shape)"
   ]
  },
  {
   "attachments": {},
   "cell_type": "markdown",
   "metadata": {},
   "source": [
    "Generate a scatterplot of the first two principal components of the dataset, grouped by label."
   ]
  },
  {
   "cell_type": "code",
   "execution_count": 63,
   "metadata": {},
   "outputs": [
    {
     "data": {
      "text/plain": [
       "<matplotlib.legend.Legend at 0x7fea18f47550>"
      ]
     },
     "execution_count": 63,
     "metadata": {},
     "output_type": "execute_result"
    },
    {
     "data": {
      "image/png": "[encoded data removed]",
      "text/plain": [
       "<Figure size 640x480 with 1 Axes>"
      ]
     },
     "metadata": {},
     "output_type": "display_data"
    }
   ],
   "source": [
    "plt.scatter(\n",
    "    PHI[data_filtered[\"Type\"] == 1, 0],\n",
    "    PHI[data_filtered[\"Type\"] == 1, 1],\n",
    "    label=\"Class: 1\",\n",
    ")\n",
    "plt.scatter(\n",
    "    PHI[data_filtered[\"Type\"] == 7, 0],\n",
    "    PHI[data_filtered[\"Type\"] == 7, 1],\n",
    "    label=\"Class: 7\",\n",
    ")\n",
    "plt.legend()"
   ]
  },
  {
   "attachments": {},
   "cell_type": "markdown",
   "metadata": {},
   "source": [
    "Consider now the first principle component. By looking at the components of the first principal direction, do you expect building windows float processed glasses to have a large or small concentration of magnesium and aluminium, respectively? And what about headlamps glasses?"
   ]
  },
  {
   "attachments": {},
   "cell_type": "markdown",
   "metadata": {},
   "source": [
    "Columns of V are the left singular vectors, and are the principal directions."
   ]
  },
  {
   "cell_type": "code",
   "execution_count": 64,
   "metadata": {},
   "outputs": [
    {
     "name": "stdout",
     "output_type": "stream",
     "text": [
      "(9, 9)\n"
     ]
    }
   ],
   "source": [
    "V = VT.T\n",
    "print(V.shape)"
   ]
  },
  {
   "cell_type": "code",
   "execution_count": 65,
   "metadata": {},
   "outputs": [
    {
     "data": {
      "text/html": [
       "<div>\n",
       "<style scoped>\n",
       "    .dataframe tbody tr th:only-of-type {\n",
       "        vertical-align: middle;\n",
       "    }\n",
       "\n",
       "    .dataframe tbody tr th {\n",
       "        vertical-align: top;\n",
       "    }\n",
       "\n",
       "    .dataframe thead th {\n",
       "        text-align: right;\n",
       "    }\n",
       "</style>\n",
       "<table border=\"1\" class=\"dataframe\">\n",
       "  <thead>\n",
       "    <tr style=\"text-align: right;\">\n",
       "      <th></th>\n",
       "      <th>attribute</th>\n",
       "      <th>1st dir.</th>\n",
       "    </tr>\n",
       "  </thead>\n",
       "  <tbody>\n",
       "    <tr>\n",
       "      <th>0</th>\n",
       "      <td>RI</td>\n",
       "      <td>-0.329633</td>\n",
       "    </tr>\n",
       "    <tr>\n",
       "      <th>1</th>\n",
       "      <td>Na</td>\n",
       "      <td>0.324806</td>\n",
       "    </tr>\n",
       "    <tr>\n",
       "      <th>2</th>\n",
       "      <td>Mg</td>\n",
       "      <td>-0.485575</td>\n",
       "    </tr>\n",
       "    <tr>\n",
       "      <th>3</th>\n",
       "      <td>Al</td>\n",
       "      <td>0.475118</td>\n",
       "    </tr>\n",
       "    <tr>\n",
       "      <th>4</th>\n",
       "      <td>Si</td>\n",
       "      <td>0.247701</td>\n",
       "    </tr>\n",
       "    <tr>\n",
       "      <th>5</th>\n",
       "      <td>K</td>\n",
       "      <td>-0.075897</td>\n",
       "    </tr>\n",
       "    <tr>\n",
       "      <th>6</th>\n",
       "      <td>Ca</td>\n",
       "      <td>-0.225984</td>\n",
       "    </tr>\n",
       "    <tr>\n",
       "      <th>7</th>\n",
       "      <td>Ba</td>\n",
       "      <td>0.432669</td>\n",
       "    </tr>\n",
       "    <tr>\n",
       "      <th>8</th>\n",
       "      <td>Fe</td>\n",
       "      <td>-0.137605</td>\n",
       "    </tr>\n",
       "  </tbody>\n",
       "</table>\n",
       "</div>"
      ],
      "text/plain": [
       "  attribute  1st dir.\n",
       "0        RI -0.329633\n",
       "1        Na  0.324806\n",
       "2        Mg -0.485575\n",
       "3        Al  0.475118\n",
       "4        Si  0.247701\n",
       "5         K -0.075897\n",
       "6        Ca -0.225984\n",
       "7        Ba  0.432669\n",
       "8        Fe -0.137605"
      ]
     },
     "execution_count": 65,
     "metadata": {},
     "output_type": "execute_result"
    }
   ],
   "source": [
    "pd.DataFrame({\"attribute\": attributes, \"1st dir.\": V[:, 0]})"
   ]
  },
  {
   "attachments": {},
   "cell_type": "markdown",
   "metadata": {},
   "source": [
    "As we can see from the scatter plot of the samples of class 1, they all have a first principal component that is below 0, while samples of class 7 have a first principal component that is above 0.\n",
    "\n",
    "We can see that along the first direction the Magnesium has a negative weight, while Aluminum has a positive one: this may suggest that samples from class 1 (\"building_windows_float_processed\"), since they all have a negative first principal component, have a higher concentration of Magnesium, while on the other hand samples from class 2 (\"headlamps\"), which all have positive principal components, have a higher concentration of Aluminium."
   ]
  },
  {
   "cell_type": "code",
   "execution_count": 79,
   "metadata": {},
   "outputs": [
    {
     "name": "stdout",
     "output_type": "stream",
     "text": [
      "      Mg    Al\n",
      "0   4.49  1.10\n",
      "1   3.60  1.36\n",
      "2   3.55  1.54\n",
      "3   3.69  1.29\n",
      "4   3.62  1.24\n",
      "..   ...   ...\n",
      "65  3.59  1.12\n",
      "66  3.65  0.87\n",
      "67  3.65  0.87\n",
      "68  3.58  0.90\n",
      "69  3.58  0.82\n",
      "\n",
      "[70 rows x 2 columns]\n"
     ]
    }
   ],
   "source": [
    "print(data[data[\"Type\"] == 1][[\"Mg\", \"Al\"]])"
   ]
  },
  {
   "cell_type": "code",
   "execution_count": 78,
   "metadata": {},
   "outputs": [
    {
     "name": "stdout",
     "output_type": "stream",
     "text": [
      "       Mg    Al\n",
      "185  3.20  1.81\n",
      "186  3.26  2.22\n",
      "187  3.34  1.23\n",
      "188  2.20  2.06\n",
      "189  1.83  1.31\n",
      "190  1.78  1.79\n",
      "191  0.00  2.38\n",
      "192  0.00  2.79\n",
      "193  0.00  2.00\n",
      "194  0.00  1.98\n",
      "195  0.00  2.68\n",
      "196  0.00  2.54\n",
      "197  0.00  2.34\n",
      "198  0.00  2.66\n",
      "199  0.00  2.51\n",
      "200  0.00  2.25\n",
      "201  0.00  1.19\n",
      "202  0.00  2.42\n",
      "203  0.00  1.99\n",
      "204  0.00  2.27\n",
      "205  0.00  1.80\n",
      "206  0.00  1.87\n",
      "207  0.00  1.82\n",
      "208  0.00  2.74\n",
      "209  0.00  2.88\n",
      "210  0.00  1.99\n",
      "211  0.00  2.02\n",
      "212  0.00  1.94\n",
      "213  0.00  2.08\n"
     ]
    }
   ],
   "source": [
    "print(data[data[\"Type\"] == 7][[\"Mg\", \"Al\"]])"
   ]
  },
  {
   "attachments": {},
   "cell_type": "markdown",
   "metadata": {},
   "source": [
    "As we can see, this is supported by the original data."
   ]
  }
 ],
 "metadata": {
  "kernelspec": {
   "display_name": "NAML",
   "language": "python",
   "name": "python3"
  },
  "language_info": {
   "codemirror_mode": {
    "name": "ipython",
    "version": 3
   },
   "file_extension": ".py",
   "mimetype": "text/x-python",
   "name": "python",
   "nbconvert_exporter": "python",
   "pygments_lexer": "ipython3",
   "version": "3.10.11"
  },
  "orig_nbformat": 4
 },
 "nbformat": 4,
 "nbformat_minor": 2
}
