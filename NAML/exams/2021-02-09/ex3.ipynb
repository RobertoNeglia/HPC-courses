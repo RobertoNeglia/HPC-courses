{
 "cells": [
  {
   "cell_type": "code",
   "execution_count": 1,
   "metadata": {},
   "outputs": [
    {
     "data": {
      "text/plain": [
       "Array([-0.00495631, -0.00867354], dtype=float32)"
      ]
     },
     "execution_count": 1,
     "metadata": {},
     "output_type": "execute_result"
    }
   ],
   "source": [
    "import jax\n",
    "import jax.numpy as jnp\n",
    "\n",
    "x = jnp.array([1.0, 1.0])\n",
    "w = jnp.array([4 / 5, 7 / 5])\n",
    "b0 = 3 / 5\n",
    "y = 1.0\n",
    "\n",
    "sigmoid = lambda x: 1 / (1 + jnp.e ** (-x))\n",
    "y_hat = lambda x: sigmoid(jnp.dot(w, x) + b0)\n",
    "MSE = lambda x, y: (y_hat(x) - y) ** 2\n",
    "\n",
    "MSE_grad = jax.jit(jax.grad(MSE, argnums=0))\n",
    "\n",
    "MSE_grad(x, y)"
   ]
  }
 ],
 "metadata": {
  "kernelspec": {
   "display_name": "NAML",
   "language": "python",
   "name": "python3"
  },
  "language_info": {
   "codemirror_mode": {
    "name": "ipython",
    "version": 3
   },
   "file_extension": ".py",
   "mimetype": "text/x-python",
   "name": "python",
   "nbconvert_exporter": "python",
   "pygments_lexer": "ipython3",
   "version": "3.10.10"
  },
  "orig_nbformat": 4
 },
 "nbformat": 4,
 "nbformat_minor": 2
}
