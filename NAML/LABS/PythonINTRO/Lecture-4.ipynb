{
  "nbformat": 4,
  "nbformat_minor": 0,
  "metadata": {
    "kernelspec": {
      "display_name": "Python 3",
      "language": "python",
      "name": "python3"
    },
    "language_info": {
      "codemirror_mode": {
        "name": "ipython",
        "version": 3
      },
      "file_extension": ".py",
      "mimetype": "text/x-python",
      "name": "python",
      "nbconvert_exporter": "python",
      "pygments_lexer": "ipython3",
      "version": "3.8.5"
    },
    "colab": {
      "name": "Lecture-4.ipynb",
      "provenance": []
    }
  },
  "cells": [
    {
      "cell_type": "markdown",
      "metadata": {
        "id": "x1IfKfRBOzSa"
      },
      "source": [
        "## Linear algebra"
      ]
    },
    {
      "cell_type": "markdown",
      "metadata": {
        "id": "_oQ77T0vOzSc"
      },
      "source": [
        "Vectorizing code is the key to writing efficient numerical calculation with Python/Numpy. That means that as much as possible of a program should be formulated in terms of matrix and vector operations, like matrix-matrix multiplication."
      ]
    },
    {
      "cell_type": "code",
      "metadata": {
        "id": "Tm-QHPreOzSc"
      },
      "source": [
        "import numpy as np"
      ],
      "execution_count": null,
      "outputs": []
    },
    {
      "cell_type": "markdown",
      "metadata": {
        "id": "EgsqyA4-OzSd"
      },
      "source": [
        "### Scalar-array operations"
      ]
    },
    {
      "cell_type": "markdown",
      "metadata": {
        "id": "X8gE48ZNOzSd"
      },
      "source": [
        "We can use the usual arithmetic operators to multiply, add, subtract, and divide arrays with scalar numbers."
      ]
    },
    {
      "cell_type": "code",
      "metadata": {
        "id": "KFkKoY4cOzSd",
        "outputId": "caf43a84-826d-435d-fba4-37a3c6aca77a"
      },
      "source": [
        "v1 = np.arange(1, 4)\n",
        "print(v1)\n",
        "v2 = np.arange(3, 8)\n",
        "print(v2)"
      ],
      "execution_count": null,
      "outputs": [
        {
          "output_type": "stream",
          "text": [
            "[1 2 3]\n",
            "[3 4 5 6 7]\n"
          ],
          "name": "stdout"
        }
      ]
    },
    {
      "cell_type": "code",
      "metadata": {
        "id": "eSctWmsFOzSe",
        "outputId": "a0fa19c5-9c66-4523-d227-dfffedad72c1"
      },
      "source": [
        "v1 * 2"
      ],
      "execution_count": null,
      "outputs": [
        {
          "output_type": "execute_result",
          "data": {
            "text/plain": [
              "array([2, 4, 6])"
            ]
          },
          "metadata": {
            "tags": []
          },
          "execution_count": 3
        }
      ]
    },
    {
      "cell_type": "code",
      "metadata": {
        "id": "l0IMW7v3OzSf",
        "outputId": "d058bf6a-9683-4e29-aaf8-e2942f36c06a"
      },
      "source": [
        "v1 + 2"
      ],
      "execution_count": null,
      "outputs": [
        {
          "output_type": "execute_result",
          "data": {
            "text/plain": [
              "array([3, 4, 5])"
            ]
          },
          "metadata": {
            "tags": []
          },
          "execution_count": 4
        }
      ]
    },
    {
      "cell_type": "code",
      "metadata": {
        "id": "GXhSdXDgOzSf",
        "outputId": "f41b69b4-ba98-4f88-f9d2-63bf7016ee3c"
      },
      "source": [
        "A = np.arange(0, 9).reshape(3,3)\n",
        "print(A)"
      ],
      "execution_count": null,
      "outputs": [
        {
          "output_type": "stream",
          "text": [
            "[[0 1 2]\n",
            " [3 4 5]\n",
            " [6 7 8]]\n"
          ],
          "name": "stdout"
        }
      ]
    },
    {
      "cell_type": "code",
      "metadata": {
        "id": "Zl_smOFfOzSf",
        "outputId": "1efbaab4-2a4e-4445-a2bc-408051044dd0"
      },
      "source": [
        "A * 2"
      ],
      "execution_count": null,
      "outputs": [
        {
          "output_type": "execute_result",
          "data": {
            "text/plain": [
              "array([[ 0,  2,  4],\n",
              "       [ 6,  8, 10],\n",
              "       [12, 14, 16]])"
            ]
          },
          "metadata": {
            "tags": []
          },
          "execution_count": 6
        }
      ]
    },
    {
      "cell_type": "code",
      "metadata": {
        "id": "7oTD7AM4OzSg",
        "outputId": "c5ca892b-81d3-4603-dbb6-4209e7d777f9"
      },
      "source": [
        "A+2"
      ],
      "execution_count": null,
      "outputs": [
        {
          "output_type": "execute_result",
          "data": {
            "text/plain": [
              "array([[ 2,  3,  4],\n",
              "       [ 5,  6,  7],\n",
              "       [ 8,  9, 10]])"
            ]
          },
          "metadata": {
            "tags": []
          },
          "execution_count": 7
        }
      ]
    },
    {
      "cell_type": "markdown",
      "metadata": {
        "id": "_3SVFe3jOzSg"
      },
      "source": [
        "### Element-wise array-array operations"
      ]
    },
    {
      "cell_type": "markdown",
      "metadata": {
        "id": "swaNBGqAOzSg"
      },
      "source": [
        "When we add, subtract, multiply and divide arrays with each other, the default behaviour is **element-wise** operations:"
      ]
    },
    {
      "cell_type": "code",
      "metadata": {
        "id": "R18t1x74OzSg",
        "outputId": "7baaa202-2424-475d-d72b-aa53007af39b"
      },
      "source": [
        "A"
      ],
      "execution_count": null,
      "outputs": [
        {
          "output_type": "execute_result",
          "data": {
            "text/plain": [
              "array([[0, 1, 2],\n",
              "       [3, 4, 5],\n",
              "       [6, 7, 8]])"
            ]
          },
          "metadata": {
            "tags": []
          },
          "execution_count": 8
        }
      ]
    },
    {
      "cell_type": "code",
      "metadata": {
        "id": "VjHLMsHAOzSh",
        "outputId": "a08b5be1-95c5-4c99-e194-6f14e3319cd1"
      },
      "source": [
        "A * A # element-wise multiplication"
      ],
      "execution_count": null,
      "outputs": [
        {
          "output_type": "execute_result",
          "data": {
            "text/plain": [
              "array([[ 0,  1,  4],\n",
              "       [ 9, 16, 25],\n",
              "       [36, 49, 64]])"
            ]
          },
          "metadata": {
            "tags": []
          },
          "execution_count": 9
        }
      ]
    },
    {
      "cell_type": "code",
      "metadata": {
        "id": "F5FZu5YXOzSh"
      },
      "source": [
        "v1 * v1"
      ],
      "execution_count": null,
      "outputs": []
    },
    {
      "cell_type": "markdown",
      "metadata": {
        "id": "CUVsQhBrOzSh"
      },
      "source": [
        "If we multiply arrays with compatible shapes, we get an **element-wise** multiplication of each row:"
      ]
    },
    {
      "cell_type": "code",
      "metadata": {
        "id": "6AvDxD5bOzSh",
        "outputId": "5e741126-cb30-4190-c91d-51544ac96e1b"
      },
      "source": [
        "A.shape, v1.shape"
      ],
      "execution_count": null,
      "outputs": [
        {
          "output_type": "execute_result",
          "data": {
            "text/plain": [
              "((3, 3), (3,))"
            ]
          },
          "metadata": {
            "tags": []
          },
          "execution_count": 10
        }
      ]
    },
    {
      "cell_type": "code",
      "metadata": {
        "id": "xurFRTocOzSi",
        "outputId": "f9792323-e37f-4db5-a9ad-64ccca06c242"
      },
      "source": [
        "A"
      ],
      "execution_count": null,
      "outputs": [
        {
          "output_type": "execute_result",
          "data": {
            "text/plain": [
              "array([[0, 1, 2],\n",
              "       [3, 4, 5],\n",
              "       [6, 7, 8]])"
            ]
          },
          "metadata": {
            "tags": []
          },
          "execution_count": 11
        }
      ]
    },
    {
      "cell_type": "code",
      "metadata": {
        "id": "aLhuBlfoOzSi",
        "outputId": "e5c48fad-88a9-4e88-8e62-3338aa5806f3"
      },
      "source": [
        "v1.shape"
      ],
      "execution_count": null,
      "outputs": [
        {
          "output_type": "execute_result",
          "data": {
            "text/plain": [
              "(3,)"
            ]
          },
          "metadata": {
            "tags": []
          },
          "execution_count": 12
        }
      ]
    },
    {
      "cell_type": "code",
      "metadata": {
        "id": "ApZJh2KJOzSi",
        "outputId": "c542d9fc-551c-423d-820a-c73684eb8eb8"
      },
      "source": [
        "v1"
      ],
      "execution_count": null,
      "outputs": [
        {
          "output_type": "execute_result",
          "data": {
            "text/plain": [
              "array([1, 2, 3])"
            ]
          },
          "metadata": {
            "tags": []
          },
          "execution_count": 13
        }
      ]
    },
    {
      "cell_type": "code",
      "metadata": {
        "id": "P6Gjgsz-OzSi",
        "outputId": "63f48ab1-d52b-4f16-d5d4-810ea1b0d551"
      },
      "source": [
        "A * v1"
      ],
      "execution_count": null,
      "outputs": [
        {
          "output_type": "execute_result",
          "data": {
            "text/plain": [
              "array([[ 0,  2,  6],\n",
              "       [ 3,  8, 15],\n",
              "       [ 6, 14, 24]])"
            ]
          },
          "metadata": {
            "tags": []
          },
          "execution_count": 14
        }
      ]
    },
    {
      "cell_type": "markdown",
      "metadata": {
        "id": "UCS5kuOnOzSi"
      },
      "source": [
        "### Matrix algebra"
      ]
    },
    {
      "cell_type": "markdown",
      "metadata": {
        "id": "p9ooVrVmOzSj"
      },
      "source": [
        "#### Dot"
      ]
    },
    {
      "cell_type": "markdown",
      "metadata": {
        "id": "1VGqg9XNOzSj"
      },
      "source": [
        "What about matrix mutiplication? There are two ways. We can either use the `dot` function, which applies a matrix-matrix, matrix-vector, or inner vector multiplication to its two arguments: "
      ]
    },
    {
      "cell_type": "code",
      "metadata": {
        "id": "UTtQ7yzGOzSj",
        "outputId": "91e62136-f735-407f-e113-37557118f70a"
      },
      "source": [
        "A"
      ],
      "execution_count": null,
      "outputs": [
        {
          "output_type": "execute_result",
          "data": {
            "text/plain": [
              "array([[0, 1, 2],\n",
              "       [3, 4, 5],\n",
              "       [6, 7, 8]])"
            ]
          },
          "metadata": {
            "tags": []
          },
          "execution_count": 15
        }
      ]
    },
    {
      "cell_type": "code",
      "metadata": {
        "id": "cFm3GTYEOzSj",
        "outputId": "f136f5e3-08fd-498f-d96a-516f3d9589e6"
      },
      "source": [
        "np.dot(A, A)"
      ],
      "execution_count": null,
      "outputs": [
        {
          "output_type": "execute_result",
          "data": {
            "text/plain": [
              "array([[ 15,  18,  21],\n",
              "       [ 42,  54,  66],\n",
              "       [ 69,  90, 111]])"
            ]
          },
          "metadata": {
            "tags": []
          },
          "execution_count": 16
        }
      ]
    },
    {
      "cell_type": "code",
      "metadata": {
        "id": "QQtUqMJrOzSj",
        "outputId": "9317f3e2-7d13-48eb-a114-c366f9a680ba"
      },
      "source": [
        "np.dot(A, v1)"
      ],
      "execution_count": null,
      "outputs": [
        {
          "output_type": "execute_result",
          "data": {
            "text/plain": [
              "array([ 8, 26, 44])"
            ]
          },
          "metadata": {
            "tags": []
          },
          "execution_count": 18
        }
      ]
    },
    {
      "cell_type": "code",
      "metadata": {
        "id": "gAHoi076OzSj",
        "outputId": "3aa3e0eb-4446-418d-e82c-5a09b428fdf3"
      },
      "source": [
        "b=np.dot(v1, v1)\n",
        "#type(b)\n",
        "print(b)"
      ],
      "execution_count": null,
      "outputs": [
        {
          "output_type": "stream",
          "text": [
            "14\n"
          ],
          "name": "stdout"
        }
      ]
    },
    {
      "cell_type": "markdown",
      "metadata": {
        "id": "2RsG0TJuOzSk"
      },
      "source": [
        "#### Matrix type (deprecated)"
      ]
    },
    {
      "cell_type": "markdown",
      "metadata": {
        "id": "a8RGuu_dOzSk"
      },
      "source": [
        "Alternatively, we can cast the array objects to the type `matrix`. This changes the behavior of the standard arithmetic operators `+, -, *` to use matrix algebra. The use of `matrix` is deprecated."
      ]
    },
    {
      "cell_type": "code",
      "metadata": {
        "id": "WJ7bOXV9OzSk",
        "outputId": "b44c8626-5ebe-4ef1-e46d-785f8dd7e19c"
      },
      "source": [
        "help(np.matrix)"
      ],
      "execution_count": null,
      "outputs": [
        {
          "output_type": "stream",
          "text": [
            "Help on class matrix in module numpy:\n",
            "\n",
            "class matrix(ndarray)\n",
            " |  matrix(data, dtype=None, copy=True)\n",
            " |  \n",
            " |  matrix(data, dtype=None, copy=True)\n",
            " |  \n",
            " |  .. note:: It is no longer recommended to use this class, even for linear\n",
            " |            algebra. Instead use regular arrays. The class may be removed\n",
            " |            in the future.\n",
            " |  \n",
            " |  Returns a matrix from an array-like object, or from a string of data.\n",
            " |  A matrix is a specialized 2-D array that retains its 2-D nature\n",
            " |  through operations.  It has certain special operators, such as ``*``\n",
            " |  (matrix multiplication) and ``**`` (matrix power).\n",
            " |  \n",
            " |  Parameters\n",
            " |  ----------\n",
            " |  data : array_like or string\n",
            " |     If `data` is a string, it is interpreted as a matrix with commas\n",
            " |     or spaces separating columns, and semicolons separating rows.\n",
            " |  dtype : data-type\n",
            " |     Data-type of the output matrix.\n",
            " |  copy : bool\n",
            " |     If `data` is already an `ndarray`, then this flag determines\n",
            " |     whether the data is copied (the default), or whether a view is\n",
            " |     constructed.\n",
            " |  \n",
            " |  See Also\n",
            " |  --------\n",
            " |  array\n",
            " |  \n",
            " |  Examples\n",
            " |  --------\n",
            " |  >>> a = np.matrix('1 2; 3 4')\n",
            " |  >>> a\n",
            " |  matrix([[1, 2],\n",
            " |          [3, 4]])\n",
            " |  \n",
            " |  >>> np.matrix([[1, 2], [3, 4]])\n",
            " |  matrix([[1, 2],\n",
            " |          [3, 4]])\n",
            " |  \n",
            " |  Method resolution order:\n",
            " |      matrix\n",
            " |      ndarray\n",
            " |      builtins.object\n",
            " |  \n",
            " |  Methods defined here:\n",
            " |  \n",
            " |  __array_finalize__(self, obj)\n",
            " |      None.\n",
            " |  \n",
            " |  __getitem__(self, index)\n",
            " |      Return self[key].\n",
            " |  \n",
            " |  __imul__(self, other)\n",
            " |      Return self*=value.\n",
            " |  \n",
            " |  __ipow__(self, other)\n",
            " |      Return self**=value.\n",
            " |  \n",
            " |  __mul__(self, other)\n",
            " |      Return self*value.\n",
            " |  \n",
            " |  __pow__(self, other)\n",
            " |      Return pow(self, value, mod).\n",
            " |  \n",
            " |  __rmul__(self, other)\n",
            " |      Return value*self.\n",
            " |  \n",
            " |  __rpow__(self, other)\n",
            " |      Return pow(value, self, mod).\n",
            " |  \n",
            " |  all(self, axis=None, out=None)\n",
            " |      Test whether all matrix elements along a given axis evaluate to True.\n",
            " |      \n",
            " |      Parameters\n",
            " |      ----------\n",
            " |      See `numpy.all` for complete descriptions\n",
            " |      \n",
            " |      See Also\n",
            " |      --------\n",
            " |      numpy.all\n",
            " |      \n",
            " |      Notes\n",
            " |      -----\n",
            " |      This is the same as `ndarray.all`, but it returns a `matrix` object.\n",
            " |      \n",
            " |      Examples\n",
            " |      --------\n",
            " |      >>> x = np.matrix(np.arange(12).reshape((3,4))); x\n",
            " |      matrix([[ 0,  1,  2,  3],\n",
            " |              [ 4,  5,  6,  7],\n",
            " |              [ 8,  9, 10, 11]])\n",
            " |      >>> y = x[0]; y\n",
            " |      matrix([[0, 1, 2, 3]])\n",
            " |      >>> (x == y)\n",
            " |      matrix([[ True,  True,  True,  True],\n",
            " |              [False, False, False, False],\n",
            " |              [False, False, False, False]])\n",
            " |      >>> (x == y).all()\n",
            " |      False\n",
            " |      >>> (x == y).all(0)\n",
            " |      matrix([[False, False, False, False]])\n",
            " |      >>> (x == y).all(1)\n",
            " |      matrix([[ True],\n",
            " |              [False],\n",
            " |              [False]])\n",
            " |  \n",
            " |  any(self, axis=None, out=None)\n",
            " |      Test whether any array element along a given axis evaluates to True.\n",
            " |      \n",
            " |      Refer to `numpy.any` for full documentation.\n",
            " |      \n",
            " |      Parameters\n",
            " |      ----------\n",
            " |      axis : int, optional\n",
            " |          Axis along which logical OR is performed\n",
            " |      out : ndarray, optional\n",
            " |          Output to existing array instead of creating new one, must have\n",
            " |          same shape as expected output\n",
            " |      \n",
            " |      Returns\n",
            " |      -------\n",
            " |          any : bool, ndarray\n",
            " |              Returns a single bool if `axis` is ``None``; otherwise,\n",
            " |              returns `ndarray`\n",
            " |  \n",
            " |  argmax(self, axis=None, out=None)\n",
            " |      Indexes of the maximum values along an axis.\n",
            " |      \n",
            " |      Return the indexes of the first occurrences of the maximum values\n",
            " |      along the specified axis.  If axis is None, the index is for the\n",
            " |      flattened matrix.\n",
            " |      \n",
            " |      Parameters\n",
            " |      ----------\n",
            " |      See `numpy.argmax` for complete descriptions\n",
            " |      \n",
            " |      See Also\n",
            " |      --------\n",
            " |      numpy.argmax\n",
            " |      \n",
            " |      Notes\n",
            " |      -----\n",
            " |      This is the same as `ndarray.argmax`, but returns a `matrix` object\n",
            " |      where `ndarray.argmax` would return an `ndarray`.\n",
            " |      \n",
            " |      Examples\n",
            " |      --------\n",
            " |      >>> x = np.matrix(np.arange(12).reshape((3,4))); x\n",
            " |      matrix([[ 0,  1,  2,  3],\n",
            " |              [ 4,  5,  6,  7],\n",
            " |              [ 8,  9, 10, 11]])\n",
            " |      >>> x.argmax()\n",
            " |      11\n",
            " |      >>> x.argmax(0)\n",
            " |      matrix([[2, 2, 2, 2]])\n",
            " |      >>> x.argmax(1)\n",
            " |      matrix([[3],\n",
            " |              [3],\n",
            " |              [3]])\n",
            " |  \n",
            " |  argmin(self, axis=None, out=None)\n",
            " |      Indexes of the minimum values along an axis.\n",
            " |      \n",
            " |      Return the indexes of the first occurrences of the minimum values\n",
            " |      along the specified axis.  If axis is None, the index is for the\n",
            " |      flattened matrix.\n",
            " |      \n",
            " |      Parameters\n",
            " |      ----------\n",
            " |      See `numpy.argmin` for complete descriptions.\n",
            " |      \n",
            " |      See Also\n",
            " |      --------\n",
            " |      numpy.argmin\n",
            " |      \n",
            " |      Notes\n",
            " |      -----\n",
            " |      This is the same as `ndarray.argmin`, but returns a `matrix` object\n",
            " |      where `ndarray.argmin` would return an `ndarray`.\n",
            " |      \n",
            " |      Examples\n",
            " |      --------\n",
            " |      >>> x = -np.matrix(np.arange(12).reshape((3,4))); x\n",
            " |      matrix([[  0,  -1,  -2,  -3],\n",
            " |              [ -4,  -5,  -6,  -7],\n",
            " |              [ -8,  -9, -10, -11]])\n",
            " |      >>> x.argmin()\n",
            " |      11\n",
            " |      >>> x.argmin(0)\n",
            " |      matrix([[2, 2, 2, 2]])\n",
            " |      >>> x.argmin(1)\n",
            " |      matrix([[3],\n",
            " |              [3],\n",
            " |              [3]])\n",
            " |  \n",
            " |  flatten(self, order='C')\n",
            " |      Return a flattened copy of the matrix.\n",
            " |      \n",
            " |      All `N` elements of the matrix are placed into a single row.\n",
            " |      \n",
            " |      Parameters\n",
            " |      ----------\n",
            " |      order : {'C', 'F', 'A', 'K'}, optional\n",
            " |          'C' means to flatten in row-major (C-style) order. 'F' means to\n",
            " |          flatten in column-major (Fortran-style) order. 'A' means to\n",
            " |          flatten in column-major order if `m` is Fortran *contiguous* in\n",
            " |          memory, row-major order otherwise. 'K' means to flatten `m` in\n",
            " |          the order the elements occur in memory. The default is 'C'.\n",
            " |      \n",
            " |      Returns\n",
            " |      -------\n",
            " |      y : matrix\n",
            " |          A copy of the matrix, flattened to a `(1, N)` matrix where `N`\n",
            " |          is the number of elements in the original matrix.\n",
            " |      \n",
            " |      See Also\n",
            " |      --------\n",
            " |      ravel : Return a flattened array.\n",
            " |      flat : A 1-D flat iterator over the matrix.\n",
            " |      \n",
            " |      Examples\n",
            " |      --------\n",
            " |      >>> m = np.matrix([[1,2], [3,4]])\n",
            " |      >>> m.flatten()\n",
            " |      matrix([[1, 2, 3, 4]])\n",
            " |      >>> m.flatten('F')\n",
            " |      matrix([[1, 3, 2, 4]])\n",
            " |  \n",
            " |  getA = A(self)\n",
            " |      Return `self` as an `ndarray` object.\n",
            " |      \n",
            " |      Equivalent to ``np.asarray(self)``.\n",
            " |      \n",
            " |      Parameters\n",
            " |      ----------\n",
            " |      None\n",
            " |      \n",
            " |      Returns\n",
            " |      -------\n",
            " |      ret : ndarray\n",
            " |          `self` as an `ndarray`\n",
            " |      \n",
            " |      Examples\n",
            " |      --------\n",
            " |      >>> x = np.matrix(np.arange(12).reshape((3,4))); x\n",
            " |      matrix([[ 0,  1,  2,  3],\n",
            " |              [ 4,  5,  6,  7],\n",
            " |              [ 8,  9, 10, 11]])\n",
            " |      >>> x.getA()\n",
            " |      array([[ 0,  1,  2,  3],\n",
            " |             [ 4,  5,  6,  7],\n",
            " |             [ 8,  9, 10, 11]])\n",
            " |  \n",
            " |  getA1 = A1(self)\n",
            " |      Return `self` as a flattened `ndarray`.\n",
            " |      \n",
            " |      Equivalent to ``np.asarray(x).ravel()``\n",
            " |      \n",
            " |      Parameters\n",
            " |      ----------\n",
            " |      None\n",
            " |      \n",
            " |      Returns\n",
            " |      -------\n",
            " |      ret : ndarray\n",
            " |          `self`, 1-D, as an `ndarray`\n",
            " |      \n",
            " |      Examples\n",
            " |      --------\n",
            " |      >>> x = np.matrix(np.arange(12).reshape((3,4))); x\n",
            " |      matrix([[ 0,  1,  2,  3],\n",
            " |              [ 4,  5,  6,  7],\n",
            " |              [ 8,  9, 10, 11]])\n",
            " |      >>> x.getA1()\n",
            " |      array([ 0,  1,  2, ...,  9, 10, 11])\n",
            " |  \n",
            " |  getH = H(self)\n",
            " |      Returns the (complex) conjugate transpose of `self`.\n",
            " |      \n",
            " |      Equivalent to ``np.transpose(self)`` if `self` is real-valued.\n",
            " |      \n",
            " |      Parameters\n",
            " |      ----------\n",
            " |      None\n",
            " |      \n",
            " |      Returns\n",
            " |      -------\n",
            " |      ret : matrix object\n",
            " |          complex conjugate transpose of `self`\n",
            " |      \n",
            " |      Examples\n",
            " |      --------\n",
            " |      >>> x = np.matrix(np.arange(12).reshape((3,4)))\n",
            " |      >>> z = x - 1j*x; z\n",
            " |      matrix([[  0. +0.j,   1. -1.j,   2. -2.j,   3. -3.j],\n",
            " |              [  4. -4.j,   5. -5.j,   6. -6.j,   7. -7.j],\n",
            " |              [  8. -8.j,   9. -9.j,  10.-10.j,  11.-11.j]])\n",
            " |      >>> z.getH()\n",
            " |      matrix([[ 0. -0.j,  4. +4.j,  8. +8.j],\n",
            " |              [ 1. +1.j,  5. +5.j,  9. +9.j],\n",
            " |              [ 2. +2.j,  6. +6.j, 10.+10.j],\n",
            " |              [ 3. +3.j,  7. +7.j, 11.+11.j]])\n",
            " |  \n",
            " |  getI = I(self)\n",
            " |      Returns the (multiplicative) inverse of invertible `self`.\n",
            " |      \n",
            " |      Parameters\n",
            " |      ----------\n",
            " |      None\n",
            " |      \n",
            " |      Returns\n",
            " |      -------\n",
            " |      ret : matrix object\n",
            " |          If `self` is non-singular, `ret` is such that ``ret * self`` ==\n",
            " |          ``self * ret`` == ``np.matrix(np.eye(self[0,:].size)`` all return\n",
            " |          ``True``.\n",
            " |      \n",
            " |      Raises\n",
            " |      ------\n",
            " |      numpy.linalg.LinAlgError: Singular matrix\n",
            " |          If `self` is singular.\n",
            " |      \n",
            " |      See Also\n",
            " |      --------\n",
            " |      linalg.inv\n",
            " |      \n",
            " |      Examples\n",
            " |      --------\n",
            " |      >>> m = np.matrix('[1, 2; 3, 4]'); m\n",
            " |      matrix([[1, 2],\n",
            " |              [3, 4]])\n",
            " |      >>> m.getI()\n",
            " |      matrix([[-2. ,  1. ],\n",
            " |              [ 1.5, -0.5]])\n",
            " |      >>> m.getI() * m\n",
            " |      matrix([[ 1.,  0.], # may vary\n",
            " |              [ 0.,  1.]])\n",
            " |  \n",
            " |  getT = T(self)\n",
            " |      Returns the transpose of the matrix.\n",
            " |      \n",
            " |      Does *not* conjugate!  For the complex conjugate transpose, use ``.H``.\n",
            " |      \n",
            " |      Parameters\n",
            " |      ----------\n",
            " |      None\n",
            " |      \n",
            " |      Returns\n",
            " |      -------\n",
            " |      ret : matrix object\n",
            " |          The (non-conjugated) transpose of the matrix.\n",
            " |      \n",
            " |      See Also\n",
            " |      --------\n",
            " |      transpose, getH\n",
            " |      \n",
            " |      Examples\n",
            " |      --------\n",
            " |      >>> m = np.matrix('[1, 2; 3, 4]')\n",
            " |      >>> m\n",
            " |      matrix([[1, 2],\n",
            " |              [3, 4]])\n",
            " |      >>> m.getT()\n",
            " |      matrix([[1, 3],\n",
            " |              [2, 4]])\n",
            " |  \n",
            " |  max(self, axis=None, out=None)\n",
            " |      Return the maximum value along an axis.\n",
            " |      \n",
            " |      Parameters\n",
            " |      ----------\n",
            " |      See `amax` for complete descriptions\n",
            " |      \n",
            " |      See Also\n",
            " |      --------\n",
            " |      amax, ndarray.max\n",
            " |      \n",
            " |      Notes\n",
            " |      -----\n",
            " |      This is the same as `ndarray.max`, but returns a `matrix` object\n",
            " |      where `ndarray.max` would return an ndarray.\n",
            " |      \n",
            " |      Examples\n",
            " |      --------\n",
            " |      >>> x = np.matrix(np.arange(12).reshape((3,4))); x\n",
            " |      matrix([[ 0,  1,  2,  3],\n",
            " |              [ 4,  5,  6,  7],\n",
            " |              [ 8,  9, 10, 11]])\n",
            " |      >>> x.max()\n",
            " |      11\n",
            " |      >>> x.max(0)\n",
            " |      matrix([[ 8,  9, 10, 11]])\n",
            " |      >>> x.max(1)\n",
            " |      matrix([[ 3],\n",
            " |              [ 7],\n",
            " |              [11]])\n",
            " |  \n",
            " |  mean(self, axis=None, dtype=None, out=None)\n",
            " |      Returns the average of the matrix elements along the given axis.\n",
            " |      \n",
            " |      Refer to `numpy.mean` for full documentation.\n",
            " |      \n",
            " |      See Also\n",
            " |      --------\n",
            " |      numpy.mean\n",
            " |      \n",
            " |      Notes\n",
            " |      -----\n",
            " |      Same as `ndarray.mean` except that, where that returns an `ndarray`,\n",
            " |      this returns a `matrix` object.\n",
            " |      \n",
            " |      Examples\n",
            " |      --------\n",
            " |      >>> x = np.matrix(np.arange(12).reshape((3, 4)))\n",
            " |      >>> x\n",
            " |      matrix([[ 0,  1,  2,  3],\n",
            " |              [ 4,  5,  6,  7],\n",
            " |              [ 8,  9, 10, 11]])\n",
            " |      >>> x.mean()\n",
            " |      5.5\n",
            " |      >>> x.mean(0)\n",
            " |      matrix([[4., 5., 6., 7.]])\n",
            " |      >>> x.mean(1)\n",
            " |      matrix([[ 1.5],\n",
            " |              [ 5.5],\n",
            " |              [ 9.5]])\n",
            " |  \n",
            " |  min(self, axis=None, out=None)\n",
            " |      Return the minimum value along an axis.\n",
            " |      \n",
            " |      Parameters\n",
            " |      ----------\n",
            " |      See `amin` for complete descriptions.\n",
            " |      \n",
            " |      See Also\n",
            " |      --------\n",
            " |      amin, ndarray.min\n",
            " |      \n",
            " |      Notes\n",
            " |      -----\n",
            " |      This is the same as `ndarray.min`, but returns a `matrix` object\n",
            " |      where `ndarray.min` would return an ndarray.\n",
            " |      \n",
            " |      Examples\n",
            " |      --------\n",
            " |      >>> x = -np.matrix(np.arange(12).reshape((3,4))); x\n",
            " |      matrix([[  0,  -1,  -2,  -3],\n",
            " |              [ -4,  -5,  -6,  -7],\n",
            " |              [ -8,  -9, -10, -11]])\n",
            " |      >>> x.min()\n",
            " |      -11\n",
            " |      >>> x.min(0)\n",
            " |      matrix([[ -8,  -9, -10, -11]])\n",
            " |      >>> x.min(1)\n",
            " |      matrix([[ -3],\n",
            " |              [ -7],\n",
            " |              [-11]])\n",
            " |  \n",
            " |  prod(self, axis=None, dtype=None, out=None)\n",
            " |      Return the product of the array elements over the given axis.\n",
            " |      \n",
            " |      Refer to `prod` for full documentation.\n",
            " |      \n",
            " |      See Also\n",
            " |      --------\n",
            " |      prod, ndarray.prod\n",
            " |      \n",
            " |      Notes\n",
            " |      -----\n",
            " |      Same as `ndarray.prod`, except, where that returns an `ndarray`, this\n",
            " |      returns a `matrix` object instead.\n",
            " |      \n",
            " |      Examples\n",
            " |      --------\n",
            " |      >>> x = np.matrix(np.arange(12).reshape((3,4))); x\n",
            " |      matrix([[ 0,  1,  2,  3],\n",
            " |              [ 4,  5,  6,  7],\n",
            " |              [ 8,  9, 10, 11]])\n",
            " |      >>> x.prod()\n",
            " |      0\n",
            " |      >>> x.prod(0)\n",
            " |      matrix([[  0,  45, 120, 231]])\n",
            " |      >>> x.prod(1)\n",
            " |      matrix([[   0],\n",
            " |              [ 840],\n",
            " |              [7920]])\n",
            " |  \n",
            " |  ptp(self, axis=None, out=None)\n",
            " |      Peak-to-peak (maximum - minimum) value along the given axis.\n",
            " |      \n",
            " |      Refer to `numpy.ptp` for full documentation.\n",
            " |      \n",
            " |      See Also\n",
            " |      --------\n",
            " |      numpy.ptp\n",
            " |      \n",
            " |      Notes\n",
            " |      -----\n",
            " |      Same as `ndarray.ptp`, except, where that would return an `ndarray` object,\n",
            " |      this returns a `matrix` object.\n",
            " |      \n",
            " |      Examples\n",
            " |      --------\n",
            " |      >>> x = np.matrix(np.arange(12).reshape((3,4))); x\n",
            " |      matrix([[ 0,  1,  2,  3],\n",
            " |              [ 4,  5,  6,  7],\n",
            " |              [ 8,  9, 10, 11]])\n",
            " |      >>> x.ptp()\n",
            " |      11\n",
            " |      >>> x.ptp(0)\n",
            " |      matrix([[8, 8, 8, 8]])\n",
            " |      >>> x.ptp(1)\n",
            " |      matrix([[3],\n",
            " |              [3],\n",
            " |              [3]])\n",
            " |  \n",
            " |  ravel(self, order='C')\n",
            " |      Return a flattened matrix.\n",
            " |      \n",
            " |      Refer to `numpy.ravel` for more documentation.\n",
            " |      \n",
            " |      Parameters\n",
            " |      ----------\n",
            " |      order : {'C', 'F', 'A', 'K'}, optional\n",
            " |          The elements of `m` are read using this index order. 'C' means to\n",
            " |          index the elements in C-like order, with the last axis index\n",
            " |          changing fastest, back to the first axis index changing slowest.\n",
            " |          'F' means to index the elements in Fortran-like index order, with\n",
            " |          the first index changing fastest, and the last index changing\n",
            " |          slowest. Note that the 'C' and 'F' options take no account of the\n",
            " |          memory layout of the underlying array, and only refer to the order\n",
            " |          of axis indexing.  'A' means to read the elements in Fortran-like\n",
            " |          index order if `m` is Fortran *contiguous* in memory, C-like order\n",
            " |          otherwise.  'K' means to read the elements in the order they occur\n",
            " |          in memory, except for reversing the data when strides are negative.\n",
            " |          By default, 'C' index order is used.\n",
            " |      \n",
            " |      Returns\n",
            " |      -------\n",
            " |      ret : matrix\n",
            " |          Return the matrix flattened to shape `(1, N)` where `N`\n",
            " |          is the number of elements in the original matrix.\n",
            " |          A copy is made only if necessary.\n",
            " |      \n",
            " |      See Also\n",
            " |      --------\n",
            " |      matrix.flatten : returns a similar output matrix but always a copy\n",
            " |      matrix.flat : a flat iterator on the array.\n",
            " |      numpy.ravel : related function which returns an ndarray\n",
            " |  \n",
            " |  squeeze(self, axis=None)\n",
            " |      Return a possibly reshaped matrix.\n",
            " |      \n",
            " |      Refer to `numpy.squeeze` for more documentation.\n",
            " |      \n",
            " |      Parameters\n",
            " |      ----------\n",
            " |      axis : None or int or tuple of ints, optional\n",
            " |          Selects a subset of the single-dimensional entries in the shape.\n",
            " |          If an axis is selected with shape entry greater than one,\n",
            " |          an error is raised.\n",
            " |      \n",
            " |      Returns\n",
            " |      -------\n",
            " |      squeezed : matrix\n",
            " |          The matrix, but as a (1, N) matrix if it had shape (N, 1).\n",
            " |      \n",
            " |      See Also\n",
            " |      --------\n",
            " |      numpy.squeeze : related function\n",
            " |      \n",
            " |      Notes\n",
            " |      -----\n",
            " |      If `m` has a single column then that column is returned\n",
            " |      as the single row of a matrix.  Otherwise `m` is returned.\n",
            " |      The returned matrix is always either `m` itself or a view into `m`.\n",
            " |      Supplying an axis keyword argument will not affect the returned matrix\n",
            " |      but it may cause an error to be raised.\n",
            " |      \n",
            " |      Examples\n",
            " |      --------\n",
            " |      >>> c = np.matrix([[1], [2]])\n",
            " |      >>> c\n",
            " |      matrix([[1],\n",
            " |              [2]])\n",
            " |      >>> c.squeeze()\n",
            " |      matrix([[1, 2]])\n",
            " |      >>> r = c.T\n",
            " |      >>> r\n",
            " |      matrix([[1, 2]])\n",
            " |      >>> r.squeeze()\n",
            " |      matrix([[1, 2]])\n",
            " |      >>> m = np.matrix([[1, 2], [3, 4]])\n",
            " |      >>> m.squeeze()\n",
            " |      matrix([[1, 2],\n",
            " |              [3, 4]])\n",
            " |  \n",
            " |  std(self, axis=None, dtype=None, out=None, ddof=0)\n",
            " |      Return the standard deviation of the array elements along the given axis.\n",
            " |      \n",
            " |      Refer to `numpy.std` for full documentation.\n",
            " |      \n",
            " |      See Also\n",
            " |      --------\n",
            " |      numpy.std\n",
            " |      \n",
            " |      Notes\n",
            " |      -----\n",
            " |      This is the same as `ndarray.std`, except that where an `ndarray` would\n",
            " |      be returned, a `matrix` object is returned instead.\n",
            " |      \n",
            " |      Examples\n",
            " |      --------\n",
            " |      >>> x = np.matrix(np.arange(12).reshape((3, 4)))\n",
            " |      >>> x\n",
            " |      matrix([[ 0,  1,  2,  3],\n",
            " |              [ 4,  5,  6,  7],\n",
            " |              [ 8,  9, 10, 11]])\n",
            " |      >>> x.std()\n",
            " |      3.4520525295346629 # may vary\n",
            " |      >>> x.std(0)\n",
            " |      matrix([[ 3.26598632,  3.26598632,  3.26598632,  3.26598632]]) # may vary\n",
            " |      >>> x.std(1)\n",
            " |      matrix([[ 1.11803399],\n",
            " |              [ 1.11803399],\n",
            " |              [ 1.11803399]])\n",
            " |  \n",
            " |  sum(self, axis=None, dtype=None, out=None)\n",
            " |      Returns the sum of the matrix elements, along the given axis.\n",
            " |      \n",
            " |      Refer to `numpy.sum` for full documentation.\n",
            " |      \n",
            " |      See Also\n",
            " |      --------\n",
            " |      numpy.sum\n",
            " |      \n",
            " |      Notes\n",
            " |      -----\n",
            " |      This is the same as `ndarray.sum`, except that where an `ndarray` would\n",
            " |      be returned, a `matrix` object is returned instead.\n",
            " |      \n",
            " |      Examples\n",
            " |      --------\n",
            " |      >>> x = np.matrix([[1, 2], [4, 3]])\n",
            " |      >>> x.sum()\n",
            " |      10\n",
            " |      >>> x.sum(axis=1)\n",
            " |      matrix([[3],\n",
            " |              [7]])\n",
            " |      >>> x.sum(axis=1, dtype='float')\n",
            " |      matrix([[3.],\n",
            " |              [7.]])\n",
            " |      >>> out = np.zeros((2, 1), dtype='float')\n",
            " |      >>> x.sum(axis=1, dtype='float', out=np.asmatrix(out))\n",
            " |      matrix([[3.],\n",
            " |              [7.]])\n",
            " |  \n",
            " |  tolist(self)\n",
            " |      Return the matrix as a (possibly nested) list.\n",
            " |      \n",
            " |      See `ndarray.tolist` for full documentation.\n",
            " |      \n",
            " |      See Also\n",
            " |      --------\n",
            " |      ndarray.tolist\n",
            " |      \n",
            " |      Examples\n",
            " |      --------\n",
            " |      >>> x = np.matrix(np.arange(12).reshape((3,4))); x\n",
            " |      matrix([[ 0,  1,  2,  3],\n",
            " |              [ 4,  5,  6,  7],\n",
            " |              [ 8,  9, 10, 11]])\n",
            " |      >>> x.tolist()\n",
            " |      [[0, 1, 2, 3], [4, 5, 6, 7], [8, 9, 10, 11]]\n",
            " |  \n",
            " |  var(self, axis=None, dtype=None, out=None, ddof=0)\n",
            " |      Returns the variance of the matrix elements, along the given axis.\n",
            " |      \n",
            " |      Refer to `numpy.var` for full documentation.\n",
            " |      \n",
            " |      See Also\n",
            " |      --------\n",
            " |      numpy.var\n",
            " |      \n",
            " |      Notes\n",
            " |      -----\n",
            " |      This is the same as `ndarray.var`, except that where an `ndarray` would\n",
            " |      be returned, a `matrix` object is returned instead.\n",
            " |      \n",
            " |      Examples\n",
            " |      --------\n",
            " |      >>> x = np.matrix(np.arange(12).reshape((3, 4)))\n",
            " |      >>> x\n",
            " |      matrix([[ 0,  1,  2,  3],\n",
            " |              [ 4,  5,  6,  7],\n",
            " |              [ 8,  9, 10, 11]])\n",
            " |      >>> x.var()\n",
            " |      11.916666666666666\n",
            " |      >>> x.var(0)\n",
            " |      matrix([[ 10.66666667,  10.66666667,  10.66666667,  10.66666667]]) # may vary\n",
            " |      >>> x.var(1)\n",
            " |      matrix([[1.25],\n",
            " |              [1.25],\n",
            " |              [1.25]])\n",
            " |  \n",
            " |  ----------------------------------------------------------------------\n",
            " |  Static methods defined here:\n",
            " |  \n",
            " |  __new__(subtype, data, dtype=None, copy=True)\n",
            " |      Create and return a new object.  See help(type) for accurate signature.\n",
            " |  \n",
            " |  ----------------------------------------------------------------------\n",
            " |  Data descriptors defined here:\n",
            " |  \n",
            " |  A\n",
            " |      Return `self` as an `ndarray` object.\n",
            " |      \n",
            " |      Equivalent to ``np.asarray(self)``.\n",
            " |      \n",
            " |      Parameters\n",
            " |      ----------\n",
            " |      None\n",
            " |      \n",
            " |      Returns\n",
            " |      -------\n",
            " |      ret : ndarray\n",
            " |          `self` as an `ndarray`\n",
            " |      \n",
            " |      Examples\n",
            " |      --------\n",
            " |      >>> x = np.matrix(np.arange(12).reshape((3,4))); x\n",
            " |      matrix([[ 0,  1,  2,  3],\n",
            " |              [ 4,  5,  6,  7],\n",
            " |              [ 8,  9, 10, 11]])\n",
            " |      >>> x.getA()\n",
            " |      array([[ 0,  1,  2,  3],\n",
            " |             [ 4,  5,  6,  7],\n",
            " |             [ 8,  9, 10, 11]])\n",
            " |  \n",
            " |  A1\n",
            " |      Return `self` as a flattened `ndarray`.\n",
            " |      \n",
            " |      Equivalent to ``np.asarray(x).ravel()``\n",
            " |      \n",
            " |      Parameters\n",
            " |      ----------\n",
            " |      None\n",
            " |      \n",
            " |      Returns\n",
            " |      -------\n",
            " |      ret : ndarray\n",
            " |          `self`, 1-D, as an `ndarray`\n",
            " |      \n",
            " |      Examples\n",
            " |      --------\n",
            " |      >>> x = np.matrix(np.arange(12).reshape((3,4))); x\n",
            " |      matrix([[ 0,  1,  2,  3],\n",
            " |              [ 4,  5,  6,  7],\n",
            " |              [ 8,  9, 10, 11]])\n",
            " |      >>> x.getA1()\n",
            " |      array([ 0,  1,  2, ...,  9, 10, 11])\n",
            " |  \n",
            " |  H\n",
            " |      Returns the (complex) conjugate transpose of `self`.\n",
            " |      \n",
            " |      Equivalent to ``np.transpose(self)`` if `self` is real-valued.\n",
            " |      \n",
            " |      Parameters\n",
            " |      ----------\n",
            " |      None\n",
            " |      \n",
            " |      Returns\n",
            " |      -------\n",
            " |      ret : matrix object\n",
            " |          complex conjugate transpose of `self`\n",
            " |      \n",
            " |      Examples\n",
            " |      --------\n",
            " |      >>> x = np.matrix(np.arange(12).reshape((3,4)))\n",
            " |      >>> z = x - 1j*x; z\n",
            " |      matrix([[  0. +0.j,   1. -1.j,   2. -2.j,   3. -3.j],\n",
            " |              [  4. -4.j,   5. -5.j,   6. -6.j,   7. -7.j],\n",
            " |              [  8. -8.j,   9. -9.j,  10.-10.j,  11.-11.j]])\n",
            " |      >>> z.getH()\n",
            " |      matrix([[ 0. -0.j,  4. +4.j,  8. +8.j],\n",
            " |              [ 1. +1.j,  5. +5.j,  9. +9.j],\n",
            " |              [ 2. +2.j,  6. +6.j, 10.+10.j],\n",
            " |              [ 3. +3.j,  7. +7.j, 11.+11.j]])\n",
            " |  \n",
            " |  I\n",
            " |      Returns the (multiplicative) inverse of invertible `self`.\n",
            " |      \n",
            " |      Parameters\n",
            " |      ----------\n",
            " |      None\n",
            " |      \n",
            " |      Returns\n",
            " |      -------\n",
            " |      ret : matrix object\n",
            " |          If `self` is non-singular, `ret` is such that ``ret * self`` ==\n",
            " |          ``self * ret`` == ``np.matrix(np.eye(self[0,:].size)`` all return\n",
            " |          ``True``.\n",
            " |      \n",
            " |      Raises\n",
            " |      ------\n",
            " |      numpy.linalg.LinAlgError: Singular matrix\n",
            " |          If `self` is singular.\n",
            " |      \n",
            " |      See Also\n",
            " |      --------\n",
            " |      linalg.inv\n",
            " |      \n",
            " |      Examples\n",
            " |      --------\n",
            " |      >>> m = np.matrix('[1, 2; 3, 4]'); m\n",
            " |      matrix([[1, 2],\n",
            " |              [3, 4]])\n",
            " |      >>> m.getI()\n",
            " |      matrix([[-2. ,  1. ],\n",
            " |              [ 1.5, -0.5]])\n",
            " |      >>> m.getI() * m\n",
            " |      matrix([[ 1.,  0.], # may vary\n",
            " |              [ 0.,  1.]])\n",
            " |  \n",
            " |  T\n",
            " |      Returns the transpose of the matrix.\n",
            " |      \n",
            " |      Does *not* conjugate!  For the complex conjugate transpose, use ``.H``.\n",
            " |      \n",
            " |      Parameters\n",
            " |      ----------\n",
            " |      None\n",
            " |      \n",
            " |      Returns\n",
            " |      -------\n",
            " |      ret : matrix object\n",
            " |          The (non-conjugated) transpose of the matrix.\n",
            " |      \n",
            " |      See Also\n",
            " |      --------\n",
            " |      transpose, getH\n",
            " |      \n",
            " |      Examples\n",
            " |      --------\n",
            " |      >>> m = np.matrix('[1, 2; 3, 4]')\n",
            " |      >>> m\n",
            " |      matrix([[1, 2],\n",
            " |              [3, 4]])\n",
            " |      >>> m.getT()\n",
            " |      matrix([[1, 3],\n",
            " |              [2, 4]])\n",
            " |  \n",
            " |  __dict__\n",
            " |      dictionary for instance variables (if defined)\n",
            " |  \n",
            " |  ----------------------------------------------------------------------\n",
            " |  Data and other attributes defined here:\n",
            " |  \n",
            " |  __array_priority__ = 10.0\n",
            " |  \n",
            " |  ----------------------------------------------------------------------\n",
            " |  Methods inherited from ndarray:\n",
            " |  \n",
            " |  __abs__(self, /)\n",
            " |      abs(self)\n",
            " |  \n",
            " |  __add__(self, value, /)\n",
            " |      Return self+value.\n",
            " |  \n",
            " |  __and__(self, value, /)\n",
            " |      Return self&value.\n",
            " |  \n",
            " |  __array__(...)\n",
            " |      a.__array__(|dtype) -> reference if type unchanged, copy otherwise.\n",
            " |      \n",
            " |      Returns either a new reference to self if dtype is not given or a new array\n",
            " |      of provided data type if dtype is different from the current dtype of the\n",
            " |      array.\n",
            " |  \n",
            " |  __array_function__(...)\n",
            " |  \n",
            " |  __array_prepare__(...)\n",
            " |      a.__array_prepare__(obj) -> Object of same type as ndarray object obj.\n",
            " |  \n",
            " |  __array_ufunc__(...)\n",
            " |  \n",
            " |  __array_wrap__(...)\n",
            " |      a.__array_wrap__(obj) -> Object of same type as ndarray object a.\n",
            " |  \n",
            " |  __bool__(self, /)\n",
            " |      self != 0\n",
            " |  \n",
            " |  __complex__(...)\n",
            " |  \n",
            " |  __contains__(self, key, /)\n",
            " |      Return key in self.\n",
            " |  \n",
            " |  __copy__(...)\n",
            " |      a.__copy__()\n",
            " |      \n",
            " |      Used if :func:`copy.copy` is called on an array. Returns a copy of the array.\n",
            " |      \n",
            " |      Equivalent to ``a.copy(order='K')``.\n",
            " |  \n",
            " |  __deepcopy__(...)\n",
            " |      a.__deepcopy__(memo, /) -> Deep copy of array.\n",
            " |      \n",
            " |      Used if :func:`copy.deepcopy` is called on an array.\n",
            " |  \n",
            " |  __delitem__(self, key, /)\n",
            " |      Delete self[key].\n",
            " |  \n",
            " |  __divmod__(self, value, /)\n",
            " |      Return divmod(self, value).\n",
            " |  \n",
            " |  __eq__(self, value, /)\n",
            " |      Return self==value.\n",
            " |  \n",
            " |  __float__(self, /)\n",
            " |      float(self)\n",
            " |  \n",
            " |  __floordiv__(self, value, /)\n",
            " |      Return self//value.\n",
            " |  \n",
            " |  __format__(...)\n",
            " |      Default object formatter.\n",
            " |  \n",
            " |  __ge__(self, value, /)\n",
            " |      Return self>=value.\n",
            " |  \n",
            " |  __gt__(self, value, /)\n",
            " |      Return self>value.\n",
            " |  \n",
            " |  __iadd__(self, value, /)\n",
            " |      Return self+=value.\n",
            " |  \n",
            " |  __iand__(self, value, /)\n",
            " |      Return self&=value.\n",
            " |  \n",
            " |  __ifloordiv__(self, value, /)\n",
            " |      Return self//=value.\n",
            " |  \n",
            " |  __ilshift__(self, value, /)\n",
            " |      Return self<<=value.\n",
            " |  \n",
            " |  __imatmul__(self, value, /)\n",
            " |      Return self@=value.\n",
            " |  \n",
            " |  __imod__(self, value, /)\n",
            " |      Return self%=value.\n",
            " |  \n",
            " |  __index__(self, /)\n",
            " |      Return self converted to an integer, if self is suitable for use as an index into a list.\n",
            " |  \n",
            " |  __int__(self, /)\n",
            " |      int(self)\n",
            " |  \n",
            " |  __invert__(self, /)\n",
            " |      ~self\n",
            " |  \n",
            " |  __ior__(self, value, /)\n",
            " |      Return self|=value.\n",
            " |  \n",
            " |  __irshift__(self, value, /)\n",
            " |      Return self>>=value.\n",
            " |  \n",
            " |  __isub__(self, value, /)\n",
            " |      Return self-=value.\n",
            " |  \n",
            " |  __iter__(self, /)\n",
            " |      Implement iter(self).\n",
            " |  \n",
            " |  __itruediv__(self, value, /)\n",
            " |      Return self/=value.\n",
            " |  \n",
            " |  __ixor__(self, value, /)\n",
            " |      Return self^=value.\n",
            " |  \n",
            " |  __le__(self, value, /)\n",
            " |      Return self<=value.\n",
            " |  \n",
            " |  __len__(self, /)\n",
            " |      Return len(self).\n",
            " |  \n",
            " |  __lshift__(self, value, /)\n",
            " |      Return self<<value.\n",
            " |  \n",
            " |  __lt__(self, value, /)\n",
            " |      Return self<value.\n",
            " |  \n",
            " |  __matmul__(self, value, /)\n",
            " |      Return self@value.\n",
            " |  \n",
            " |  __mod__(self, value, /)\n",
            " |      Return self%value.\n",
            " |  \n",
            " |  __ne__(self, value, /)\n",
            " |      Return self!=value.\n",
            " |  \n",
            " |  __neg__(self, /)\n",
            " |      -self\n",
            " |  \n",
            " |  __or__(self, value, /)\n",
            " |      Return self|value.\n",
            " |  \n",
            " |  __pos__(self, /)\n",
            " |      +self\n",
            " |  \n",
            " |  __radd__(self, value, /)\n",
            " |      Return value+self.\n",
            " |  \n",
            " |  __rand__(self, value, /)\n",
            " |      Return value&self.\n",
            " |  \n",
            " |  __rdivmod__(self, value, /)\n",
            " |      Return divmod(value, self).\n",
            " |  \n",
            " |  __reduce__(...)\n",
            " |      a.__reduce__()\n",
            " |      \n",
            " |      For pickling.\n",
            " |  \n",
            " |  __reduce_ex__(...)\n",
            " |      Helper for pickle.\n",
            " |  \n",
            " |  __repr__(self, /)\n",
            " |      Return repr(self).\n",
            " |  \n",
            " |  __rfloordiv__(self, value, /)\n",
            " |      Return value//self.\n",
            " |  \n",
            " |  __rlshift__(self, value, /)\n",
            " |      Return value<<self.\n",
            " |  \n",
            " |  __rmatmul__(self, value, /)\n",
            " |      Return value@self.\n",
            " |  \n",
            " |  __rmod__(self, value, /)\n",
            " |      Return value%self.\n",
            " |  \n",
            " |  __ror__(self, value, /)\n",
            " |      Return value|self.\n",
            " |  \n",
            " |  __rrshift__(self, value, /)\n",
            " |      Return value>>self.\n",
            " |  \n",
            " |  __rshift__(self, value, /)\n",
            " |      Return self>>value.\n",
            " |  \n",
            " |  __rsub__(self, value, /)\n",
            " |      Return value-self.\n",
            " |  \n",
            " |  __rtruediv__(self, value, /)\n",
            " |      Return value/self.\n",
            " |  \n",
            " |  __rxor__(self, value, /)\n",
            " |      Return value^self.\n",
            " |  \n",
            " |  __setitem__(self, key, value, /)\n",
            " |      Set self[key] to value.\n",
            " |  \n",
            " |  __setstate__(...)\n",
            " |      a.__setstate__(state, /)\n",
            " |      \n",
            " |      For unpickling.\n",
            " |      \n",
            " |      The `state` argument must be a sequence that contains the following\n",
            " |      elements:\n",
            " |      \n",
            " |      Parameters\n",
            " |      ----------\n",
            " |      version : int\n",
            " |          optional pickle version. If omitted defaults to 0.\n",
            " |      shape : tuple\n",
            " |      dtype : data-type\n",
            " |      isFortran : bool\n",
            " |      rawdata : string or list\n",
            " |          a binary string with the data (or a list if 'a' is an object array)\n",
            " |  \n",
            " |  __sizeof__(...)\n",
            " |      Size of object in memory, in bytes.\n",
            " |  \n",
            " |  __str__(self, /)\n",
            " |      Return str(self).\n",
            " |  \n",
            " |  __sub__(self, value, /)\n",
            " |      Return self-value.\n",
            " |  \n",
            " |  __truediv__(self, value, /)\n",
            " |      Return self/value.\n",
            " |  \n",
            " |  __xor__(self, value, /)\n",
            " |      Return self^value.\n",
            " |  \n",
            " |  argpartition(...)\n",
            " |      a.argpartition(kth, axis=-1, kind='introselect', order=None)\n",
            " |      \n",
            " |      Returns the indices that would partition this array.\n",
            " |      \n",
            " |      Refer to `numpy.argpartition` for full documentation.\n",
            " |      \n",
            " |      .. versionadded:: 1.8.0\n",
            " |      \n",
            " |      See Also\n",
            " |      --------\n",
            " |      numpy.argpartition : equivalent function\n",
            " |  \n",
            " |  argsort(...)\n",
            " |      a.argsort(axis=-1, kind=None, order=None)\n",
            " |      \n",
            " |      Returns the indices that would sort this array.\n",
            " |      \n",
            " |      Refer to `numpy.argsort` for full documentation.\n",
            " |      \n",
            " |      See Also\n",
            " |      --------\n",
            " |      numpy.argsort : equivalent function\n",
            " |  \n",
            " |  astype(...)\n",
            " |      a.astype(dtype, order='K', casting='unsafe', subok=True, copy=True)\n",
            " |      \n",
            " |      Copy of the array, cast to a specified type.\n",
            " |      \n",
            " |      Parameters\n",
            " |      ----------\n",
            " |      dtype : str or dtype\n",
            " |          Typecode or data-type to which the array is cast.\n",
            " |      order : {'C', 'F', 'A', 'K'}, optional\n",
            " |          Controls the memory layout order of the result.\n",
            " |          'C' means C order, 'F' means Fortran order, 'A'\n",
            " |          means 'F' order if all the arrays are Fortran contiguous,\n",
            " |          'C' order otherwise, and 'K' means as close to the\n",
            " |          order the array elements appear in memory as possible.\n",
            " |          Default is 'K'.\n",
            " |      casting : {'no', 'equiv', 'safe', 'same_kind', 'unsafe'}, optional\n",
            " |          Controls what kind of data casting may occur. Defaults to 'unsafe'\n",
            " |          for backwards compatibility.\n",
            " |      \n",
            " |            * 'no' means the data types should not be cast at all.\n",
            " |            * 'equiv' means only byte-order changes are allowed.\n",
            " |            * 'safe' means only casts which can preserve values are allowed.\n",
            " |            * 'same_kind' means only safe casts or casts within a kind,\n",
            " |              like float64 to float32, are allowed.\n",
            " |            * 'unsafe' means any data conversions may be done.\n",
            " |      subok : bool, optional\n",
            " |          If True, then sub-classes will be passed-through (default), otherwise\n",
            " |          the returned array will be forced to be a base-class array.\n",
            " |      copy : bool, optional\n",
            " |          By default, astype always returns a newly allocated array. If this\n",
            " |          is set to false, and the `dtype`, `order`, and `subok`\n",
            " |          requirements are satisfied, the input array is returned instead\n",
            " |          of a copy.\n",
            " |      \n",
            " |      Returns\n",
            " |      -------\n",
            " |      arr_t : ndarray\n",
            " |          Unless `copy` is False and the other conditions for returning the input\n",
            " |          array are satisfied (see description for `copy` input parameter), `arr_t`\n",
            " |          is a new array of the same shape as the input array, with dtype, order\n",
            " |          given by `dtype`, `order`.\n",
            " |      \n",
            " |      Notes\n",
            " |      -----\n",
            " |      .. versionchanged:: 1.17.0\n",
            " |         Casting between a simple data type and a structured one is possible only\n",
            " |         for \"unsafe\" casting.  Casting to multiple fields is allowed, but\n",
            " |         casting from multiple fields is not.\n",
            " |      \n",
            " |      .. versionchanged:: 1.9.0\n",
            " |         Casting from numeric to string types in 'safe' casting mode requires\n",
            " |         that the string dtype length is long enough to store the max\n",
            " |         integer/float value converted.\n",
            " |      \n",
            " |      Raises\n",
            " |      ------\n",
            " |      ComplexWarning\n",
            " |          When casting from complex to float or int. To avoid this,\n",
            " |          one should use ``a.real.astype(t)``.\n",
            " |      \n",
            " |      Examples\n",
            " |      --------\n",
            " |      >>> x = np.array([1, 2, 2.5])\n",
            " |      >>> x\n",
            " |      array([1. ,  2. ,  2.5])\n",
            " |      \n",
            " |      >>> x.astype(int)\n",
            " |      array([1, 2, 2])\n",
            " |  \n",
            " |  byteswap(...)\n",
            " |      a.byteswap(inplace=False)\n",
            " |      \n",
            " |      Swap the bytes of the array elements\n",
            " |      \n",
            " |      Toggle between low-endian and big-endian data representation by\n",
            " |      returning a byteswapped array, optionally swapped in-place.\n",
            " |      \n",
            " |      Parameters\n",
            " |      ----------\n",
            " |      inplace : bool, optional\n",
            " |          If ``True``, swap bytes in-place, default is ``False``.\n",
            " |      \n",
            " |      Returns\n",
            " |      -------\n",
            " |      out : ndarray\n",
            " |          The byteswapped array. If `inplace` is ``True``, this is\n",
            " |          a view to self.\n",
            " |      \n",
            " |      Examples\n",
            " |      --------\n",
            " |      >>> A = np.array([1, 256, 8755], dtype=np.int16)\n",
            " |      >>> list(map(hex, A))\n",
            " |      ['0x1', '0x100', '0x2233']\n",
            " |      >>> A.byteswap(inplace=True)\n",
            " |      array([  256,     1, 13090], dtype=int16)\n",
            " |      >>> list(map(hex, A))\n",
            " |      ['0x100', '0x1', '0x3322']\n",
            " |      \n",
            " |      Arrays of strings are not swapped\n",
            " |      \n",
            " |      >>> A = np.array(['ceg', 'fac'])\n",
            " |      >>> A.byteswap()\n",
            " |      Traceback (most recent call last):\n",
            " |          ...\n",
            " |      UnicodeDecodeError: ...\n",
            " |  \n",
            " |  choose(...)\n",
            " |      a.choose(choices, out=None, mode='raise')\n",
            " |      \n",
            " |      Use an index array to construct a new array from a set of choices.\n",
            " |      \n",
            " |      Refer to `numpy.choose` for full documentation.\n",
            " |      \n",
            " |      See Also\n",
            " |      --------\n",
            " |      numpy.choose : equivalent function\n",
            " |  \n",
            " |  clip(...)\n",
            " |      a.clip(min=None, max=None, out=None, **kwargs)\n",
            " |      \n",
            " |      Return an array whose values are limited to ``[min, max]``.\n",
            " |      One of max or min must be given.\n",
            " |      \n",
            " |      Refer to `numpy.clip` for full documentation.\n",
            " |      \n",
            " |      See Also\n",
            " |      --------\n",
            " |      numpy.clip : equivalent function\n",
            " |  \n",
            " |  compress(...)\n",
            " |      a.compress(condition, axis=None, out=None)\n",
            " |      \n",
            " |      Return selected slices of this array along given axis.\n",
            " |      \n",
            " |      Refer to `numpy.compress` for full documentation.\n",
            " |      \n",
            " |      See Also\n",
            " |      --------\n",
            " |      numpy.compress : equivalent function\n",
            " |  \n",
            " |  conj(...)\n",
            " |      a.conj()\n",
            " |      \n",
            " |      Complex-conjugate all elements.\n",
            " |      \n",
            " |      Refer to `numpy.conjugate` for full documentation.\n",
            " |      \n",
            " |      See Also\n",
            " |      --------\n",
            " |      numpy.conjugate : equivalent function\n",
            " |  \n",
            " |  conjugate(...)\n",
            " |      a.conjugate()\n",
            " |      \n",
            " |      Return the complex conjugate, element-wise.\n",
            " |      \n",
            " |      Refer to `numpy.conjugate` for full documentation.\n",
            " |      \n",
            " |      See Also\n",
            " |      --------\n",
            " |      numpy.conjugate : equivalent function\n",
            " |  \n",
            " |  copy(...)\n",
            " |      a.copy(order='C')\n",
            " |      \n",
            " |      Return a copy of the array.\n",
            " |      \n",
            " |      Parameters\n",
            " |      ----------\n",
            " |      order : {'C', 'F', 'A', 'K'}, optional\n",
            " |          Controls the memory layout of the copy. 'C' means C-order,\n",
            " |          'F' means F-order, 'A' means 'F' if `a` is Fortran contiguous,\n",
            " |          'C' otherwise. 'K' means match the layout of `a` as closely\n",
            " |          as possible. (Note that this function and :func:`numpy.copy` are very\n",
            " |          similar, but have different default values for their order=\n",
            " |          arguments.)\n",
            " |      \n",
            " |      See also\n",
            " |      --------\n",
            " |      numpy.copy\n",
            " |      numpy.copyto\n",
            " |      \n",
            " |      Examples\n",
            " |      --------\n",
            " |      >>> x = np.array([[1,2,3],[4,5,6]], order='F')\n",
            " |      \n",
            " |      >>> y = x.copy()\n",
            " |      \n",
            " |      >>> x.fill(0)\n",
            " |      \n",
            " |      >>> x\n",
            " |      array([[0, 0, 0],\n",
            " |             [0, 0, 0]])\n",
            " |      \n",
            " |      >>> y\n",
            " |      array([[1, 2, 3],\n",
            " |             [4, 5, 6]])\n",
            " |      \n",
            " |      >>> y.flags['C_CONTIGUOUS']\n",
            " |      True\n",
            " |  \n",
            " |  cumprod(...)\n",
            " |      a.cumprod(axis=None, dtype=None, out=None)\n",
            " |      \n",
            " |      Return the cumulative product of the elements along the given axis.\n",
            " |      \n",
            " |      Refer to `numpy.cumprod` for full documentation.\n",
            " |      \n",
            " |      See Also\n",
            " |      --------\n",
            " |      numpy.cumprod : equivalent function\n",
            " |  \n",
            " |  cumsum(...)\n",
            " |      a.cumsum(axis=None, dtype=None, out=None)\n",
            " |      \n",
            " |      Return the cumulative sum of the elements along the given axis.\n",
            " |      \n",
            " |      Refer to `numpy.cumsum` for full documentation.\n",
            " |      \n",
            " |      See Also\n",
            " |      --------\n",
            " |      numpy.cumsum : equivalent function\n",
            " |  \n",
            " |  diagonal(...)\n",
            " |      a.diagonal(offset=0, axis1=0, axis2=1)\n",
            " |      \n",
            " |      Return specified diagonals. In NumPy 1.9 the returned array is a\n",
            " |      read-only view instead of a copy as in previous NumPy versions.  In\n",
            " |      a future version the read-only restriction will be removed.\n",
            " |      \n",
            " |      Refer to :func:`numpy.diagonal` for full documentation.\n",
            " |      \n",
            " |      See Also\n",
            " |      --------\n",
            " |      numpy.diagonal : equivalent function\n",
            " |  \n",
            " |  dot(...)\n",
            " |      a.dot(b, out=None)\n",
            " |      \n",
            " |      Dot product of two arrays.\n",
            " |      \n",
            " |      Refer to `numpy.dot` for full documentation.\n",
            " |      \n",
            " |      See Also\n",
            " |      --------\n",
            " |      numpy.dot : equivalent function\n",
            " |      \n",
            " |      Examples\n",
            " |      --------\n",
            " |      >>> a = np.eye(2)\n",
            " |      >>> b = np.ones((2, 2)) * 2\n",
            " |      >>> a.dot(b)\n",
            " |      array([[2.,  2.],\n",
            " |             [2.,  2.]])\n",
            " |      \n",
            " |      This array method can be conveniently chained:\n",
            " |      \n",
            " |      >>> a.dot(b).dot(b)\n",
            " |      array([[8.,  8.],\n",
            " |             [8.,  8.]])\n",
            " |  \n",
            " |  dump(...)\n",
            " |      a.dump(file)\n",
            " |      \n",
            " |      Dump a pickle of the array to the specified file.\n",
            " |      The array can be read back with pickle.load or numpy.load.\n",
            " |      \n",
            " |      Parameters\n",
            " |      ----------\n",
            " |      file : str or Path\n",
            " |          A string naming the dump file.\n",
            " |      \n",
            " |          .. versionchanged:: 1.17.0\n",
            " |              `pathlib.Path` objects are now accepted.\n",
            " |  \n",
            " |  dumps(...)\n",
            " |      a.dumps()\n",
            " |      \n",
            " |      Returns the pickle of the array as a string.\n",
            " |      pickle.loads or numpy.loads will convert the string back to an array.\n",
            " |      \n",
            " |      Parameters\n",
            " |      ----------\n",
            " |      None\n",
            " |  \n",
            " |  fill(...)\n",
            " |      a.fill(value)\n",
            " |      \n",
            " |      Fill the array with a scalar value.\n",
            " |      \n",
            " |      Parameters\n",
            " |      ----------\n",
            " |      value : scalar\n",
            " |          All elements of `a` will be assigned this value.\n",
            " |      \n",
            " |      Examples\n",
            " |      --------\n",
            " |      >>> a = np.array([1, 2])\n",
            " |      >>> a.fill(0)\n",
            " |      >>> a\n",
            " |      array([0, 0])\n",
            " |      >>> a = np.empty(2)\n",
            " |      >>> a.fill(1)\n",
            " |      >>> a\n",
            " |      array([1.,  1.])\n",
            " |  \n",
            " |  getfield(...)\n",
            " |      a.getfield(dtype, offset=0)\n",
            " |      \n",
            " |      Returns a field of the given array as a certain type.\n",
            " |      \n",
            " |      A field is a view of the array data with a given data-type. The values in\n",
            " |      the view are determined by the given type and the offset into the current\n",
            " |      array in bytes. The offset needs to be such that the view dtype fits in the\n",
            " |      array dtype; for example an array of dtype complex128 has 16-byte elements.\n",
            " |      If taking a view with a 32-bit integer (4 bytes), the offset needs to be\n",
            " |      between 0 and 12 bytes.\n",
            " |      \n",
            " |      Parameters\n",
            " |      ----------\n",
            " |      dtype : str or dtype\n",
            " |          The data type of the view. The dtype size of the view can not be larger\n",
            " |          than that of the array itself.\n",
            " |      offset : int\n",
            " |          Number of bytes to skip before beginning the element view.\n",
            " |      \n",
            " |      Examples\n",
            " |      --------\n",
            " |      >>> x = np.diag([1.+1.j]*2)\n",
            " |      >>> x[1, 1] = 2 + 4.j\n",
            " |      >>> x\n",
            " |      array([[1.+1.j,  0.+0.j],\n",
            " |             [0.+0.j,  2.+4.j]])\n",
            " |      >>> x.getfield(np.float64)\n",
            " |      array([[1.,  0.],\n",
            " |             [0.,  2.]])\n",
            " |      \n",
            " |      By choosing an offset of 8 bytes we can select the complex part of the\n",
            " |      array for our view:\n",
            " |      \n",
            " |      >>> x.getfield(np.float64, offset=8)\n",
            " |      array([[1.,  0.],\n",
            " |             [0.,  4.]])\n",
            " |  \n",
            " |  item(...)\n",
            " |      a.item(*args)\n",
            " |      \n",
            " |      Copy an element of an array to a standard Python scalar and return it.\n",
            " |      \n",
            " |      Parameters\n",
            " |      ----------\n",
            " |      \\*args : Arguments (variable number and type)\n",
            " |      \n",
            " |          * none: in this case, the method only works for arrays\n",
            " |            with one element (`a.size == 1`), which element is\n",
            " |            copied into a standard Python scalar object and returned.\n",
            " |      \n",
            " |          * int_type: this argument is interpreted as a flat index into\n",
            " |            the array, specifying which element to copy and return.\n",
            " |      \n",
            " |          * tuple of int_types: functions as does a single int_type argument,\n",
            " |            except that the argument is interpreted as an nd-index into the\n",
            " |            array.\n",
            " |      \n",
            " |      Returns\n",
            " |      -------\n",
            " |      z : Standard Python scalar object\n",
            " |          A copy of the specified element of the array as a suitable\n",
            " |          Python scalar\n",
            " |      \n",
            " |      Notes\n",
            " |      -----\n",
            " |      When the data type of `a` is longdouble or clongdouble, item() returns\n",
            " |      a scalar array object because there is no available Python scalar that\n",
            " |      would not lose information. Void arrays return a buffer object for item(),\n",
            " |      unless fields are defined, in which case a tuple is returned.\n",
            " |      \n",
            " |      `item` is very similar to a[args], except, instead of an array scalar,\n",
            " |      a standard Python scalar is returned. This can be useful for speeding up\n",
            " |      access to elements of the array and doing arithmetic on elements of the\n",
            " |      array using Python's optimized math.\n",
            " |      \n",
            " |      Examples\n",
            " |      --------\n",
            " |      >>> np.random.seed(123)\n",
            " |      >>> x = np.random.randint(9, size=(3, 3))\n",
            " |      >>> x\n",
            " |      array([[2, 2, 6],\n",
            " |             [1, 3, 6],\n",
            " |             [1, 0, 1]])\n",
            " |      >>> x.item(3)\n",
            " |      1\n",
            " |      >>> x.item(7)\n",
            " |      0\n",
            " |      >>> x.item((0, 1))\n",
            " |      2\n",
            " |      >>> x.item((2, 2))\n",
            " |      1\n",
            " |  \n",
            " |  itemset(...)\n",
            " |      a.itemset(*args)\n",
            " |      \n",
            " |      Insert scalar into an array (scalar is cast to array's dtype, if possible)\n",
            " |      \n",
            " |      There must be at least 1 argument, and define the last argument\n",
            " |      as *item*.  Then, ``a.itemset(*args)`` is equivalent to but faster\n",
            " |      than ``a[args] = item``.  The item should be a scalar value and `args`\n",
            " |      must select a single item in the array `a`.\n",
            " |      \n",
            " |      Parameters\n",
            " |      ----------\n",
            " |      \\*args : Arguments\n",
            " |          If one argument: a scalar, only used in case `a` is of size 1.\n",
            " |          If two arguments: the last argument is the value to be set\n",
            " |          and must be a scalar, the first argument specifies a single array\n",
            " |          element location. It is either an int or a tuple.\n",
            " |      \n",
            " |      Notes\n",
            " |      -----\n",
            " |      Compared to indexing syntax, `itemset` provides some speed increase\n",
            " |      for placing a scalar into a particular location in an `ndarray`,\n",
            " |      if you must do this.  However, generally this is discouraged:\n",
            " |      among other problems, it complicates the appearance of the code.\n",
            " |      Also, when using `itemset` (and `item`) inside a loop, be sure\n",
            " |      to assign the methods to a local variable to avoid the attribute\n",
            " |      look-up at each loop iteration.\n",
            " |      \n",
            " |      Examples\n",
            " |      --------\n",
            " |      >>> np.random.seed(123)\n",
            " |      >>> x = np.random.randint(9, size=(3, 3))\n",
            " |      >>> x\n",
            " |      array([[2, 2, 6],\n",
            " |             [1, 3, 6],\n",
            " |             [1, 0, 1]])\n",
            " |      >>> x.itemset(4, 0)\n",
            " |      >>> x.itemset((2, 2), 9)\n",
            " |      >>> x\n",
            " |      array([[2, 2, 6],\n",
            " |             [1, 0, 6],\n",
            " |             [1, 0, 9]])\n",
            " |  \n",
            " |  newbyteorder(...)\n",
            " |      arr.newbyteorder(new_order='S')\n",
            " |      \n",
            " |      Return the array with the same data viewed with a different byte order.\n",
            " |      \n",
            " |      Equivalent to::\n",
            " |      \n",
            " |          arr.view(arr.dtype.newbytorder(new_order))\n",
            " |      \n",
            " |      Changes are also made in all fields and sub-arrays of the array data\n",
            " |      type.\n",
            " |      \n",
            " |      \n",
            " |      \n",
            " |      Parameters\n",
            " |      ----------\n",
            " |      new_order : string, optional\n",
            " |          Byte order to force; a value from the byte order specifications\n",
            " |          below. `new_order` codes can be any of:\n",
            " |      \n",
            " |          * 'S' - swap dtype from current to opposite endian\n",
            " |          * {'<', 'L'} - little endian\n",
            " |          * {'>', 'B'} - big endian\n",
            " |          * {'=', 'N'} - native order\n",
            " |          * {'|', 'I'} - ignore (no change to byte order)\n",
            " |      \n",
            " |          The default value ('S') results in swapping the current\n",
            " |          byte order. The code does a case-insensitive check on the first\n",
            " |          letter of `new_order` for the alternatives above.  For example,\n",
            " |          any of 'B' or 'b' or 'biggish' are valid to specify big-endian.\n",
            " |      \n",
            " |      \n",
            " |      Returns\n",
            " |      -------\n",
            " |      new_arr : array\n",
            " |          New array object with the dtype reflecting given change to the\n",
            " |          byte order.\n",
            " |  \n",
            " |  nonzero(...)\n",
            " |      a.nonzero()\n",
            " |      \n",
            " |      Return the indices of the elements that are non-zero.\n",
            " |      \n",
            " |      Refer to `numpy.nonzero` for full documentation.\n",
            " |      \n",
            " |      See Also\n",
            " |      --------\n",
            " |      numpy.nonzero : equivalent function\n",
            " |  \n",
            " |  partition(...)\n",
            " |      a.partition(kth, axis=-1, kind='introselect', order=None)\n",
            " |      \n",
            " |      Rearranges the elements in the array in such a way that the value of the\n",
            " |      element in kth position is in the position it would be in a sorted array.\n",
            " |      All elements smaller than the kth element are moved before this element and\n",
            " |      all equal or greater are moved behind it. The ordering of the elements in\n",
            " |      the two partitions is undefined.\n",
            " |      \n",
            " |      .. versionadded:: 1.8.0\n",
            " |      \n",
            " |      Parameters\n",
            " |      ----------\n",
            " |      kth : int or sequence of ints\n",
            " |          Element index to partition by. The kth element value will be in its\n",
            " |          final sorted position and all smaller elements will be moved before it\n",
            " |          and all equal or greater elements behind it.\n",
            " |          The order of all elements in the partitions is undefined.\n",
            " |          If provided with a sequence of kth it will partition all elements\n",
            " |          indexed by kth of them into their sorted position at once.\n",
            " |      axis : int, optional\n",
            " |          Axis along which to sort. Default is -1, which means sort along the\n",
            " |          last axis.\n",
            " |      kind : {'introselect'}, optional\n",
            " |          Selection algorithm. Default is 'introselect'.\n",
            " |      order : str or list of str, optional\n",
            " |          When `a` is an array with fields defined, this argument specifies\n",
            " |          which fields to compare first, second, etc. A single field can\n",
            " |          be specified as a string, and not all fields need to be specified,\n",
            " |          but unspecified fields will still be used, in the order in which\n",
            " |          they come up in the dtype, to break ties.\n",
            " |      \n",
            " |      See Also\n",
            " |      --------\n",
            " |      numpy.partition : Return a parititioned copy of an array.\n",
            " |      argpartition : Indirect partition.\n",
            " |      sort : Full sort.\n",
            " |      \n",
            " |      Notes\n",
            " |      -----\n",
            " |      See ``np.partition`` for notes on the different algorithms.\n",
            " |      \n",
            " |      Examples\n",
            " |      --------\n",
            " |      >>> a = np.array([3, 4, 2, 1])\n",
            " |      >>> a.partition(3)\n",
            " |      >>> a\n",
            " |      array([2, 1, 3, 4])\n",
            " |      \n",
            " |      >>> a.partition((1, 3))\n",
            " |      >>> a\n",
            " |      array([1, 2, 3, 4])\n",
            " |  \n",
            " |  put(...)\n",
            " |      a.put(indices, values, mode='raise')\n",
            " |      \n",
            " |      Set ``a.flat[n] = values[n]`` for all `n` in indices.\n",
            " |      \n",
            " |      Refer to `numpy.put` for full documentation.\n",
            " |      \n",
            " |      See Also\n",
            " |      --------\n",
            " |      numpy.put : equivalent function\n",
            " |  \n",
            " |  repeat(...)\n",
            " |      a.repeat(repeats, axis=None)\n",
            " |      \n",
            " |      Repeat elements of an array.\n",
            " |      \n",
            " |      Refer to `numpy.repeat` for full documentation.\n",
            " |      \n",
            " |      See Also\n",
            " |      --------\n",
            " |      numpy.repeat : equivalent function\n",
            " |  \n",
            " |  reshape(...)\n",
            " |      a.reshape(shape, order='C')\n",
            " |      \n",
            " |      Returns an array containing the same data with a new shape.\n",
            " |      \n",
            " |      Refer to `numpy.reshape` for full documentation.\n",
            " |      \n",
            " |      See Also\n",
            " |      --------\n",
            " |      numpy.reshape : equivalent function\n",
            " |      \n",
            " |      Notes\n",
            " |      -----\n",
            " |      Unlike the free function `numpy.reshape`, this method on `ndarray` allows\n",
            " |      the elements of the shape parameter to be passed in as separate arguments.\n",
            " |      For example, ``a.reshape(10, 11)`` is equivalent to\n",
            " |      ``a.reshape((10, 11))``.\n",
            " |  \n",
            " |  resize(...)\n",
            " |      a.resize(new_shape, refcheck=True)\n",
            " |      \n",
            " |      Change shape and size of array in-place.\n",
            " |      \n",
            " |      Parameters\n",
            " |      ----------\n",
            " |      new_shape : tuple of ints, or `n` ints\n",
            " |          Shape of resized array.\n",
            " |      refcheck : bool, optional\n",
            " |          If False, reference count will not be checked. Default is True.\n",
            " |      \n",
            " |      Returns\n",
            " |      -------\n",
            " |      None\n",
            " |      \n",
            " |      Raises\n",
            " |      ------\n",
            " |      ValueError\n",
            " |          If `a` does not own its own data or references or views to it exist,\n",
            " |          and the data memory must be changed.\n",
            " |          PyPy only: will always raise if the data memory must be changed, since\n",
            " |          there is no reliable way to determine if references or views to it\n",
            " |          exist.\n",
            " |      \n",
            " |      SystemError\n",
            " |          If the `order` keyword argument is specified. This behaviour is a\n",
            " |          bug in NumPy.\n",
            " |      \n",
            " |      See Also\n",
            " |      --------\n",
            " |      resize : Return a new array with the specified shape.\n",
            " |      \n",
            " |      Notes\n",
            " |      -----\n",
            " |      This reallocates space for the data area if necessary.\n",
            " |      \n",
            " |      Only contiguous arrays (data elements consecutive in memory) can be\n",
            " |      resized.\n",
            " |      \n",
            " |      The purpose of the reference count check is to make sure you\n",
            " |      do not use this array as a buffer for another Python object and then\n",
            " |      reallocate the memory. However, reference counts can increase in\n",
            " |      other ways so if you are sure that you have not shared the memory\n",
            " |      for this array with another Python object, then you may safely set\n",
            " |      `refcheck` to False.\n",
            " |      \n",
            " |      Examples\n",
            " |      --------\n",
            " |      Shrinking an array: array is flattened (in the order that the data are\n",
            " |      stored in memory), resized, and reshaped:\n",
            " |      \n",
            " |      >>> a = np.array([[0, 1], [2, 3]], order='C')\n",
            " |      >>> a.resize((2, 1))\n",
            " |      >>> a\n",
            " |      array([[0],\n",
            " |             [1]])\n",
            " |      \n",
            " |      >>> a = np.array([[0, 1], [2, 3]], order='F')\n",
            " |      >>> a.resize((2, 1))\n",
            " |      >>> a\n",
            " |      array([[0],\n",
            " |             [2]])\n",
            " |      \n",
            " |      Enlarging an array: as above, but missing entries are filled with zeros:\n",
            " |      \n",
            " |      >>> b = np.array([[0, 1], [2, 3]])\n",
            " |      >>> b.resize(2, 3) # new_shape parameter doesn't have to be a tuple\n",
            " |      >>> b\n",
            " |      array([[0, 1, 2],\n",
            " |             [3, 0, 0]])\n",
            " |      \n",
            " |      Referencing an array prevents resizing...\n",
            " |      \n",
            " |      >>> c = a\n",
            " |      >>> a.resize((1, 1))\n",
            " |      Traceback (most recent call last):\n",
            " |      ...\n",
            " |      ValueError: cannot resize an array that references or is referenced ...\n",
            " |      \n",
            " |      Unless `refcheck` is False:\n",
            " |      \n",
            " |      >>> a.resize((1, 1), refcheck=False)\n",
            " |      >>> a\n",
            " |      array([[0]])\n",
            " |      >>> c\n",
            " |      array([[0]])\n",
            " |  \n",
            " |  round(...)\n",
            " |      a.round(decimals=0, out=None)\n",
            " |      \n",
            " |      Return `a` with each element rounded to the given number of decimals.\n",
            " |      \n",
            " |      Refer to `numpy.around` for full documentation.\n",
            " |      \n",
            " |      See Also\n",
            " |      --------\n",
            " |      numpy.around : equivalent function\n",
            " |  \n",
            " |  searchsorted(...)\n",
            " |      a.searchsorted(v, side='left', sorter=None)\n",
            " |      \n",
            " |      Find indices where elements of v should be inserted in a to maintain order.\n",
            " |      \n",
            " |      For full documentation, see `numpy.searchsorted`\n",
            " |      \n",
            " |      See Also\n",
            " |      --------\n",
            " |      numpy.searchsorted : equivalent function\n",
            " |  \n",
            " |  setfield(...)\n",
            " |      a.setfield(val, dtype, offset=0)\n",
            " |      \n",
            " |      Put a value into a specified place in a field defined by a data-type.\n",
            " |      \n",
            " |      Place `val` into `a`'s field defined by `dtype` and beginning `offset`\n",
            " |      bytes into the field.\n",
            " |      \n",
            " |      Parameters\n",
            " |      ----------\n",
            " |      val : object\n",
            " |          Value to be placed in field.\n",
            " |      dtype : dtype object\n",
            " |          Data-type of the field in which to place `val`.\n",
            " |      offset : int, optional\n",
            " |          The number of bytes into the field at which to place `val`.\n",
            " |      \n",
            " |      Returns\n",
            " |      -------\n",
            " |      None\n",
            " |      \n",
            " |      See Also\n",
            " |      --------\n",
            " |      getfield\n",
            " |      \n",
            " |      Examples\n",
            " |      --------\n",
            " |      >>> x = np.eye(3)\n",
            " |      >>> x.getfield(np.float64)\n",
            " |      array([[1.,  0.,  0.],\n",
            " |             [0.,  1.,  0.],\n",
            " |             [0.,  0.,  1.]])\n",
            " |      >>> x.setfield(3, np.int32)\n",
            " |      >>> x.getfield(np.int32)\n",
            " |      array([[3, 3, 3],\n",
            " |             [3, 3, 3],\n",
            " |             [3, 3, 3]], dtype=int32)\n",
            " |      >>> x\n",
            " |      array([[1.0e+000, 1.5e-323, 1.5e-323],\n",
            " |             [1.5e-323, 1.0e+000, 1.5e-323],\n",
            " |             [1.5e-323, 1.5e-323, 1.0e+000]])\n",
            " |      >>> x.setfield(np.eye(3), np.int32)\n",
            " |      >>> x\n",
            " |      array([[1.,  0.,  0.],\n",
            " |             [0.,  1.,  0.],\n",
            " |             [0.,  0.,  1.]])\n",
            " |  \n",
            " |  setflags(...)\n",
            " |      a.setflags(write=None, align=None, uic=None)\n",
            " |      \n",
            " |      Set array flags WRITEABLE, ALIGNED, (WRITEBACKIFCOPY and UPDATEIFCOPY),\n",
            " |      respectively.\n",
            " |      \n",
            " |      These Boolean-valued flags affect how numpy interprets the memory\n",
            " |      area used by `a` (see Notes below). The ALIGNED flag can only\n",
            " |      be set to True if the data is actually aligned according to the type.\n",
            " |      The WRITEBACKIFCOPY and (deprecated) UPDATEIFCOPY flags can never be set\n",
            " |      to True. The flag WRITEABLE can only be set to True if the array owns its\n",
            " |      own memory, or the ultimate owner of the memory exposes a writeable buffer\n",
            " |      interface, or is a string. (The exception for string is made so that\n",
            " |      unpickling can be done without copying memory.)\n",
            " |      \n",
            " |      Parameters\n",
            " |      ----------\n",
            " |      write : bool, optional\n",
            " |          Describes whether or not `a` can be written to.\n",
            " |      align : bool, optional\n",
            " |          Describes whether or not `a` is aligned properly for its type.\n",
            " |      uic : bool, optional\n",
            " |          Describes whether or not `a` is a copy of another \"base\" array.\n",
            " |      \n",
            " |      Notes\n",
            " |      -----\n",
            " |      Array flags provide information about how the memory area used\n",
            " |      for the array is to be interpreted. There are 7 Boolean flags\n",
            " |      in use, only four of which can be changed by the user:\n",
            " |      WRITEBACKIFCOPY, UPDATEIFCOPY, WRITEABLE, and ALIGNED.\n",
            " |      \n",
            " |      WRITEABLE (W) the data area can be written to;\n",
            " |      \n",
            " |      ALIGNED (A) the data and strides are aligned appropriately for the hardware\n",
            " |      (as determined by the compiler);\n",
            " |      \n",
            " |      UPDATEIFCOPY (U) (deprecated), replaced by WRITEBACKIFCOPY;\n",
            " |      \n",
            " |      WRITEBACKIFCOPY (X) this array is a copy of some other array (referenced\n",
            " |      by .base). When the C-API function PyArray_ResolveWritebackIfCopy is\n",
            " |      called, the base array will be updated with the contents of this array.\n",
            " |      \n",
            " |      All flags can be accessed using the single (upper case) letter as well\n",
            " |      as the full name.\n",
            " |      \n",
            " |      Examples\n",
            " |      --------\n",
            " |      >>> y = np.array([[3, 1, 7],\n",
            " |      ...               [2, 0, 0],\n",
            " |      ...               [8, 5, 9]])\n",
            " |      >>> y\n",
            " |      array([[3, 1, 7],\n",
            " |             [2, 0, 0],\n",
            " |             [8, 5, 9]])\n",
            " |      >>> y.flags\n",
            " |        C_CONTIGUOUS : True\n",
            " |        F_CONTIGUOUS : False\n",
            " |        OWNDATA : True\n",
            " |        WRITEABLE : True\n",
            " |        ALIGNED : True\n",
            " |        WRITEBACKIFCOPY : False\n",
            " |        UPDATEIFCOPY : False\n",
            " |      >>> y.setflags(write=0, align=0)\n",
            " |      >>> y.flags\n",
            " |        C_CONTIGUOUS : True\n",
            " |        F_CONTIGUOUS : False\n",
            " |        OWNDATA : True\n",
            " |        WRITEABLE : False\n",
            " |        ALIGNED : False\n",
            " |        WRITEBACKIFCOPY : False\n",
            " |        UPDATEIFCOPY : False\n",
            " |      >>> y.setflags(uic=1)\n",
            " |      Traceback (most recent call last):\n",
            " |        File \"<stdin>\", line 1, in <module>\n",
            " |      ValueError: cannot set WRITEBACKIFCOPY flag to True\n",
            " |  \n",
            " |  sort(...)\n",
            " |      a.sort(axis=-1, kind=None, order=None)\n",
            " |      \n",
            " |      Sort an array in-place. Refer to `numpy.sort` for full documentation.\n",
            " |      \n",
            " |      Parameters\n",
            " |      ----------\n",
            " |      axis : int, optional\n",
            " |          Axis along which to sort. Default is -1, which means sort along the\n",
            " |          last axis.\n",
            " |      kind : {'quicksort', 'mergesort', 'heapsort', 'stable'}, optional\n",
            " |          Sorting algorithm. The default is 'quicksort'. Note that both 'stable'\n",
            " |          and 'mergesort' use timsort under the covers and, in general, the\n",
            " |          actual implementation will vary with datatype. The 'mergesort' option\n",
            " |          is retained for backwards compatibility.\n",
            " |      \n",
            " |          .. versionchanged:: 1.15.0.\n",
            " |             The 'stable' option was added.\n",
            " |      \n",
            " |      order : str or list of str, optional\n",
            " |          When `a` is an array with fields defined, this argument specifies\n",
            " |          which fields to compare first, second, etc.  A single field can\n",
            " |          be specified as a string, and not all fields need be specified,\n",
            " |          but unspecified fields will still be used, in the order in which\n",
            " |          they come up in the dtype, to break ties.\n",
            " |      \n",
            " |      See Also\n",
            " |      --------\n",
            " |      numpy.sort : Return a sorted copy of an array.\n",
            " |      argsort : Indirect sort.\n",
            " |      lexsort : Indirect stable sort on multiple keys.\n",
            " |      searchsorted : Find elements in sorted array.\n",
            " |      partition: Partial sort.\n",
            " |      \n",
            " |      Notes\n",
            " |      -----\n",
            " |      See `numpy.sort` for notes on the different sorting algorithms.\n",
            " |      \n",
            " |      Examples\n",
            " |      --------\n",
            " |      >>> a = np.array([[1,4], [3,1]])\n",
            " |      >>> a.sort(axis=1)\n",
            " |      >>> a\n",
            " |      array([[1, 4],\n",
            " |             [1, 3]])\n",
            " |      >>> a.sort(axis=0)\n",
            " |      >>> a\n",
            " |      array([[1, 3],\n",
            " |             [1, 4]])\n",
            " |      \n",
            " |      Use the `order` keyword to specify a field to use when sorting a\n",
            " |      structured array:\n",
            " |      \n",
            " |      >>> a = np.array([('a', 2), ('c', 1)], dtype=[('x', 'S1'), ('y', int)])\n",
            " |      >>> a.sort(order='y')\n",
            " |      >>> a\n",
            " |      array([(b'c', 1), (b'a', 2)],\n",
            " |            dtype=[('x', 'S1'), ('y', '<i8')])\n",
            " |  \n",
            " |  swapaxes(...)\n",
            " |      a.swapaxes(axis1, axis2)\n",
            " |      \n",
            " |      Return a view of the array with `axis1` and `axis2` interchanged.\n",
            " |      \n",
            " |      Refer to `numpy.swapaxes` for full documentation.\n",
            " |      \n",
            " |      See Also\n",
            " |      --------\n",
            " |      numpy.swapaxes : equivalent function\n",
            " |  \n",
            " |  take(...)\n",
            " |      a.take(indices, axis=None, out=None, mode='raise')\n",
            " |      \n",
            " |      Return an array formed from the elements of `a` at the given indices.\n",
            " |      \n",
            " |      Refer to `numpy.take` for full documentation.\n",
            " |      \n",
            " |      See Also\n",
            " |      --------\n",
            " |      numpy.take : equivalent function\n",
            " |  \n",
            " |  tobytes(...)\n",
            " |      a.tobytes(order='C')\n",
            " |      \n",
            " |      Construct Python bytes containing the raw data bytes in the array.\n",
            " |      \n",
            " |      Constructs Python bytes showing a copy of the raw contents of\n",
            " |      data memory. The bytes object can be produced in either 'C' or 'Fortran',\n",
            " |      or 'Any' order (the default is 'C'-order). 'Any' order means C-order\n",
            " |      unless the F_CONTIGUOUS flag in the array is set, in which case it\n",
            " |      means 'Fortran' order.\n",
            " |      \n",
            " |      .. versionadded:: 1.9.0\n",
            " |      \n",
            " |      Parameters\n",
            " |      ----------\n",
            " |      order : {'C', 'F', None}, optional\n",
            " |          Order of the data for multidimensional arrays:\n",
            " |          C, Fortran, or the same as for the original array.\n",
            " |      \n",
            " |      Returns\n",
            " |      -------\n",
            " |      s : bytes\n",
            " |          Python bytes exhibiting a copy of `a`'s raw data.\n",
            " |      \n",
            " |      Examples\n",
            " |      --------\n",
            " |      >>> x = np.array([[0, 1], [2, 3]], dtype='<u2')\n",
            " |      >>> x.tobytes()\n",
            " |      b'\\x00\\x00\\x01\\x00\\x02\\x00\\x03\\x00'\n",
            " |      >>> x.tobytes('C') == x.tobytes()\n",
            " |      True\n",
            " |      >>> x.tobytes('F')\n",
            " |      b'\\x00\\x00\\x02\\x00\\x01\\x00\\x03\\x00'\n",
            " |  \n",
            " |  tofile(...)\n",
            " |      a.tofile(fid, sep=\"\", format=\"%s\")\n",
            " |      \n",
            " |      Write array to a file as text or binary (default).\n",
            " |      \n",
            " |      Data is always written in 'C' order, independent of the order of `a`.\n",
            " |      The data produced by this method can be recovered using the function\n",
            " |      fromfile().\n",
            " |      \n",
            " |      Parameters\n",
            " |      ----------\n",
            " |      fid : file or str or Path\n",
            " |          An open file object, or a string containing a filename.\n",
            " |      \n",
            " |          .. versionchanged:: 1.17.0\n",
            " |              `pathlib.Path` objects are now accepted.\n",
            " |      \n",
            " |      sep : str\n",
            " |          Separator between array items for text output.\n",
            " |          If \"\" (empty), a binary file is written, equivalent to\n",
            " |          ``file.write(a.tobytes())``.\n",
            " |      format : str\n",
            " |          Format string for text file output.\n",
            " |          Each entry in the array is formatted to text by first converting\n",
            " |          it to the closest Python type, and then using \"format\" % item.\n",
            " |      \n",
            " |      Notes\n",
            " |      -----\n",
            " |      This is a convenience function for quick storage of array data.\n",
            " |      Information on endianness and precision is lost, so this method is not a\n",
            " |      good choice for files intended to archive data or transport data between\n",
            " |      machines with different endianness. Some of these problems can be overcome\n",
            " |      by outputting the data as text files, at the expense of speed and file\n",
            " |      size.\n",
            " |      \n",
            " |      When fid is a file object, array contents are directly written to the\n",
            " |      file, bypassing the file object's ``write`` method. As a result, tofile\n",
            " |      cannot be used with files objects supporting compression (e.g., GzipFile)\n",
            " |      or file-like objects that do not support ``fileno()`` (e.g., BytesIO).\n",
            " |  \n",
            " |  tostring(...)\n",
            " |      a.tostring(order='C')\n",
            " |      \n",
            " |      Construct Python bytes containing the raw data bytes in the array.\n",
            " |      \n",
            " |      Constructs Python bytes showing a copy of the raw contents of\n",
            " |      data memory. The bytes object can be produced in either 'C' or 'Fortran',\n",
            " |      or 'Any' order (the default is 'C'-order). 'Any' order means C-order\n",
            " |      unless the F_CONTIGUOUS flag in the array is set, in which case it\n",
            " |      means 'Fortran' order.\n",
            " |      \n",
            " |      This function is a compatibility alias for tobytes. Despite its name it returns bytes not strings.\n",
            " |      \n",
            " |      Parameters\n",
            " |      ----------\n",
            " |      order : {'C', 'F', None}, optional\n",
            " |          Order of the data for multidimensional arrays:\n",
            " |          C, Fortran, or the same as for the original array.\n",
            " |      \n",
            " |      Returns\n",
            " |      -------\n",
            " |      s : bytes\n",
            " |          Python bytes exhibiting a copy of `a`'s raw data.\n",
            " |      \n",
            " |      Examples\n",
            " |      --------\n",
            " |      >>> x = np.array([[0, 1], [2, 3]], dtype='<u2')\n",
            " |      >>> x.tobytes()\n",
            " |      b'\\x00\\x00\\x01\\x00\\x02\\x00\\x03\\x00'\n",
            " |      >>> x.tobytes('C') == x.tobytes()\n",
            " |      True\n",
            " |      >>> x.tobytes('F')\n",
            " |      b'\\x00\\x00\\x02\\x00\\x01\\x00\\x03\\x00'\n",
            " |  \n",
            " |  trace(...)\n",
            " |      a.trace(offset=0, axis1=0, axis2=1, dtype=None, out=None)\n",
            " |      \n",
            " |      Return the sum along diagonals of the array.\n",
            " |      \n",
            " |      Refer to `numpy.trace` for full documentation.\n",
            " |      \n",
            " |      See Also\n",
            " |      --------\n",
            " |      numpy.trace : equivalent function\n",
            " |  \n",
            " |  transpose(...)\n",
            " |      a.transpose(*axes)\n",
            " |      \n",
            " |      Returns a view of the array with axes transposed.\n",
            " |      \n",
            " |      For a 1-D array this has no effect, as a transposed vector is simply the\n",
            " |      same vector. To convert a 1-D array into a 2D column vector, an additional\n",
            " |      dimension must be added. `np.atleast2d(a).T` achieves this, as does\n",
            " |      `a[:, np.newaxis]`.\n",
            " |      For a 2-D array, this is a standard matrix transpose.\n",
            " |      For an n-D array, if axes are given, their order indicates how the\n",
            " |      axes are permuted (see Examples). If axes are not provided and\n",
            " |      ``a.shape = (i[0], i[1], ... i[n-2], i[n-1])``, then\n",
            " |      ``a.transpose().shape = (i[n-1], i[n-2], ... i[1], i[0])``.\n",
            " |      \n",
            " |      Parameters\n",
            " |      ----------\n",
            " |      axes : None, tuple of ints, or `n` ints\n",
            " |      \n",
            " |       * None or no argument: reverses the order of the axes.\n",
            " |      \n",
            " |       * tuple of ints: `i` in the `j`-th place in the tuple means `a`'s\n",
            " |         `i`-th axis becomes `a.transpose()`'s `j`-th axis.\n",
            " |      \n",
            " |       * `n` ints: same as an n-tuple of the same ints (this form is\n",
            " |         intended simply as a \"convenience\" alternative to the tuple form)\n",
            " |      \n",
            " |      Returns\n",
            " |      -------\n",
            " |      out : ndarray\n",
            " |          View of `a`, with axes suitably permuted.\n",
            " |      \n",
            " |      See Also\n",
            " |      --------\n",
            " |      ndarray.T : Array property returning the array transposed.\n",
            " |      ndarray.reshape : Give a new shape to an array without changing its data.\n",
            " |      \n",
            " |      Examples\n",
            " |      --------\n",
            " |      >>> a = np.array([[1, 2], [3, 4]])\n",
            " |      >>> a\n",
            " |      array([[1, 2],\n",
            " |             [3, 4]])\n",
            " |      >>> a.transpose()\n",
            " |      array([[1, 3],\n",
            " |             [2, 4]])\n",
            " |      >>> a.transpose((1, 0))\n",
            " |      array([[1, 3],\n",
            " |             [2, 4]])\n",
            " |      >>> a.transpose(1, 0)\n",
            " |      array([[1, 3],\n",
            " |             [2, 4]])\n",
            " |  \n",
            " |  view(...)\n",
            " |      a.view(dtype=None, type=None)\n",
            " |      \n",
            " |      New view of array with the same data.\n",
            " |      \n",
            " |      Parameters\n",
            " |      ----------\n",
            " |      dtype : data-type or ndarray sub-class, optional\n",
            " |          Data-type descriptor of the returned view, e.g., float32 or int16. The\n",
            " |          default, None, results in the view having the same data-type as `a`.\n",
            " |          This argument can also be specified as an ndarray sub-class, which\n",
            " |          then specifies the type of the returned object (this is equivalent to\n",
            " |          setting the ``type`` parameter).\n",
            " |      type : Python type, optional\n",
            " |          Type of the returned view, e.g., ndarray or matrix.  Again, the\n",
            " |          default None results in type preservation.\n",
            " |      \n",
            " |      Notes\n",
            " |      -----\n",
            " |      ``a.view()`` is used two different ways:\n",
            " |      \n",
            " |      ``a.view(some_dtype)`` or ``a.view(dtype=some_dtype)`` constructs a view\n",
            " |      of the array's memory with a different data-type.  This can cause a\n",
            " |      reinterpretation of the bytes of memory.\n",
            " |      \n",
            " |      ``a.view(ndarray_subclass)`` or ``a.view(type=ndarray_subclass)`` just\n",
            " |      returns an instance of `ndarray_subclass` that looks at the same array\n",
            " |      (same shape, dtype, etc.)  This does not cause a reinterpretation of the\n",
            " |      memory.\n",
            " |      \n",
            " |      For ``a.view(some_dtype)``, if ``some_dtype`` has a different number of\n",
            " |      bytes per entry than the previous dtype (for example, converting a\n",
            " |      regular array to a structured array), then the behavior of the view\n",
            " |      cannot be predicted just from the superficial appearance of ``a`` (shown\n",
            " |      by ``print(a)``). It also depends on exactly how ``a`` is stored in\n",
            " |      memory. Therefore if ``a`` is C-ordered versus fortran-ordered, versus\n",
            " |      defined as a slice or transpose, etc., the view may give different\n",
            " |      results.\n",
            " |      \n",
            " |      \n",
            " |      Examples\n",
            " |      --------\n",
            " |      >>> x = np.array([(1, 2)], dtype=[('a', np.int8), ('b', np.int8)])\n",
            " |      \n",
            " |      Viewing array data using a different type and dtype:\n",
            " |      \n",
            " |      >>> y = x.view(dtype=np.int16, type=np.matrix)\n",
            " |      >>> y\n",
            " |      matrix([[513]], dtype=int16)\n",
            " |      >>> print(type(y))\n",
            " |      <class 'numpy.matrix'>\n",
            " |      \n",
            " |      Creating a view on a structured array so it can be used in calculations\n",
            " |      \n",
            " |      >>> x = np.array([(1, 2),(3,4)], dtype=[('a', np.int8), ('b', np.int8)])\n",
            " |      >>> xv = x.view(dtype=np.int8).reshape(-1,2)\n",
            " |      >>> xv\n",
            " |      array([[1, 2],\n",
            " |             [3, 4]], dtype=int8)\n",
            " |      >>> xv.mean(0)\n",
            " |      array([2.,  3.])\n",
            " |      \n",
            " |      Making changes to the view changes the underlying array\n",
            " |      \n",
            " |      >>> xv[0,1] = 20\n",
            " |      >>> x\n",
            " |      array([(1, 20), (3,  4)], dtype=[('a', 'i1'), ('b', 'i1')])\n",
            " |      \n",
            " |      Using a view to convert an array to a recarray:\n",
            " |      \n",
            " |      >>> z = x.view(np.recarray)\n",
            " |      >>> z.a\n",
            " |      array([1, 3], dtype=int8)\n",
            " |      \n",
            " |      Views share data:\n",
            " |      \n",
            " |      >>> x[0] = (9, 10)\n",
            " |      >>> z[0]\n",
            " |      (9, 10)\n",
            " |      \n",
            " |      Views that change the dtype size (bytes per entry) should normally be\n",
            " |      avoided on arrays defined by slices, transposes, fortran-ordering, etc.:\n",
            " |      \n",
            " |      >>> x = np.array([[1,2,3],[4,5,6]], dtype=np.int16)\n",
            " |      >>> y = x[:, 0:2]\n",
            " |      >>> y\n",
            " |      array([[1, 2],\n",
            " |             [4, 5]], dtype=int16)\n",
            " |      >>> y.view(dtype=[('width', np.int16), ('length', np.int16)])\n",
            " |      Traceback (most recent call last):\n",
            " |          ...\n",
            " |      ValueError: To change to a dtype of a different size, the array must be C-contiguous\n",
            " |      >>> z = y.copy()\n",
            " |      >>> z.view(dtype=[('width', np.int16), ('length', np.int16)])\n",
            " |      array([[(1, 2)],\n",
            " |             [(4, 5)]], dtype=[('width', '<i2'), ('length', '<i2')])\n",
            " |  \n",
            " |  ----------------------------------------------------------------------\n",
            " |  Data descriptors inherited from ndarray:\n",
            " |  \n",
            " |  __array_interface__\n",
            " |      Array protocol: Python side.\n",
            " |  \n",
            " |  __array_struct__\n",
            " |      Array protocol: C-struct side.\n",
            " |  \n",
            " |  base\n",
            " |      Base object if memory is from some other object.\n",
            " |      \n",
            " |      Examples\n",
            " |      --------\n",
            " |      The base of an array that owns its memory is None:\n",
            " |      \n",
            " |      >>> x = np.array([1,2,3,4])\n",
            " |      >>> x.base is None\n",
            " |      True\n",
            " |      \n",
            " |      Slicing creates a view, whose memory is shared with x:\n",
            " |      \n",
            " |      >>> y = x[2:]\n",
            " |      >>> y.base is x\n",
            " |      True\n",
            " |  \n",
            " |  ctypes\n",
            " |      An object to simplify the interaction of the array with the ctypes\n",
            " |      module.\n",
            " |      \n",
            " |      This attribute creates an object that makes it easier to use arrays\n",
            " |      when calling shared libraries with the ctypes module. The returned\n",
            " |      object has, among others, data, shape, and strides attributes (see\n",
            " |      Notes below) which themselves return ctypes objects that can be used\n",
            " |      as arguments to a shared library.\n",
            " |      \n",
            " |      Parameters\n",
            " |      ----------\n",
            " |      None\n",
            " |      \n",
            " |      Returns\n",
            " |      -------\n",
            " |      c : Python object\n",
            " |          Possessing attributes data, shape, strides, etc.\n",
            " |      \n",
            " |      See Also\n",
            " |      --------\n",
            " |      numpy.ctypeslib\n",
            " |      \n",
            " |      Notes\n",
            " |      -----\n",
            " |      Below are the public attributes of this object which were documented\n",
            " |      in \"Guide to NumPy\" (we have omitted undocumented public attributes,\n",
            " |      as well as documented private attributes):\n",
            " |      \n",
            " |      .. autoattribute:: numpy.core._internal._ctypes.data\n",
            " |          :noindex:\n",
            " |      \n",
            " |      .. autoattribute:: numpy.core._internal._ctypes.shape\n",
            " |          :noindex:\n",
            " |      \n",
            " |      .. autoattribute:: numpy.core._internal._ctypes.strides\n",
            " |          :noindex:\n",
            " |      \n",
            " |      .. automethod:: numpy.core._internal._ctypes.data_as\n",
            " |          :noindex:\n",
            " |      \n",
            " |      .. automethod:: numpy.core._internal._ctypes.shape_as\n",
            " |          :noindex:\n",
            " |      \n",
            " |      .. automethod:: numpy.core._internal._ctypes.strides_as\n",
            " |          :noindex:\n",
            " |      \n",
            " |      If the ctypes module is not available, then the ctypes attribute\n",
            " |      of array objects still returns something useful, but ctypes objects\n",
            " |      are not returned and errors may be raised instead. In particular,\n",
            " |      the object will still have the ``as_parameter`` attribute which will\n",
            " |      return an integer equal to the data attribute.\n",
            " |      \n",
            " |      Examples\n",
            " |      --------\n",
            " |      >>> import ctypes\n",
            " |      >>> x\n",
            " |      array([[0, 1],\n",
            " |             [2, 3]])\n",
            " |      >>> x.ctypes.data\n",
            " |      30439712\n",
            " |      >>> x.ctypes.data_as(ctypes.POINTER(ctypes.c_long))\n",
            " |      <ctypes.LP_c_long object at 0x01F01300>\n",
            " |      >>> x.ctypes.data_as(ctypes.POINTER(ctypes.c_long)).contents\n",
            " |      c_long(0)\n",
            " |      >>> x.ctypes.data_as(ctypes.POINTER(ctypes.c_longlong)).contents\n",
            " |      c_longlong(4294967296L)\n",
            " |      >>> x.ctypes.shape\n",
            " |      <numpy.core._internal.c_long_Array_2 object at 0x01FFD580>\n",
            " |      >>> x.ctypes.shape_as(ctypes.c_long)\n",
            " |      <numpy.core._internal.c_long_Array_2 object at 0x01FCE620>\n",
            " |      >>> x.ctypes.strides\n",
            " |      <numpy.core._internal.c_long_Array_2 object at 0x01FCE620>\n",
            " |      >>> x.ctypes.strides_as(ctypes.c_longlong)\n",
            " |      <numpy.core._internal.c_longlong_Array_2 object at 0x01F01300>\n",
            " |  \n",
            " |  data\n",
            " |      Python buffer object pointing to the start of the array's data.\n",
            " |  \n",
            " |  dtype\n",
            " |      Data-type of the array's elements.\n",
            " |      \n",
            " |      Parameters\n",
            " |      ----------\n",
            " |      None\n",
            " |      \n",
            " |      Returns\n",
            " |      -------\n",
            " |      d : numpy dtype object\n",
            " |      \n",
            " |      See Also\n",
            " |      --------\n",
            " |      numpy.dtype\n",
            " |      \n",
            " |      Examples\n",
            " |      --------\n",
            " |      >>> x\n",
            " |      array([[0, 1],\n",
            " |             [2, 3]])\n",
            " |      >>> x.dtype\n",
            " |      dtype('int32')\n",
            " |      >>> type(x.dtype)\n",
            " |      <type 'numpy.dtype'>\n",
            " |  \n",
            " |  flags\n",
            " |      Information about the memory layout of the array.\n",
            " |      \n",
            " |      Attributes\n",
            " |      ----------\n",
            " |      C_CONTIGUOUS (C)\n",
            " |          The data is in a single, C-style contiguous segment.\n",
            " |      F_CONTIGUOUS (F)\n",
            " |          The data is in a single, Fortran-style contiguous segment.\n",
            " |      OWNDATA (O)\n",
            " |          The array owns the memory it uses or borrows it from another object.\n",
            " |      WRITEABLE (W)\n",
            " |          The data area can be written to.  Setting this to False locks\n",
            " |          the data, making it read-only.  A view (slice, etc.) inherits WRITEABLE\n",
            " |          from its base array at creation time, but a view of a writeable\n",
            " |          array may be subsequently locked while the base array remains writeable.\n",
            " |          (The opposite is not true, in that a view of a locked array may not\n",
            " |          be made writeable.  However, currently, locking a base object does not\n",
            " |          lock any views that already reference it, so under that circumstance it\n",
            " |          is possible to alter the contents of a locked array via a previously\n",
            " |          created writeable view onto it.)  Attempting to change a non-writeable\n",
            " |          array raises a RuntimeError exception.\n",
            " |      ALIGNED (A)\n",
            " |          The data and all elements are aligned appropriately for the hardware.\n",
            " |      WRITEBACKIFCOPY (X)\n",
            " |          This array is a copy of some other array. The C-API function\n",
            " |          PyArray_ResolveWritebackIfCopy must be called before deallocating\n",
            " |          to the base array will be updated with the contents of this array.\n",
            " |      UPDATEIFCOPY (U)\n",
            " |          (Deprecated, use WRITEBACKIFCOPY) This array is a copy of some other array.\n",
            " |          When this array is\n",
            " |          deallocated, the base array will be updated with the contents of\n",
            " |          this array.\n",
            " |      FNC\n",
            " |          F_CONTIGUOUS and not C_CONTIGUOUS.\n",
            " |      FORC\n",
            " |          F_CONTIGUOUS or C_CONTIGUOUS (one-segment test).\n",
            " |      BEHAVED (B)\n",
            " |          ALIGNED and WRITEABLE.\n",
            " |      CARRAY (CA)\n",
            " |          BEHAVED and C_CONTIGUOUS.\n",
            " |      FARRAY (FA)\n",
            " |          BEHAVED and F_CONTIGUOUS and not C_CONTIGUOUS.\n",
            " |      \n",
            " |      Notes\n",
            " |      -----\n",
            " |      The `flags` object can be accessed dictionary-like (as in ``a.flags['WRITEABLE']``),\n",
            " |      or by using lowercased attribute names (as in ``a.flags.writeable``). Short flag\n",
            " |      names are only supported in dictionary access.\n",
            " |      \n",
            " |      Only the WRITEBACKIFCOPY, UPDATEIFCOPY, WRITEABLE, and ALIGNED flags can be\n",
            " |      changed by the user, via direct assignment to the attribute or dictionary\n",
            " |      entry, or by calling `ndarray.setflags`.\n",
            " |      \n",
            " |      The array flags cannot be set arbitrarily:\n",
            " |      \n",
            " |      - UPDATEIFCOPY can only be set ``False``.\n",
            " |      - WRITEBACKIFCOPY can only be set ``False``.\n",
            " |      - ALIGNED can only be set ``True`` if the data is truly aligned.\n",
            " |      - WRITEABLE can only be set ``True`` if the array owns its own memory\n",
            " |        or the ultimate owner of the memory exposes a writeable buffer\n",
            " |        interface or is a string.\n",
            " |      \n",
            " |      Arrays can be both C-style and Fortran-style contiguous simultaneously.\n",
            " |      This is clear for 1-dimensional arrays, but can also be true for higher\n",
            " |      dimensional arrays.\n",
            " |      \n",
            " |      Even for contiguous arrays a stride for a given dimension\n",
            " |      ``arr.strides[dim]`` may be *arbitrary* if ``arr.shape[dim] == 1``\n",
            " |      or the array has no elements.\n",
            " |      It does *not* generally hold that ``self.strides[-1] == self.itemsize``\n",
            " |      for C-style contiguous arrays or ``self.strides[0] == self.itemsize`` for\n",
            " |      Fortran-style contiguous arrays is true.\n",
            " |  \n",
            " |  flat\n",
            " |      A 1-D iterator over the array.\n",
            " |      \n",
            " |      This is a `numpy.flatiter` instance, which acts similarly to, but is not\n",
            " |      a subclass of, Python's built-in iterator object.\n",
            " |      \n",
            " |      See Also\n",
            " |      --------\n",
            " |      flatten : Return a copy of the array collapsed into one dimension.\n",
            " |      \n",
            " |      flatiter\n",
            " |      \n",
            " |      Examples\n",
            " |      --------\n",
            " |      >>> x = np.arange(1, 7).reshape(2, 3)\n",
            " |      >>> x\n",
            " |      array([[1, 2, 3],\n",
            " |             [4, 5, 6]])\n",
            " |      >>> x.flat[3]\n",
            " |      4\n",
            " |      >>> x.T\n",
            " |      array([[1, 4],\n",
            " |             [2, 5],\n",
            " |             [3, 6]])\n",
            " |      >>> x.T.flat[3]\n",
            " |      5\n",
            " |      >>> type(x.flat)\n",
            " |      <class 'numpy.flatiter'>\n",
            " |      \n",
            " |      An assignment example:\n",
            " |      \n",
            " |      >>> x.flat = 3; x\n",
            " |      array([[3, 3, 3],\n",
            " |             [3, 3, 3]])\n",
            " |      >>> x.flat[[1,4]] = 1; x\n",
            " |      array([[3, 1, 3],\n",
            " |             [3, 1, 3]])\n",
            " |  \n",
            " |  imag\n",
            " |      The imaginary part of the array.\n",
            " |      \n",
            " |      Examples\n",
            " |      --------\n",
            " |      >>> x = np.sqrt([1+0j, 0+1j])\n",
            " |      >>> x.imag\n",
            " |      array([ 0.        ,  0.70710678])\n",
            " |      >>> x.imag.dtype\n",
            " |      dtype('float64')\n",
            " |  \n",
            " |  itemsize\n",
            " |      Length of one array element in bytes.\n",
            " |      \n",
            " |      Examples\n",
            " |      --------\n",
            " |      >>> x = np.array([1,2,3], dtype=np.float64)\n",
            " |      >>> x.itemsize\n",
            " |      8\n",
            " |      >>> x = np.array([1,2,3], dtype=np.complex128)\n",
            " |      >>> x.itemsize\n",
            " |      16\n",
            " |  \n",
            " |  nbytes\n",
            " |      Total bytes consumed by the elements of the array.\n",
            " |      \n",
            " |      Notes\n",
            " |      -----\n",
            " |      Does not include memory consumed by non-element attributes of the\n",
            " |      array object.\n",
            " |      \n",
            " |      Examples\n",
            " |      --------\n",
            " |      >>> x = np.zeros((3,5,2), dtype=np.complex128)\n",
            " |      >>> x.nbytes\n",
            " |      480\n",
            " |      >>> np.prod(x.shape) * x.itemsize\n",
            " |      480\n",
            " |  \n",
            " |  ndim\n",
            " |      Number of array dimensions.\n",
            " |      \n",
            " |      Examples\n",
            " |      --------\n",
            " |      >>> x = np.array([1, 2, 3])\n",
            " |      >>> x.ndim\n",
            " |      1\n",
            " |      >>> y = np.zeros((2, 3, 4))\n",
            " |      >>> y.ndim\n",
            " |      3\n",
            " |  \n",
            " |  real\n",
            " |      The real part of the array.\n",
            " |      \n",
            " |      Examples\n",
            " |      --------\n",
            " |      >>> x = np.sqrt([1+0j, 0+1j])\n",
            " |      >>> x.real\n",
            " |      array([ 1.        ,  0.70710678])\n",
            " |      >>> x.real.dtype\n",
            " |      dtype('float64')\n",
            " |      \n",
            " |      See Also\n",
            " |      --------\n",
            " |      numpy.real : equivalent function\n",
            " |  \n",
            " |  shape\n",
            " |      Tuple of array dimensions.\n",
            " |      \n",
            " |      The shape property is usually used to get the current shape of an array,\n",
            " |      but may also be used to reshape the array in-place by assigning a tuple of\n",
            " |      array dimensions to it.  As with `numpy.reshape`, one of the new shape\n",
            " |      dimensions can be -1, in which case its value is inferred from the size of\n",
            " |      the array and the remaining dimensions. Reshaping an array in-place will\n",
            " |      fail if a copy is required.\n",
            " |      \n",
            " |      Examples\n",
            " |      --------\n",
            " |      >>> x = np.array([1, 2, 3, 4])\n",
            " |      >>> x.shape\n",
            " |      (4,)\n",
            " |      >>> y = np.zeros((2, 3, 4))\n",
            " |      >>> y.shape\n",
            " |      (2, 3, 4)\n",
            " |      >>> y.shape = (3, 8)\n",
            " |      >>> y\n",
            " |      array([[ 0.,  0.,  0.,  0.,  0.,  0.,  0.,  0.],\n",
            " |             [ 0.,  0.,  0.,  0.,  0.,  0.,  0.,  0.],\n",
            " |             [ 0.,  0.,  0.,  0.,  0.,  0.,  0.,  0.]])\n",
            " |      >>> y.shape = (3, 6)\n",
            " |      Traceback (most recent call last):\n",
            " |        File \"<stdin>\", line 1, in <module>\n",
            " |      ValueError: total size of new array must be unchanged\n",
            " |      >>> np.zeros((4,2))[::2].shape = (-1,)\n",
            " |      Traceback (most recent call last):\n",
            " |        File \"<stdin>\", line 1, in <module>\n",
            " |      AttributeError: incompatible shape for a non-contiguous array\n",
            " |      \n",
            " |      See Also\n",
            " |      --------\n",
            " |      numpy.reshape : similar function\n",
            " |      ndarray.reshape : similar method\n",
            " |  \n",
            " |  size\n",
            " |      Number of elements in the array.\n",
            " |      \n",
            " |      Equal to ``np.prod(a.shape)``, i.e., the product of the array's\n",
            " |      dimensions.\n",
            " |      \n",
            " |      Notes\n",
            " |      -----\n",
            " |      `a.size` returns a standard arbitrary precision Python integer. This\n",
            " |      may not be the case with other methods of obtaining the same value\n",
            " |      (like the suggested ``np.prod(a.shape)``, which returns an instance\n",
            " |      of ``np.int_``), and may be relevant if the value is used further in\n",
            " |      calculations that may overflow a fixed size integer type.\n",
            " |      \n",
            " |      Examples\n",
            " |      --------\n",
            " |      >>> x = np.zeros((3, 5, 2), dtype=np.complex128)\n",
            " |      >>> x.size\n",
            " |      30\n",
            " |      >>> np.prod(x.shape)\n",
            " |      30\n",
            " |  \n",
            " |  strides\n",
            " |      Tuple of bytes to step in each dimension when traversing an array.\n",
            " |      \n",
            " |      The byte offset of element ``(i[0], i[1], ..., i[n])`` in an array `a`\n",
            " |      is::\n",
            " |      \n",
            " |          offset = sum(np.array(i) * a.strides)\n",
            " |      \n",
            " |      A more detailed explanation of strides can be found in the\n",
            " |      \"ndarray.rst\" file in the NumPy reference guide.\n",
            " |      \n",
            " |      Notes\n",
            " |      -----\n",
            " |      Imagine an array of 32-bit integers (each 4 bytes)::\n",
            " |      \n",
            " |        x = np.array([[0, 1, 2, 3, 4],\n",
            " |                      [5, 6, 7, 8, 9]], dtype=np.int32)\n",
            " |      \n",
            " |      This array is stored in memory as 40 bytes, one after the other\n",
            " |      (known as a contiguous block of memory).  The strides of an array tell\n",
            " |      us how many bytes we have to skip in memory to move to the next position\n",
            " |      along a certain axis.  For example, we have to skip 4 bytes (1 value) to\n",
            " |      move to the next column, but 20 bytes (5 values) to get to the same\n",
            " |      position in the next row.  As such, the strides for the array `x` will be\n",
            " |      ``(20, 4)``.\n",
            " |      \n",
            " |      See Also\n",
            " |      --------\n",
            " |      numpy.lib.stride_tricks.as_strided\n",
            " |      \n",
            " |      Examples\n",
            " |      --------\n",
            " |      >>> y = np.reshape(np.arange(2*3*4), (2,3,4))\n",
            " |      >>> y\n",
            " |      array([[[ 0,  1,  2,  3],\n",
            " |              [ 4,  5,  6,  7],\n",
            " |              [ 8,  9, 10, 11]],\n",
            " |             [[12, 13, 14, 15],\n",
            " |              [16, 17, 18, 19],\n",
            " |              [20, 21, 22, 23]]])\n",
            " |      >>> y.strides\n",
            " |      (48, 16, 4)\n",
            " |      >>> y[1,1,1]\n",
            " |      17\n",
            " |      >>> offset=sum(y.strides * np.array((1,1,1)))\n",
            " |      >>> offset/y.itemsize\n",
            " |      17\n",
            " |      \n",
            " |      >>> x = np.reshape(np.arange(5*6*7*8), (5,6,7,8)).transpose(2,3,1,0)\n",
            " |      >>> x.strides\n",
            " |      (32, 4, 224, 1344)\n",
            " |      >>> i = np.array([3,5,2,2])\n",
            " |      >>> offset = sum(i * x.strides)\n",
            " |      >>> x[3,5,2,2]\n",
            " |      813\n",
            " |      >>> offset / x.itemsize\n",
            " |      813\n",
            " |  \n",
            " |  ----------------------------------------------------------------------\n",
            " |  Data and other attributes inherited from ndarray:\n",
            " |  \n",
            " |  __hash__ = None\n",
            "\n"
          ],
          "name": "stdout"
        }
      ]
    },
    {
      "cell_type": "code",
      "metadata": {
        "id": "Gv0vEqqwOzSk"
      },
      "source": [
        "A"
      ],
      "execution_count": null,
      "outputs": []
    },
    {
      "cell_type": "code",
      "metadata": {
        "id": "3iymgJasOzSk"
      },
      "source": [
        "M = np.matrix(A)\n",
        "v = np.matrix(v1).T # make it a column vector\n",
        "print(M)\n",
        "print(v)"
      ],
      "execution_count": null,
      "outputs": []
    },
    {
      "cell_type": "code",
      "metadata": {
        "id": "ej6G_pI-OzSk"
      },
      "source": [
        "M * M"
      ],
      "execution_count": null,
      "outputs": []
    },
    {
      "cell_type": "code",
      "metadata": {
        "id": "azeBJDefOzSl"
      },
      "source": [
        "M * v"
      ],
      "execution_count": null,
      "outputs": []
    },
    {
      "cell_type": "code",
      "metadata": {
        "id": "sA0W7yx2OzSl"
      },
      "source": [
        "# inner product\n",
        "v.T * v"
      ],
      "execution_count": null,
      "outputs": []
    },
    {
      "cell_type": "code",
      "metadata": {
        "id": "qGRBFGojOzSl"
      },
      "source": [
        "# with matrix objects, standard matrix algebra applies\n",
        "v + M*v"
      ],
      "execution_count": null,
      "outputs": []
    },
    {
      "cell_type": "markdown",
      "metadata": {
        "id": "OzyaL_qxOzSl"
      },
      "source": [
        "If we try to add, subtract or multiply objects with incomplatible shapes we get an error:"
      ]
    },
    {
      "cell_type": "code",
      "metadata": {
        "id": "Iek4Y_WOOzSl"
      },
      "source": [
        "v = np.matrix([1,2,3,4,5,6]).T\n",
        "v"
      ],
      "execution_count": null,
      "outputs": []
    },
    {
      "cell_type": "code",
      "metadata": {
        "id": "lOhIWZYIOzSl"
      },
      "source": [
        "np.shape(M), np.shape(v)"
      ],
      "execution_count": null,
      "outputs": []
    },
    {
      "cell_type": "code",
      "metadata": {
        "id": "ada7vwKuOzSl"
      },
      "source": [
        "M * v"
      ],
      "execution_count": null,
      "outputs": []
    },
    {
      "cell_type": "markdown",
      "metadata": {
        "id": "HMZsuIP9OzSm"
      },
      "source": [
        "#### Other commands"
      ]
    },
    {
      "cell_type": "code",
      "metadata": {
        "id": "vG51qZzLOzSm",
        "outputId": "f5a6c48b-35cf-4478-add5-6d64cf734c8f"
      },
      "source": [
        "help(np.cross)"
      ],
      "execution_count": null,
      "outputs": [
        {
          "output_type": "stream",
          "text": [
            "Help on function cross in module numpy:\n",
            "\n",
            "cross(a, b, axisa=-1, axisb=-1, axisc=-1, axis=None)\n",
            "    Return the cross product of two (arrays of) vectors.\n",
            "    \n",
            "    The cross product of `a` and `b` in :math:`R^3` is a vector perpendicular\n",
            "    to both `a` and `b`.  If `a` and `b` are arrays of vectors, the vectors\n",
            "    are defined by the last axis of `a` and `b` by default, and these axes\n",
            "    can have dimensions 2 or 3.  Where the dimension of either `a` or `b` is\n",
            "    2, the third component of the input vector is assumed to be zero and the\n",
            "    cross product calculated accordingly.  In cases where both input vectors\n",
            "    have dimension 2, the z-component of the cross product is returned.\n",
            "    \n",
            "    Parameters\n",
            "    ----------\n",
            "    a : array_like\n",
            "        Components of the first vector(s).\n",
            "    b : array_like\n",
            "        Components of the second vector(s).\n",
            "    axisa : int, optional\n",
            "        Axis of `a` that defines the vector(s).  By default, the last axis.\n",
            "    axisb : int, optional\n",
            "        Axis of `b` that defines the vector(s).  By default, the last axis.\n",
            "    axisc : int, optional\n",
            "        Axis of `c` containing the cross product vector(s).  Ignored if\n",
            "        both input vectors have dimension 2, as the return is scalar.\n",
            "        By default, the last axis.\n",
            "    axis : int, optional\n",
            "        If defined, the axis of `a`, `b` and `c` that defines the vector(s)\n",
            "        and cross product(s).  Overrides `axisa`, `axisb` and `axisc`.\n",
            "    \n",
            "    Returns\n",
            "    -------\n",
            "    c : ndarray\n",
            "        Vector cross product(s).\n",
            "    \n",
            "    Raises\n",
            "    ------\n",
            "    ValueError\n",
            "        When the dimension of the vector(s) in `a` and/or `b` does not\n",
            "        equal 2 or 3.\n",
            "    \n",
            "    See Also\n",
            "    --------\n",
            "    inner : Inner product\n",
            "    outer : Outer product.\n",
            "    ix_ : Construct index arrays.\n",
            "    \n",
            "    Notes\n",
            "    -----\n",
            "    .. versionadded:: 1.9.0\n",
            "    \n",
            "    Supports full broadcasting of the inputs.\n",
            "    \n",
            "    Examples\n",
            "    --------\n",
            "    Vector cross-product.\n",
            "    \n",
            "    >>> x = [1, 2, 3]\n",
            "    >>> y = [4, 5, 6]\n",
            "    >>> np.cross(x, y)\n",
            "    array([-3,  6, -3])\n",
            "    \n",
            "    One vector with dimension 2.\n",
            "    \n",
            "    >>> x = [1, 2]\n",
            "    >>> y = [4, 5, 6]\n",
            "    >>> np.cross(x, y)\n",
            "    array([12, -6, -3])\n",
            "    \n",
            "    Equivalently:\n",
            "    \n",
            "    >>> x = [1, 2, 0]\n",
            "    >>> y = [4, 5, 6]\n",
            "    >>> np.cross(x, y)\n",
            "    array([12, -6, -3])\n",
            "    \n",
            "    Both vectors with dimension 2.\n",
            "    \n",
            "    >>> x = [1,2]\n",
            "    >>> y = [4,5]\n",
            "    >>> np.cross(x, y)\n",
            "    array(-3)\n",
            "    \n",
            "    Multiple vector cross-products. Note that the direction of the cross\n",
            "    product vector is defined by the `right-hand rule`.\n",
            "    \n",
            "    >>> x = np.array([[1,2,3], [4,5,6]])\n",
            "    >>> y = np.array([[4,5,6], [1,2,3]])\n",
            "    >>> np.cross(x, y)\n",
            "    array([[-3,  6, -3],\n",
            "           [ 3, -6,  3]])\n",
            "    \n",
            "    The orientation of `c` can be changed using the `axisc` keyword.\n",
            "    \n",
            "    >>> np.cross(x, y, axisc=0)\n",
            "    array([[-3,  3],\n",
            "           [ 6, -6],\n",
            "           [-3,  3]])\n",
            "    \n",
            "    Change the vector definition of `x` and `y` using `axisa` and `axisb`.\n",
            "    \n",
            "    >>> x = np.array([[1,2,3], [4,5,6], [7, 8, 9]])\n",
            "    >>> y = np.array([[7, 8, 9], [4,5,6], [1,2,3]])\n",
            "    >>> np.cross(x, y)\n",
            "    array([[ -6,  12,  -6],\n",
            "           [  0,   0,   0],\n",
            "           [  6, -12,   6]])\n",
            "    >>> np.cross(x, y, axisa=0, axisb=0)\n",
            "    array([[-24,  48, -24],\n",
            "           [-30,  60, -30],\n",
            "           [-36,  72, -36]])\n",
            "\n"
          ],
          "name": "stdout"
        }
      ]
    },
    {
      "cell_type": "code",
      "metadata": {
        "id": "OzGNQXCbOzSm",
        "outputId": "edb21197-71f8-4781-8d33-756c8fbf620c"
      },
      "source": [
        "v3 = np.arange(0,3)\n",
        "v4 = np.array([1,2,-1])\n",
        "v5 = np.cross(v3,v4)\n",
        "print(v5)"
      ],
      "execution_count": null,
      "outputs": [
        {
          "output_type": "stream",
          "text": [
            "[-5  2 -1]\n"
          ],
          "name": "stdout"
        }
      ]
    },
    {
      "cell_type": "code",
      "metadata": {
        "id": "bDG3yRejOzSm",
        "outputId": "0c49ca50-272a-4c38-f895-521563411a04"
      },
      "source": [
        "np.dot(v3,v5)"
      ],
      "execution_count": null,
      "outputs": [
        {
          "output_type": "execute_result",
          "data": {
            "text/plain": [
              "0"
            ]
          },
          "metadata": {
            "tags": []
          },
          "execution_count": 24
        }
      ]
    },
    {
      "cell_type": "code",
      "metadata": {
        "id": "ZjkzcawlOzSm",
        "outputId": "aecd3b06-5097-4396-f03e-724e8abda2d7"
      },
      "source": [
        "help(np.linalg.norm)"
      ],
      "execution_count": null,
      "outputs": [
        {
          "output_type": "stream",
          "text": [
            "Help on function norm in module numpy.linalg:\n",
            "\n",
            "norm(x, ord=None, axis=None, keepdims=False)\n",
            "    Matrix or vector norm.\n",
            "    \n",
            "    This function is able to return one of eight different matrix norms,\n",
            "    or one of an infinite number of vector norms (described below), depending\n",
            "    on the value of the ``ord`` parameter.\n",
            "    \n",
            "    Parameters\n",
            "    ----------\n",
            "    x : array_like\n",
            "        Input array.  If `axis` is None, `x` must be 1-D or 2-D.\n",
            "    ord : {non-zero int, inf, -inf, 'fro', 'nuc'}, optional\n",
            "        Order of the norm (see table under ``Notes``). inf means numpy's\n",
            "        `inf` object.\n",
            "    axis : {int, 2-tuple of ints, None}, optional\n",
            "        If `axis` is an integer, it specifies the axis of `x` along which to\n",
            "        compute the vector norms.  If `axis` is a 2-tuple, it specifies the\n",
            "        axes that hold 2-D matrices, and the matrix norms of these matrices\n",
            "        are computed.  If `axis` is None then either a vector norm (when `x`\n",
            "        is 1-D) or a matrix norm (when `x` is 2-D) is returned.\n",
            "    \n",
            "        .. versionadded:: 1.8.0\n",
            "    \n",
            "    keepdims : bool, optional\n",
            "        If this is set to True, the axes which are normed over are left in the\n",
            "        result as dimensions with size one.  With this option the result will\n",
            "        broadcast correctly against the original `x`.\n",
            "    \n",
            "        .. versionadded:: 1.10.0\n",
            "    \n",
            "    Returns\n",
            "    -------\n",
            "    n : float or ndarray\n",
            "        Norm of the matrix or vector(s).\n",
            "    \n",
            "    Notes\n",
            "    -----\n",
            "    For values of ``ord <= 0``, the result is, strictly speaking, not a\n",
            "    mathematical 'norm', but it may still be useful for various numerical\n",
            "    purposes.\n",
            "    \n",
            "    The following norms can be calculated:\n",
            "    \n",
            "    =====  ============================  ==========================\n",
            "    ord    norm for matrices             norm for vectors\n",
            "    =====  ============================  ==========================\n",
            "    None   Frobenius norm                2-norm\n",
            "    'fro'  Frobenius norm                --\n",
            "    'nuc'  nuclear norm                  --\n",
            "    inf    max(sum(abs(x), axis=1))      max(abs(x))\n",
            "    -inf   min(sum(abs(x), axis=1))      min(abs(x))\n",
            "    0      --                            sum(x != 0)\n",
            "    1      max(sum(abs(x), axis=0))      as below\n",
            "    -1     min(sum(abs(x), axis=0))      as below\n",
            "    2      2-norm (largest sing. value)  as below\n",
            "    -2     smallest singular value       as below\n",
            "    other  --                            sum(abs(x)**ord)**(1./ord)\n",
            "    =====  ============================  ==========================\n",
            "    \n",
            "    The Frobenius norm is given by [1]_:\n",
            "    \n",
            "        :math:`||A||_F = [\\sum_{i,j} abs(a_{i,j})^2]^{1/2}`\n",
            "    \n",
            "    The nuclear norm is the sum of the singular values.\n",
            "    \n",
            "    References\n",
            "    ----------\n",
            "    .. [1] G. H. Golub and C. F. Van Loan, *Matrix Computations*,\n",
            "           Baltimore, MD, Johns Hopkins University Press, 1985, pg. 15\n",
            "    \n",
            "    Examples\n",
            "    --------\n",
            "    >>> from numpy import linalg as LA\n",
            "    >>> a = np.arange(9) - 4\n",
            "    >>> a\n",
            "    array([-4, -3, -2, ...,  2,  3,  4])\n",
            "    >>> b = a.reshape((3, 3))\n",
            "    >>> b\n",
            "    array([[-4, -3, -2],\n",
            "           [-1,  0,  1],\n",
            "           [ 2,  3,  4]])\n",
            "    \n",
            "    >>> LA.norm(a)\n",
            "    7.745966692414834\n",
            "    >>> LA.norm(b)\n",
            "    7.745966692414834\n",
            "    >>> LA.norm(b, 'fro')\n",
            "    7.745966692414834\n",
            "    >>> LA.norm(a, np.inf)\n",
            "    4.0\n",
            "    >>> LA.norm(b, np.inf)\n",
            "    9.0\n",
            "    >>> LA.norm(a, -np.inf)\n",
            "    0.0\n",
            "    >>> LA.norm(b, -np.inf)\n",
            "    2.0\n",
            "    \n",
            "    >>> LA.norm(a, 1)\n",
            "    20.0\n",
            "    >>> LA.norm(b, 1)\n",
            "    7.0\n",
            "    >>> LA.norm(a, -1)\n",
            "    -4.6566128774142013e-010\n",
            "    >>> LA.norm(b, -1)\n",
            "    6.0\n",
            "    >>> LA.norm(a, 2)\n",
            "    7.745966692414834\n",
            "    >>> LA.norm(b, 2)\n",
            "    7.3484692283495345\n",
            "    \n",
            "    >>> LA.norm(a, -2)\n",
            "    0.0\n",
            "    >>> LA.norm(b, -2)\n",
            "    1.8570331885190563e-016 # may vary\n",
            "    >>> LA.norm(a, 3)\n",
            "    5.8480354764257312 # may vary\n",
            "    >>> LA.norm(a, -3)\n",
            "    0.0\n",
            "    \n",
            "    Using the `axis` argument to compute vector norms:\n",
            "    \n",
            "    >>> c = np.array([[ 1, 2, 3],\n",
            "    ...               [-1, 1, 4]])\n",
            "    >>> LA.norm(c, axis=0)\n",
            "    array([ 1.41421356,  2.23606798,  5.        ])\n",
            "    >>> LA.norm(c, axis=1)\n",
            "    array([ 3.74165739,  4.24264069])\n",
            "    >>> LA.norm(c, ord=1, axis=1)\n",
            "    array([ 6.,  6.])\n",
            "    \n",
            "    Using the `axis` argument to compute matrix norms:\n",
            "    \n",
            "    >>> m = np.arange(8).reshape(2,2,2)\n",
            "    >>> LA.norm(m, axis=(1,2))\n",
            "    array([  3.74165739,  11.22497216])\n",
            "    >>> LA.norm(m[0, :, :]), LA.norm(m[1, :, :])\n",
            "    (3.7416573867739413, 11.224972160321824)\n",
            "\n"
          ],
          "name": "stdout"
        }
      ]
    },
    {
      "cell_type": "code",
      "metadata": {
        "id": "dC6J2VsbOzSm",
        "outputId": "c7adf0e8-e0ff-45b4-984c-6f171ae15915"
      },
      "source": [
        "print(v3)\n",
        "np.linalg.norm(v3,2)"
      ],
      "execution_count": null,
      "outputs": [
        {
          "output_type": "stream",
          "text": [
            "[0 1 2]\n"
          ],
          "name": "stdout"
        },
        {
          "output_type": "execute_result",
          "data": {
            "text/plain": [
              "2.23606797749979"
            ]
          },
          "metadata": {
            "tags": []
          },
          "execution_count": 27
        }
      ]
    },
    {
      "cell_type": "code",
      "metadata": {
        "id": "F0-CO1lcOzSn",
        "outputId": "e77ca04c-8f58-4e00-d53c-0325d72684e8"
      },
      "source": [
        "help(np.tensordot)"
      ],
      "execution_count": null,
      "outputs": [
        {
          "output_type": "stream",
          "text": [
            "Help on function tensordot in module numpy:\n",
            "\n",
            "tensordot(a, b, axes=2)\n",
            "    Compute tensor dot product along specified axes.\n",
            "    \n",
            "    Given two tensors, `a` and `b`, and an array_like object containing\n",
            "    two array_like objects, ``(a_axes, b_axes)``, sum the products of\n",
            "    `a`'s and `b`'s elements (components) over the axes specified by\n",
            "    ``a_axes`` and ``b_axes``. The third argument can be a single non-negative\n",
            "    integer_like scalar, ``N``; if it is such, then the last ``N`` dimensions\n",
            "    of `a` and the first ``N`` dimensions of `b` are summed over.\n",
            "    \n",
            "    Parameters\n",
            "    ----------\n",
            "    a, b : array_like\n",
            "        Tensors to \"dot\".\n",
            "    \n",
            "    axes : int or (2,) array_like\n",
            "        * integer_like\n",
            "          If an int N, sum over the last N axes of `a` and the first N axes\n",
            "          of `b` in order. The sizes of the corresponding axes must match.\n",
            "        * (2,) array_like\n",
            "          Or, a list of axes to be summed over, first sequence applying to `a`,\n",
            "          second to `b`. Both elements array_like must be of the same length.\n",
            "    \n",
            "    Returns\n",
            "    -------\n",
            "    output : ndarray\n",
            "        The tensor dot product of the input.  \n",
            "    \n",
            "    See Also\n",
            "    --------\n",
            "    dot, einsum\n",
            "    \n",
            "    Notes\n",
            "    -----\n",
            "    Three common use cases are:\n",
            "        * ``axes = 0`` : tensor product :math:`a\\otimes b`\n",
            "        * ``axes = 1`` : tensor dot product :math:`a\\cdot b`\n",
            "        * ``axes = 2`` : (default) tensor double contraction :math:`a:b`\n",
            "    \n",
            "    When `axes` is integer_like, the sequence for evaluation will be: first\n",
            "    the -Nth axis in `a` and 0th axis in `b`, and the -1th axis in `a` and\n",
            "    Nth axis in `b` last.\n",
            "    \n",
            "    When there is more than one axis to sum over - and they are not the last\n",
            "    (first) axes of `a` (`b`) - the argument `axes` should consist of\n",
            "    two sequences of the same length, with the first axis to sum over given\n",
            "    first in both sequences, the second axis second, and so forth.\n",
            "    \n",
            "    Examples\n",
            "    --------\n",
            "    A \"traditional\" example:\n",
            "    \n",
            "    >>> a = np.arange(60.).reshape(3,4,5)\n",
            "    >>> b = np.arange(24.).reshape(4,3,2)\n",
            "    >>> c = np.tensordot(a,b, axes=([1,0],[0,1]))\n",
            "    >>> c.shape\n",
            "    (5, 2)\n",
            "    >>> c\n",
            "    array([[4400., 4730.],\n",
            "           [4532., 4874.],\n",
            "           [4664., 5018.],\n",
            "           [4796., 5162.],\n",
            "           [4928., 5306.]])\n",
            "    >>> # A slower but equivalent way of computing the same...\n",
            "    >>> d = np.zeros((5,2))\n",
            "    >>> for i in range(5):\n",
            "    ...   for j in range(2):\n",
            "    ...     for k in range(3):\n",
            "    ...       for n in range(4):\n",
            "    ...         d[i,j] += a[k,n,i] * b[n,k,j]\n",
            "    >>> c == d\n",
            "    array([[ True,  True],\n",
            "           [ True,  True],\n",
            "           [ True,  True],\n",
            "           [ True,  True],\n",
            "           [ True,  True]])\n",
            "    \n",
            "    An extended example taking advantage of the overloading of + and \\*:\n",
            "    \n",
            "    >>> a = np.array(range(1, 9))\n",
            "    >>> a.shape = (2, 2, 2)\n",
            "    >>> A = np.array(('a', 'b', 'c', 'd'), dtype=object)\n",
            "    >>> A.shape = (2, 2)\n",
            "    >>> a; A\n",
            "    array([[[1, 2],\n",
            "            [3, 4]],\n",
            "           [[5, 6],\n",
            "            [7, 8]]])\n",
            "    array([['a', 'b'],\n",
            "           ['c', 'd']], dtype=object)\n",
            "    \n",
            "    >>> np.tensordot(a, A) # third argument default is 2 for double-contraction\n",
            "    array(['abbcccdddd', 'aaaaabbbbbbcccccccdddddddd'], dtype=object)\n",
            "    \n",
            "    >>> np.tensordot(a, A, 1)\n",
            "    array([[['acc', 'bdd'],\n",
            "            ['aaacccc', 'bbbdddd']],\n",
            "           [['aaaaacccccc', 'bbbbbdddddd'],\n",
            "            ['aaaaaaacccccccc', 'bbbbbbbdddddddd']]], dtype=object)\n",
            "    \n",
            "    >>> np.tensordot(a, A, 0) # tensor product (result too long to incl.)\n",
            "    array([[[[['a', 'b'],\n",
            "              ['c', 'd']],\n",
            "              ...\n",
            "    \n",
            "    >>> np.tensordot(a, A, (0, 1))\n",
            "    array([[['abbbbb', 'cddddd'],\n",
            "            ['aabbbbbb', 'ccdddddd']],\n",
            "           [['aaabbbbbbb', 'cccddddddd'],\n",
            "            ['aaaabbbbbbbb', 'ccccdddddddd']]], dtype=object)\n",
            "    \n",
            "    >>> np.tensordot(a, A, (2, 1))\n",
            "    array([[['abb', 'cdd'],\n",
            "            ['aaabbbb', 'cccdddd']],\n",
            "           [['aaaaabbbbbb', 'cccccdddddd'],\n",
            "            ['aaaaaaabbbbbbbb', 'cccccccdddddddd']]], dtype=object)\n",
            "    \n",
            "    >>> np.tensordot(a, A, ((0, 1), (0, 1)))\n",
            "    array(['abbbcccccddddddd', 'aabbbbccccccdddddddd'], dtype=object)\n",
            "    \n",
            "    >>> np.tensordot(a, A, ((2, 1), (1, 0)))\n",
            "    array(['acccbbdddd', 'aaaaacccccccbbbbbbdddddddd'], dtype=object)\n",
            "\n"
          ],
          "name": "stdout"
        }
      ]
    },
    {
      "cell_type": "markdown",
      "metadata": {
        "id": "7BbbRVR2OzSn"
      },
      "source": [
        "See also the related functions: `inner`, `outer`, `cross`, `kron`, `tensordot`. Try for example `help(kron)`."
      ]
    },
    {
      "cell_type": "markdown",
      "metadata": {
        "id": "v_Le8r0FOzSn"
      },
      "source": [
        "### Array (and Matrix) transformations"
      ]
    },
    {
      "cell_type": "markdown",
      "metadata": {
        "id": "W7Zef435OzSn"
      },
      "source": [
        "Above we have used the `.T` to transpose the matrix object `v`. We could also have used the `transpose` function to accomplish the same thing. \n",
        "\n",
        "Other mathematical functions that transform matrix objects are:"
      ]
    },
    {
      "cell_type": "code",
      "metadata": {
        "id": "6X2QsN_KOzSn"
      },
      "source": [
        "C = np.matrix([[1j, 2j], [3j, 4j]])  # deprecated\n",
        "C"
      ],
      "execution_count": null,
      "outputs": []
    },
    {
      "cell_type": "code",
      "metadata": {
        "id": "Utpr_TkrOzSn",
        "outputId": "f80cd103-66ea-4334-dc4c-516226428aad"
      },
      "source": [
        "C = np.array([[1j, 2j], [3j, 4j]])\n",
        "C"
      ],
      "execution_count": null,
      "outputs": [
        {
          "output_type": "execute_result",
          "data": {
            "text/plain": [
              "array([[0.+1.j, 0.+2.j],\n",
              "       [0.+3.j, 0.+4.j]])"
            ]
          },
          "metadata": {
            "tags": []
          },
          "execution_count": 34
        }
      ]
    },
    {
      "cell_type": "code",
      "metadata": {
        "id": "vnrSwwvcOzSn",
        "outputId": "774e6f8b-aff5-4da3-957e-a96923812336"
      },
      "source": [
        "np.conjugate(C)"
      ],
      "execution_count": null,
      "outputs": [
        {
          "output_type": "execute_result",
          "data": {
            "text/plain": [
              "array([[0.-1.j, 0.-2.j],\n",
              "       [0.-3.j, 0.-4.j]])"
            ]
          },
          "metadata": {
            "tags": []
          },
          "execution_count": 35
        }
      ]
    },
    {
      "cell_type": "markdown",
      "metadata": {
        "id": "PwJ3Y-jBOzSo"
      },
      "source": [
        "Hermitian conjugate: transpose + conjugate"
      ]
    },
    {
      "cell_type": "markdown",
      "metadata": {
        "id": "0iAjralVOzSo"
      },
      "source": [
        "We can extract the real and imaginary parts of complex-valued arrays using `real` and `imag`:"
      ]
    },
    {
      "cell_type": "code",
      "metadata": {
        "id": "3XwIGD0VOzSo",
        "outputId": "4a0f29eb-0174-443b-abbf-040474b7835a"
      },
      "source": [
        "np.real(C) # same as: C.real"
      ],
      "execution_count": null,
      "outputs": [
        {
          "output_type": "execute_result",
          "data": {
            "text/plain": [
              "array([[0., 0.],\n",
              "       [0., 0.]])"
            ]
          },
          "metadata": {
            "tags": []
          },
          "execution_count": 36
        }
      ]
    },
    {
      "cell_type": "code",
      "metadata": {
        "id": "20sXp1ESOzSo",
        "outputId": "92f1b094-d61b-4eb5-d770-3cc96c3244dc"
      },
      "source": [
        "np.imag(C) # same as: C.imag"
      ],
      "execution_count": null,
      "outputs": [
        {
          "output_type": "execute_result",
          "data": {
            "text/plain": [
              "array([[1., 2.],\n",
              "       [3., 4.]])"
            ]
          },
          "metadata": {
            "tags": []
          },
          "execution_count": 37
        }
      ]
    },
    {
      "cell_type": "markdown",
      "metadata": {
        "id": "BVTq_QCAOzSo"
      },
      "source": [
        "Or the complex argument and absolute value"
      ]
    },
    {
      "cell_type": "code",
      "metadata": {
        "id": "MzUbGmXAOzSo",
        "outputId": "11ba234a-a86f-42b9-9145-1f04fecede80"
      },
      "source": [
        "np.angle(C+1) # Warning MATLAB Users, angle is used instead of arg"
      ],
      "execution_count": null,
      "outputs": [
        {
          "output_type": "execute_result",
          "data": {
            "text/plain": [
              "array([[0.78539816, 1.10714872],\n",
              "       [1.24904577, 1.32581766]])"
            ]
          },
          "metadata": {
            "tags": []
          },
          "execution_count": 38
        }
      ]
    },
    {
      "cell_type": "code",
      "metadata": {
        "id": "r_tPpQCYOzSo",
        "outputId": "83df0b64-1509-4aba-8267-87a37dab75f8"
      },
      "source": [
        "np.abs(C)"
      ],
      "execution_count": null,
      "outputs": [
        {
          "output_type": "execute_result",
          "data": {
            "text/plain": [
              "array([[1., 2.],\n",
              "       [3., 4.]])"
            ]
          },
          "metadata": {
            "tags": []
          },
          "execution_count": 39
        }
      ]
    },
    {
      "cell_type": "markdown",
      "metadata": {
        "id": "HyW5LwOPOzSp"
      },
      "source": [
        "### Matrix computations"
      ]
    },
    {
      "cell_type": "markdown",
      "metadata": {
        "id": "_VmowFnbOzSp"
      },
      "source": [
        "#### Inverse"
      ]
    },
    {
      "cell_type": "code",
      "metadata": {
        "id": "KCFeNKayOzSp"
      },
      "source": [
        "C.I # if C is a matrix"
      ],
      "execution_count": null,
      "outputs": []
    },
    {
      "cell_type": "code",
      "metadata": {
        "id": "Pyv_MsZvOzSp",
        "outputId": "f785449f-8739-4c68-c982-5066951187c6"
      },
      "source": [
        "Cinv=np.linalg.inv(C) # equivalent to C.I \n",
        "Cinv"
      ],
      "execution_count": null,
      "outputs": [
        {
          "output_type": "execute_result",
          "data": {
            "text/plain": [
              "array([[0.+2.j , 0.-1.j ],\n",
              "       [0.-1.5j, 0.+0.5j]])"
            ]
          },
          "metadata": {
            "tags": []
          },
          "execution_count": 40
        }
      ]
    },
    {
      "cell_type": "code",
      "metadata": {
        "id": "PngBYLgVOzSp",
        "outputId": "ac8aed86-ba09-4190-bc2f-d9f8de9151c1"
      },
      "source": [
        "np.dot(Cinv,C)"
      ],
      "execution_count": null,
      "outputs": [
        {
          "output_type": "execute_result",
          "data": {
            "text/plain": [
              "array([[1.00000000e+00+0.j, 0.00000000e+00+0.j],\n",
              "       [1.11022302e-16+0.j, 1.00000000e+00+0.j]])"
            ]
          },
          "metadata": {
            "tags": []
          },
          "execution_count": 43
        }
      ]
    },
    {
      "cell_type": "code",
      "metadata": {
        "id": "0MdVxFgLOzSp",
        "outputId": "70011b8a-388b-40c4-d28d-7447530621e6"
      },
      "source": [
        "help(np.finfo)"
      ],
      "execution_count": null,
      "outputs": [
        {
          "output_type": "stream",
          "text": [
            "Help on class finfo in module numpy:\n",
            "\n",
            "class finfo(builtins.object)\n",
            " |  finfo(dtype)\n",
            " |  \n",
            " |  finfo(dtype)\n",
            " |  \n",
            " |  Machine limits for floating point types.\n",
            " |  \n",
            " |  Attributes\n",
            " |  ----------\n",
            " |  bits : int\n",
            " |      The number of bits occupied by the type.\n",
            " |  eps : float\n",
            " |      The smallest representable positive number such that\n",
            " |      ``1.0 + eps != 1.0``.  Type of `eps` is an appropriate floating\n",
            " |      point type.\n",
            " |  epsneg : floating point number of the appropriate type\n",
            " |      The smallest representable positive number such that\n",
            " |      ``1.0 - epsneg != 1.0``.\n",
            " |  iexp : int\n",
            " |      The number of bits in the exponent portion of the floating point\n",
            " |      representation.\n",
            " |  machar : MachAr\n",
            " |      The object which calculated these parameters and holds more\n",
            " |      detailed information.\n",
            " |  machep : int\n",
            " |      The exponent that yields `eps`.\n",
            " |  max : floating point number of the appropriate type\n",
            " |      The largest representable number.\n",
            " |  maxexp : int\n",
            " |      The smallest positive power of the base (2) that causes overflow.\n",
            " |  min : floating point number of the appropriate type\n",
            " |      The smallest representable number, typically ``-max``.\n",
            " |  minexp : int\n",
            " |      The most negative power of the base (2) consistent with there\n",
            " |      being no leading 0's in the mantissa.\n",
            " |  negep : int\n",
            " |      The exponent that yields `epsneg`.\n",
            " |  nexp : int\n",
            " |      The number of bits in the exponent including its sign and bias.\n",
            " |  nmant : int\n",
            " |      The number of bits in the mantissa.\n",
            " |  precision : int\n",
            " |      The approximate number of decimal digits to which this kind of\n",
            " |      float is precise.\n",
            " |  resolution : floating point number of the appropriate type\n",
            " |      The approximate decimal resolution of this type, i.e.,\n",
            " |      ``10**-precision``.\n",
            " |  tiny : float\n",
            " |      The smallest positive usable number.  Type of `tiny` is an\n",
            " |      appropriate floating point type.\n",
            " |  \n",
            " |  Parameters\n",
            " |  ----------\n",
            " |  dtype : float, dtype, or instance\n",
            " |      Kind of floating point data-type about which to get information.\n",
            " |  \n",
            " |  See Also\n",
            " |  --------\n",
            " |  MachAr : The implementation of the tests that produce this information.\n",
            " |  iinfo : The equivalent for integer data types.\n",
            " |  \n",
            " |  Notes\n",
            " |  -----\n",
            " |  For developers of NumPy: do not instantiate this at the module level.\n",
            " |  The initial calculation of these parameters is expensive and negatively\n",
            " |  impacts import times.  These objects are cached, so calling ``finfo()``\n",
            " |  repeatedly inside your functions is not a problem.\n",
            " |  \n",
            " |  Methods defined here:\n",
            " |  \n",
            " |  __repr__(self)\n",
            " |      Return repr(self).\n",
            " |  \n",
            " |  __str__(self)\n",
            " |      Return str(self).\n",
            " |  \n",
            " |  ----------------------------------------------------------------------\n",
            " |  Static methods defined here:\n",
            " |  \n",
            " |  __new__(cls, dtype)\n",
            " |      Create and return a new object.  See help(type) for accurate signature.\n",
            " |  \n",
            " |  ----------------------------------------------------------------------\n",
            " |  Data descriptors defined here:\n",
            " |  \n",
            " |  __dict__\n",
            " |      dictionary for instance variables (if defined)\n",
            " |  \n",
            " |  __weakref__\n",
            " |      list of weak references to the object (if defined)\n",
            "\n"
          ],
          "name": "stdout"
        }
      ]
    },
    {
      "cell_type": "code",
      "metadata": {
        "id": "oF-5_4MjOzSq"
      },
      "source": [
        "print(np.finfo(float).eps)"
      ],
      "execution_count": null,
      "outputs": []
    },
    {
      "cell_type": "markdown",
      "metadata": {
        "id": "AmNXFyTnOzSq"
      },
      "source": [
        "#### Determinant"
      ]
    },
    {
      "cell_type": "code",
      "metadata": {
        "id": "JBTzPoOTOzSq",
        "outputId": "ef0c85d9-3a11-4a17-a8a9-b25ad00b14dc"
      },
      "source": [
        "np.linalg.det(C)"
      ],
      "execution_count": null,
      "outputs": [
        {
          "output_type": "execute_result",
          "data": {
            "text/plain": [
              "(2.0000000000000004+0j)"
            ]
          },
          "metadata": {
            "tags": []
          },
          "execution_count": 44
        }
      ]
    },
    {
      "cell_type": "code",
      "metadata": {
        "id": "eyJ23Z8DOzSq",
        "outputId": "7586685b-ccbf-461a-a97e-7e31c84b1e2d"
      },
      "source": [
        "np.linalg.det(Cinv)"
      ],
      "execution_count": null,
      "outputs": [
        {
          "output_type": "execute_result",
          "data": {
            "text/plain": [
              "(0.49999999999999967+0j)"
            ]
          },
          "metadata": {
            "tags": []
          },
          "execution_count": 45
        }
      ]
    },
    {
      "cell_type": "markdown",
      "metadata": {
        "id": "VlV8Qs5jOzSq"
      },
      "source": [
        "### Solve linear system"
      ]
    },
    {
      "cell_type": "markdown",
      "metadata": {
        "id": "ggXSC0g4OzSq"
      },
      "source": [
        "To solve a linear system we can use the `linalg.solve` command which is a wrapper for the LAPACK routines `dgesv` and `zgesv`, the former being used if a is real-valued, the latter if it is complex-valued. The solution to the system of linear equations is computed using an LU decomposition with partial pivoting and row interchanges."
      ]
    },
    {
      "cell_type": "code",
      "metadata": {
        "id": "qNFJ7rWAOzSq",
        "outputId": "5d3b82e4-d95e-406d-d128-b940edc2a23d"
      },
      "source": [
        "help(np.linalg.solve)"
      ],
      "execution_count": null,
      "outputs": [
        {
          "output_type": "stream",
          "text": [
            "Help on function solve in module numpy.linalg:\n",
            "\n",
            "solve(a, b)\n",
            "    Solve a linear matrix equation, or system of linear scalar equations.\n",
            "    \n",
            "    Computes the \"exact\" solution, `x`, of the well-determined, i.e., full\n",
            "    rank, linear matrix equation `ax = b`.\n",
            "    \n",
            "    Parameters\n",
            "    ----------\n",
            "    a : (..., M, M) array_like\n",
            "        Coefficient matrix.\n",
            "    b : {(..., M,), (..., M, K)}, array_like\n",
            "        Ordinate or \"dependent variable\" values.\n",
            "    \n",
            "    Returns\n",
            "    -------\n",
            "    x : {(..., M,), (..., M, K)} ndarray\n",
            "        Solution to the system a x = b.  Returned shape is identical to `b`.\n",
            "    \n",
            "    Raises\n",
            "    ------\n",
            "    LinAlgError\n",
            "        If `a` is singular or not square.\n",
            "    \n",
            "    Notes\n",
            "    -----\n",
            "    \n",
            "    .. versionadded:: 1.8.0\n",
            "    \n",
            "    Broadcasting rules apply, see the `numpy.linalg` documentation for\n",
            "    details.\n",
            "    \n",
            "    The solutions are computed using LAPACK routine ``_gesv``.\n",
            "    \n",
            "    `a` must be square and of full-rank, i.e., all rows (or, equivalently,\n",
            "    columns) must be linearly independent; if either is not true, use\n",
            "    `lstsq` for the least-squares best \"solution\" of the\n",
            "    system/equation.\n",
            "    \n",
            "    References\n",
            "    ----------\n",
            "    .. [1] G. Strang, *Linear Algebra and Its Applications*, 2nd Ed., Orlando,\n",
            "           FL, Academic Press, Inc., 1980, pg. 22.\n",
            "    \n",
            "    Examples\n",
            "    --------\n",
            "    Solve the system of equations ``3 * x0 + x1 = 9`` and ``x0 + 2 * x1 = 8``:\n",
            "    \n",
            "    >>> a = np.array([[3,1], [1,2]])\n",
            "    >>> b = np.array([9,8])\n",
            "    >>> x = np.linalg.solve(a, b)\n",
            "    >>> x\n",
            "    array([2.,  3.])\n",
            "    \n",
            "    Check that the solution is correct:\n",
            "    \n",
            "    >>> np.allclose(np.dot(a, x), b)\n",
            "    True\n",
            "\n"
          ],
          "name": "stdout"
        }
      ]
    },
    {
      "cell_type": "code",
      "metadata": {
        "id": "NAT5iZXkOzSr",
        "outputId": "e23f2c85-8ecc-4b1d-81c0-d92a58f5f90b"
      },
      "source": [
        "A = np.array([[1,1], [1,2]])\n",
        "b = np.array([2,3])\n",
        "x = np.linalg.solve(A, b)\n",
        "print(x)"
      ],
      "execution_count": null,
      "outputs": [
        {
          "output_type": "stream",
          "text": [
            "[1. 1.]\n"
          ],
          "name": "stdout"
        }
      ]
    },
    {
      "cell_type": "code",
      "metadata": {
        "id": "PeSZdPvbOzSr",
        "outputId": "11c96177-0c4c-4f91-f82f-875485140e3c"
      },
      "source": [
        "A = np.array([[1,2,3], [4,5,6],[7,8,9]])\n",
        "b = np.array([4,5,1])\n",
        "x = np.linalg.solve(A, b)\n",
        "print(x)"
      ],
      "execution_count": null,
      "outputs": [
        {
          "output_type": "error",
          "ename": "LinAlgError",
          "evalue": "Singular matrix",
          "traceback": [
            "\u001b[0;31m---------------------------------------------------------------------------\u001b[0m",
            "\u001b[0;31mLinAlgError\u001b[0m                               Traceback (most recent call last)",
            "\u001b[0;32m<ipython-input-48-a51c8b19744e>\u001b[0m in \u001b[0;36m<module>\u001b[0;34m\u001b[0m\n\u001b[1;32m      1\u001b[0m \u001b[0mA\u001b[0m \u001b[0;34m=\u001b[0m \u001b[0mnp\u001b[0m\u001b[0;34m.\u001b[0m\u001b[0marray\u001b[0m\u001b[0;34m(\u001b[0m\u001b[0;34m[\u001b[0m\u001b[0;34m[\u001b[0m\u001b[0;36m1\u001b[0m\u001b[0;34m,\u001b[0m\u001b[0;36m2\u001b[0m\u001b[0;34m,\u001b[0m\u001b[0;36m3\u001b[0m\u001b[0;34m]\u001b[0m\u001b[0;34m,\u001b[0m \u001b[0;34m[\u001b[0m\u001b[0;36m4\u001b[0m\u001b[0;34m,\u001b[0m\u001b[0;36m5\u001b[0m\u001b[0;34m,\u001b[0m\u001b[0;36m6\u001b[0m\u001b[0;34m]\u001b[0m\u001b[0;34m,\u001b[0m\u001b[0;34m[\u001b[0m\u001b[0;36m7\u001b[0m\u001b[0;34m,\u001b[0m\u001b[0;36m8\u001b[0m\u001b[0;34m,\u001b[0m\u001b[0;36m9\u001b[0m\u001b[0;34m]\u001b[0m\u001b[0;34m]\u001b[0m\u001b[0;34m)\u001b[0m\u001b[0;34m\u001b[0m\u001b[0;34m\u001b[0m\u001b[0m\n\u001b[1;32m      2\u001b[0m \u001b[0mb\u001b[0m \u001b[0;34m=\u001b[0m \u001b[0mnp\u001b[0m\u001b[0;34m.\u001b[0m\u001b[0marray\u001b[0m\u001b[0;34m(\u001b[0m\u001b[0;34m[\u001b[0m\u001b[0;36m4\u001b[0m\u001b[0;34m,\u001b[0m\u001b[0;36m5\u001b[0m\u001b[0;34m,\u001b[0m\u001b[0;36m1\u001b[0m\u001b[0;34m]\u001b[0m\u001b[0;34m)\u001b[0m\u001b[0;34m\u001b[0m\u001b[0;34m\u001b[0m\u001b[0m\n\u001b[0;32m----> 3\u001b[0;31m \u001b[0mx\u001b[0m \u001b[0;34m=\u001b[0m \u001b[0mnp\u001b[0m\u001b[0;34m.\u001b[0m\u001b[0mlinalg\u001b[0m\u001b[0;34m.\u001b[0m\u001b[0msolve\u001b[0m\u001b[0;34m(\u001b[0m\u001b[0mA\u001b[0m\u001b[0;34m,\u001b[0m \u001b[0mb\u001b[0m\u001b[0;34m)\u001b[0m\u001b[0;34m\u001b[0m\u001b[0;34m\u001b[0m\u001b[0m\n\u001b[0m\u001b[1;32m      4\u001b[0m \u001b[0mprint\u001b[0m\u001b[0;34m(\u001b[0m\u001b[0mx\u001b[0m\u001b[0;34m)\u001b[0m\u001b[0;34m\u001b[0m\u001b[0;34m\u001b[0m\u001b[0m\n",
            "\u001b[0;32m<__array_function__ internals>\u001b[0m in \u001b[0;36msolve\u001b[0;34m(*args, **kwargs)\u001b[0m\n",
            "\u001b[0;32m~/anaconda3/lib/python3.7/site-packages/numpy/linalg/linalg.py\u001b[0m in \u001b[0;36msolve\u001b[0;34m(a, b)\u001b[0m\n\u001b[1;32m    401\u001b[0m     \u001b[0msignature\u001b[0m \u001b[0;34m=\u001b[0m \u001b[0;34m'DD->D'\u001b[0m \u001b[0;32mif\u001b[0m \u001b[0misComplexType\u001b[0m\u001b[0;34m(\u001b[0m\u001b[0mt\u001b[0m\u001b[0;34m)\u001b[0m \u001b[0;32melse\u001b[0m \u001b[0;34m'dd->d'\u001b[0m\u001b[0;34m\u001b[0m\u001b[0;34m\u001b[0m\u001b[0m\n\u001b[1;32m    402\u001b[0m     \u001b[0mextobj\u001b[0m \u001b[0;34m=\u001b[0m \u001b[0mget_linalg_error_extobj\u001b[0m\u001b[0;34m(\u001b[0m\u001b[0m_raise_linalgerror_singular\u001b[0m\u001b[0;34m)\u001b[0m\u001b[0;34m\u001b[0m\u001b[0;34m\u001b[0m\u001b[0m\n\u001b[0;32m--> 403\u001b[0;31m     \u001b[0mr\u001b[0m \u001b[0;34m=\u001b[0m \u001b[0mgufunc\u001b[0m\u001b[0;34m(\u001b[0m\u001b[0ma\u001b[0m\u001b[0;34m,\u001b[0m \u001b[0mb\u001b[0m\u001b[0;34m,\u001b[0m \u001b[0msignature\u001b[0m\u001b[0;34m=\u001b[0m\u001b[0msignature\u001b[0m\u001b[0;34m,\u001b[0m \u001b[0mextobj\u001b[0m\u001b[0;34m=\u001b[0m\u001b[0mextobj\u001b[0m\u001b[0;34m)\u001b[0m\u001b[0;34m\u001b[0m\u001b[0;34m\u001b[0m\u001b[0m\n\u001b[0m\u001b[1;32m    404\u001b[0m \u001b[0;34m\u001b[0m\u001b[0m\n\u001b[1;32m    405\u001b[0m     \u001b[0;32mreturn\u001b[0m \u001b[0mwrap\u001b[0m\u001b[0;34m(\u001b[0m\u001b[0mr\u001b[0m\u001b[0;34m.\u001b[0m\u001b[0mastype\u001b[0m\u001b[0;34m(\u001b[0m\u001b[0mresult_t\u001b[0m\u001b[0;34m,\u001b[0m \u001b[0mcopy\u001b[0m\u001b[0;34m=\u001b[0m\u001b[0;32mFalse\u001b[0m\u001b[0;34m)\u001b[0m\u001b[0;34m)\u001b[0m\u001b[0;34m\u001b[0m\u001b[0;34m\u001b[0m\u001b[0m\n",
            "\u001b[0;32m~/anaconda3/lib/python3.7/site-packages/numpy/linalg/linalg.py\u001b[0m in \u001b[0;36m_raise_linalgerror_singular\u001b[0;34m(err, flag)\u001b[0m\n\u001b[1;32m     95\u001b[0m \u001b[0;34m\u001b[0m\u001b[0m\n\u001b[1;32m     96\u001b[0m \u001b[0;32mdef\u001b[0m \u001b[0m_raise_linalgerror_singular\u001b[0m\u001b[0;34m(\u001b[0m\u001b[0merr\u001b[0m\u001b[0;34m,\u001b[0m \u001b[0mflag\u001b[0m\u001b[0;34m)\u001b[0m\u001b[0;34m:\u001b[0m\u001b[0;34m\u001b[0m\u001b[0;34m\u001b[0m\u001b[0m\n\u001b[0;32m---> 97\u001b[0;31m     \u001b[0;32mraise\u001b[0m \u001b[0mLinAlgError\u001b[0m\u001b[0;34m(\u001b[0m\u001b[0;34m\"Singular matrix\"\u001b[0m\u001b[0;34m)\u001b[0m\u001b[0;34m\u001b[0m\u001b[0;34m\u001b[0m\u001b[0m\n\u001b[0m\u001b[1;32m     98\u001b[0m \u001b[0;34m\u001b[0m\u001b[0m\n\u001b[1;32m     99\u001b[0m \u001b[0;32mdef\u001b[0m \u001b[0m_raise_linalgerror_nonposdef\u001b[0m\u001b[0;34m(\u001b[0m\u001b[0merr\u001b[0m\u001b[0;34m,\u001b[0m \u001b[0mflag\u001b[0m\u001b[0;34m)\u001b[0m\u001b[0;34m:\u001b[0m\u001b[0;34m\u001b[0m\u001b[0;34m\u001b[0m\u001b[0m\n",
            "\u001b[0;31mLinAlgError\u001b[0m: Singular matrix"
          ]
        }
      ]
    },
    {
      "cell_type": "code",
      "metadata": {
        "id": "KKx9XN7hOzSr",
        "outputId": "9adef00e-fda0-404f-86f6-869f62946315"
      },
      "source": [
        "np.linalg.det(A)"
      ],
      "execution_count": null,
      "outputs": [
        {
          "output_type": "execute_result",
          "data": {
            "text/plain": [
              "0.0"
            ]
          },
          "metadata": {
            "tags": []
          },
          "execution_count": 49
        }
      ]
    },
    {
      "cell_type": "code",
      "metadata": {
        "id": "sIshbcSjOzSr",
        "outputId": "b4fb07d4-7e61-427c-e7e6-e60bc614ec43"
      },
      "source": [
        "help(np.linalg.cond)"
      ],
      "execution_count": null,
      "outputs": [
        {
          "output_type": "stream",
          "text": [
            "Help on function cond in module numpy.linalg:\n",
            "\n",
            "cond(x, p=None)\n",
            "    Compute the condition number of a matrix.\n",
            "    \n",
            "    This function is capable of returning the condition number using\n",
            "    one of seven different norms, depending on the value of `p` (see\n",
            "    Parameters below).\n",
            "    \n",
            "    Parameters\n",
            "    ----------\n",
            "    x : (..., M, N) array_like\n",
            "        The matrix whose condition number is sought.\n",
            "    p : {None, 1, -1, 2, -2, inf, -inf, 'fro'}, optional\n",
            "        Order of the norm:\n",
            "    \n",
            "        =====  ============================\n",
            "        p      norm for matrices\n",
            "        =====  ============================\n",
            "        None   2-norm, computed directly using the ``SVD``\n",
            "        'fro'  Frobenius norm\n",
            "        inf    max(sum(abs(x), axis=1))\n",
            "        -inf   min(sum(abs(x), axis=1))\n",
            "        1      max(sum(abs(x), axis=0))\n",
            "        -1     min(sum(abs(x), axis=0))\n",
            "        2      2-norm (largest sing. value)\n",
            "        -2     smallest singular value\n",
            "        =====  ============================\n",
            "    \n",
            "        inf means the numpy.inf object, and the Frobenius norm is\n",
            "        the root-of-sum-of-squares norm.\n",
            "    \n",
            "    Returns\n",
            "    -------\n",
            "    c : {float, inf}\n",
            "        The condition number of the matrix. May be infinite.\n",
            "    \n",
            "    See Also\n",
            "    --------\n",
            "    numpy.linalg.norm\n",
            "    \n",
            "    Notes\n",
            "    -----\n",
            "    The condition number of `x` is defined as the norm of `x` times the\n",
            "    norm of the inverse of `x` [1]_; the norm can be the usual L2-norm\n",
            "    (root-of-sum-of-squares) or one of a number of other matrix norms.\n",
            "    \n",
            "    References\n",
            "    ----------\n",
            "    .. [1] G. Strang, *Linear Algebra and Its Applications*, Orlando, FL,\n",
            "           Academic Press, Inc., 1980, pg. 285.\n",
            "    \n",
            "    Examples\n",
            "    --------\n",
            "    >>> from numpy import linalg as LA\n",
            "    >>> a = np.array([[1, 0, -1], [0, 1, 0], [1, 0, 1]])\n",
            "    >>> a\n",
            "    array([[ 1,  0, -1],\n",
            "           [ 0,  1,  0],\n",
            "           [ 1,  0,  1]])\n",
            "    >>> LA.cond(a)\n",
            "    1.4142135623730951\n",
            "    >>> LA.cond(a, 'fro')\n",
            "    3.1622776601683795\n",
            "    >>> LA.cond(a, np.inf)\n",
            "    2.0\n",
            "    >>> LA.cond(a, -np.inf)\n",
            "    1.0\n",
            "    >>> LA.cond(a, 1)\n",
            "    2.0\n",
            "    >>> LA.cond(a, -1)\n",
            "    1.0\n",
            "    >>> LA.cond(a, 2)\n",
            "    1.4142135623730951\n",
            "    >>> LA.cond(a, -2)\n",
            "    0.70710678118654746 # may vary\n",
            "    >>> min(LA.svd(a, compute_uv=0))*min(LA.svd(LA.inv(a), compute_uv=0))\n",
            "    0.70710678118654746 # may vary\n",
            "\n"
          ],
          "name": "stdout"
        }
      ]
    },
    {
      "cell_type": "code",
      "metadata": {
        "id": "ryBXH9dROzSr",
        "outputId": "04ce1b94-879e-49fa-cd8c-1b52766a638d"
      },
      "source": [
        "print(np.linalg.cond(A))"
      ],
      "execution_count": null,
      "outputs": [
        {
          "output_type": "stream",
          "text": [
            "3.813147060626918e+16\n"
          ],
          "name": "stdout"
        }
      ]
    },
    {
      "cell_type": "markdown",
      "metadata": {
        "id": "SKYPRtBaOzSs"
      },
      "source": [
        "**Exercise 1.** Write a Python function that takes two integer numbers `m` and `n` as input and creates the `m x n` Hilbert matrix. The Hilbert matrix has elements of the form `a[i,j]=1/(i+j-1)`. \n",
        "\n",
        "**Exercise 2.** Build a RHS vector for solving a linear system with the square Hilbert matrix of order `n` such that the solution is the vector of all 1. Solve the system for `n=5, 10, 100`.\n",
        "\n",
        "**Exercise 3.** Build a RHS vector `b` for solving a linear system with the square Hilbert matrix (`H`) of order 5 such that the solution is the vector of all 1. Solve the system and get the solution `x`. Now perturb `b` with the vector `db=[0,0,0,0,1e-4]` and compute the new solution `x1`. Estimate the 2-norm condition number of `H` by means of \n",
        "\n",
        "\\begin{equation}\n",
        "\\frac{\\|x-x_1\\|}{\\|x\\|}\\leq \\kappa_2 \\frac{\\|\\delta b\\|}{\\|b\\|}\n",
        "\\end{equation}\n",
        "\n",
        "**Exercise 4.** Compute the condition number of the square Hilbert matrix for `n=5, 10, 100`."
      ]
    },
    {
      "cell_type": "markdown",
      "metadata": {
        "id": "_rUo-LjIOzSs"
      },
      "source": [
        "### Eigenvalues and eigenvectors"
      ]
    },
    {
      "cell_type": "markdown",
      "metadata": {
        "id": "R9Y9M6oZOzSs"
      },
      "source": [
        "Let A be an `n x n` matrix. The number &lambda; is an eigenvalue of `A` if there exists a non-zero vector `C` such that\n",
        "\n",
        "Av = &lambda;v\n",
        "\n",
        "In this case, vector `v` is called an eigenvector of `A` corresponding to &lambda;. You can use numpy to calculate the eigenvalues and eigenvectors of a matrix: "
      ]
    },
    {
      "cell_type": "code",
      "metadata": {
        "id": "pA8YF8pNOzSs",
        "outputId": "31b9dfc0-78be-47b9-f3fa-e77ec068c335"
      },
      "source": [
        "help(np.linalg.eig)"
      ],
      "execution_count": null,
      "outputs": [
        {
          "output_type": "stream",
          "text": [
            "Help on function eig in module numpy.linalg:\n",
            "\n",
            "eig(a)\n",
            "    Compute the eigenvalues and right eigenvectors of a square array.\n",
            "    \n",
            "    Parameters\n",
            "    ----------\n",
            "    a : (..., M, M) array\n",
            "        Matrices for which the eigenvalues and right eigenvectors will\n",
            "        be computed\n",
            "    \n",
            "    Returns\n",
            "    -------\n",
            "    w : (..., M) array\n",
            "        The eigenvalues, each repeated according to its multiplicity.\n",
            "        The eigenvalues are not necessarily ordered. The resulting\n",
            "        array will be of complex type, unless the imaginary part is\n",
            "        zero in which case it will be cast to a real type. When `a`\n",
            "        is real the resulting eigenvalues will be real (0 imaginary\n",
            "        part) or occur in conjugate pairs\n",
            "    \n",
            "    v : (..., M, M) array\n",
            "        The normalized (unit \"length\") eigenvectors, such that the\n",
            "        column ``v[:,i]`` is the eigenvector corresponding to the\n",
            "        eigenvalue ``w[i]``.\n",
            "    \n",
            "    Raises\n",
            "    ------\n",
            "    LinAlgError\n",
            "        If the eigenvalue computation does not converge.\n",
            "    \n",
            "    See Also\n",
            "    --------\n",
            "    eigvals : eigenvalues of a non-symmetric array.\n",
            "    \n",
            "    eigh : eigenvalues and eigenvectors of a real symmetric or complex\n",
            "           Hermitian (conjugate symmetric) array.\n",
            "    \n",
            "    eigvalsh : eigenvalues of a real symmetric or complex Hermitian\n",
            "               (conjugate symmetric) array.\n",
            "    \n",
            "    Notes\n",
            "    -----\n",
            "    \n",
            "    .. versionadded:: 1.8.0\n",
            "    \n",
            "    Broadcasting rules apply, see the `numpy.linalg` documentation for\n",
            "    details.\n",
            "    \n",
            "    This is implemented using the ``_geev`` LAPACK routines which compute\n",
            "    the eigenvalues and eigenvectors of general square arrays.\n",
            "    \n",
            "    The number `w` is an eigenvalue of `a` if there exists a vector\n",
            "    `v` such that ``dot(a,v) = w * v``. Thus, the arrays `a`, `w`, and\n",
            "    `v` satisfy the equations ``dot(a[:,:], v[:,i]) = w[i] * v[:,i]``\n",
            "    for :math:`i \\in \\{0,...,M-1\\}`.\n",
            "    \n",
            "    The array `v` of eigenvectors may not be of maximum rank, that is, some\n",
            "    of the columns may be linearly dependent, although round-off error may\n",
            "    obscure that fact. If the eigenvalues are all different, then theoretically\n",
            "    the eigenvectors are linearly independent. Likewise, the (complex-valued)\n",
            "    matrix of eigenvectors `v` is unitary if the matrix `a` is normal, i.e.,\n",
            "    if ``dot(a, a.H) = dot(a.H, a)``, where `a.H` denotes the conjugate\n",
            "    transpose of `a`.\n",
            "    \n",
            "    Finally, it is emphasized that `v` consists of the *right* (as in\n",
            "    right-hand side) eigenvectors of `a`.  A vector `y` satisfying\n",
            "    ``dot(y.T, a) = z * y.T`` for some number `z` is called a *left*\n",
            "    eigenvector of `a`, and, in general, the left and right eigenvectors\n",
            "    of a matrix are not necessarily the (perhaps conjugate) transposes\n",
            "    of each other.\n",
            "    \n",
            "    References\n",
            "    ----------\n",
            "    G. Strang, *Linear Algebra and Its Applications*, 2nd Ed., Orlando, FL,\n",
            "    Academic Press, Inc., 1980, Various pp.\n",
            "    \n",
            "    Examples\n",
            "    --------\n",
            "    >>> from numpy import linalg as LA\n",
            "    \n",
            "    (Almost) trivial example with real e-values and e-vectors.\n",
            "    \n",
            "    >>> w, v = LA.eig(np.diag((1, 2, 3)))\n",
            "    >>> w; v\n",
            "    array([1., 2., 3.])\n",
            "    array([[1., 0., 0.],\n",
            "           [0., 1., 0.],\n",
            "           [0., 0., 1.]])\n",
            "    \n",
            "    Real matrix possessing complex e-values and e-vectors; note that the\n",
            "    e-values are complex conjugates of each other.\n",
            "    \n",
            "    >>> w, v = LA.eig(np.array([[1, -1], [1, 1]]))\n",
            "    >>> w; v\n",
            "    array([1.+1.j, 1.-1.j])\n",
            "    array([[0.70710678+0.j        , 0.70710678-0.j        ],\n",
            "           [0.        -0.70710678j, 0.        +0.70710678j]])\n",
            "    \n",
            "    Complex-valued matrix with real e-values (but complex-valued e-vectors);\n",
            "    note that ``a.conj().T == a``, i.e., `a` is Hermitian.\n",
            "    \n",
            "    >>> a = np.array([[1, 1j], [-1j, 1]])\n",
            "    >>> w, v = LA.eig(a)\n",
            "    >>> w; v\n",
            "    array([2.+0.j, 0.+0.j])\n",
            "    array([[ 0.        +0.70710678j,  0.70710678+0.j        ], # may vary\n",
            "           [ 0.70710678+0.j        , -0.        +0.70710678j]])\n",
            "    \n",
            "    Be careful about round-off error!\n",
            "    \n",
            "    >>> a = np.array([[1 + 1e-9, 0], [0, 1 - 1e-9]])\n",
            "    >>> # Theor. e-values are 1 +/- 1e-9\n",
            "    >>> w, v = LA.eig(a)\n",
            "    >>> w; v\n",
            "    array([1., 1.])\n",
            "    array([[1., 0.],\n",
            "           [0., 1.]])\n",
            "\n"
          ],
          "name": "stdout"
        }
      ]
    },
    {
      "cell_type": "code",
      "metadata": {
        "id": "Bw2rCGSLOzSs",
        "outputId": "56f938fb-801f-4b79-904a-d48f030ec96a"
      },
      "source": [
        "B = np.array([[-2, -4, 2],[-2, 1,2],[4,2,5]])\n",
        "print(np.linalg.det(B))\n",
        "l, v = np.linalg.eig(B)\n",
        "print(l)\n",
        "print(v)"
      ],
      "execution_count": null,
      "outputs": [
        {
          "output_type": "stream",
          "text": [
            "-90.0\n",
            "[-5.  3.  6.]\n",
            "[[ 0.81649658  0.53452248  0.05842062]\n",
            " [ 0.40824829 -0.80178373  0.35052374]\n",
            " [-0.40824829 -0.26726124  0.93472998]]\n"
          ],
          "name": "stdout"
        }
      ]
    },
    {
      "cell_type": "markdown",
      "metadata": {
        "id": "rDliOlOqOzSs"
      },
      "source": [
        "**Exercise 1.** Take a look at the document available at __[www.cs.huji.ac.il/~csip/tirgul2.pdf](http://www.cs.huji.ac.il/~csip/tirgul2.pdf)__ describing the power method for calculating the largest eigenvalue of a matrix. Write a Python function that takes as input the matrix `A`, the initial guess of the eigenvector `x0` and the maximum number of iteration `itmax` and returns the maximum eigenvalue and the corresponding eigenvector.\n",
        "\n",
        "**Exercise 2.** Implement the inverse power method. This method is the original method applied to the matrix $A^{-1}$. With reference to the solution of Exercise 1 it must be noticed that in this case the computation of `q` (lines 3 and 9) requires the solution of a linear system (to this aim use `np.linalg.solve`). \n",
        "\n",
        "**Exercise 3.** Implement the inverse power method with shift. This method is the original method applied to the matrix $(A-\\lambda I)^{-1}$; the user has to supply $\\lambda$ (the _shift_ ) and the algorithm will find the closest eigenvalue to $\\lambda$."
      ]
    },
    {
      "cell_type": "markdown",
      "metadata": {
        "id": "25jfScI4OzSu"
      },
      "source": [
        "### Data processing"
      ]
    },
    {
      "cell_type": "markdown",
      "metadata": {
        "id": "xXSQ3xX9OzSu"
      },
      "source": [
        "Often it is useful to store datasets in Numpy arrays. Numpy provides a number of functions to calculate statistics of datasets in arrays. "
      ]
    },
    {
      "cell_type": "code",
      "metadata": {
        "id": "62Q4ZSbFOzSu"
      },
      "source": [
        "help(np.random)"
      ],
      "execution_count": null,
      "outputs": []
    },
    {
      "cell_type": "code",
      "metadata": {
        "id": "n8GkAuZ_OzSu"
      },
      "source": [
        "data=np.random.rand(100,5)\n",
        "data"
      ],
      "execution_count": null,
      "outputs": []
    },
    {
      "cell_type": "markdown",
      "metadata": {
        "id": "wOHW5sYBOzSu"
      },
      "source": [
        "#### mean"
      ]
    },
    {
      "cell_type": "code",
      "metadata": {
        "id": "imskYnejOzSu"
      },
      "source": [
        "# interesting data is in column 3\n",
        "np.mean(data[:,3])"
      ],
      "execution_count": null,
      "outputs": []
    },
    {
      "cell_type": "markdown",
      "metadata": {
        "id": "XJrBqFU1OzSu"
      },
      "source": [
        "#### standard deviations and variance"
      ]
    },
    {
      "cell_type": "code",
      "metadata": {
        "id": "tk5gc3yPOzSu"
      },
      "source": [
        "np.std(data[:,3]), np.var(data[:,3])"
      ],
      "execution_count": null,
      "outputs": []
    },
    {
      "cell_type": "markdown",
      "metadata": {
        "id": "iaP1NLxHOzSv"
      },
      "source": [
        "#### min and max"
      ]
    },
    {
      "cell_type": "code",
      "metadata": {
        "id": "Dpu6y9_KOzSv"
      },
      "source": [
        "# lowest value in column\n",
        "data[:,3].min()"
      ],
      "execution_count": null,
      "outputs": []
    },
    {
      "cell_type": "code",
      "metadata": {
        "id": "4Rip9B0GOzSv"
      },
      "source": [
        "# highest value in column\n",
        "data[:,3].max()"
      ],
      "execution_count": null,
      "outputs": []
    },
    {
      "cell_type": "code",
      "metadata": {
        "id": "jbc8v5XvOzSv"
      },
      "source": [
        "data1 = np.random.rand(5,3)\n",
        "data1"
      ],
      "execution_count": null,
      "outputs": []
    },
    {
      "cell_type": "code",
      "metadata": {
        "id": "i2kiTDDBOzSv"
      },
      "source": [
        "data1.min()"
      ],
      "execution_count": null,
      "outputs": []
    },
    {
      "cell_type": "markdown",
      "metadata": {
        "id": "BRI60w_-OzSv"
      },
      "source": [
        "#### sum, prod, and trace"
      ]
    },
    {
      "cell_type": "code",
      "metadata": {
        "id": "qxB8nFc_OzSv"
      },
      "source": [
        "d = np.arange(1, 6)\n",
        "d"
      ],
      "execution_count": null,
      "outputs": []
    },
    {
      "cell_type": "code",
      "metadata": {
        "id": "EslH-MC-OzSv"
      },
      "source": [
        "# sum up all elements\n",
        "sum(d)"
      ],
      "execution_count": null,
      "outputs": []
    },
    {
      "cell_type": "code",
      "metadata": {
        "id": "Zn5-gVr1OzSw"
      },
      "source": [
        "# product of all elements\n",
        "np.prod(d)"
      ],
      "execution_count": null,
      "outputs": []
    },
    {
      "cell_type": "code",
      "metadata": {
        "id": "KFcveI3GOzSw"
      },
      "source": [
        "# cummulative sum\n",
        "np.cumsum(d)"
      ],
      "execution_count": null,
      "outputs": []
    },
    {
      "cell_type": "code",
      "metadata": {
        "id": "evQp4U-3OzSw"
      },
      "source": [
        "# cummulative product\n",
        "np.cumprod(d)"
      ],
      "execution_count": null,
      "outputs": []
    },
    {
      "cell_type": "code",
      "metadata": {
        "id": "sMrsTCukOzSw"
      },
      "source": [
        "A=np.random.rand(5,5)\n",
        "# same as: diag(A).sum()\n",
        "np.trace(A)"
      ],
      "execution_count": null,
      "outputs": []
    },
    {
      "cell_type": "markdown",
      "metadata": {
        "id": "Vr5b3WY_OzSw"
      },
      "source": [
        "#### Vectorization"
      ]
    },
    {
      "cell_type": "markdown",
      "metadata": {
        "id": "Ss0K1qpVOzSw"
      },
      "source": [
        "As mentioned several times by now, to get good performance we should try to avoid looping over elements in our vectors and matrices, and instead use vectorized algorithms. The first step in converting a scalar algorithm to a vectorized algorithm is to make sure that the functions we write work with vector inputs."
      ]
    },
    {
      "cell_type": "code",
      "metadata": {
        "id": "EkroigfHOzSw"
      },
      "source": [
        "def Theta(x):\n",
        "    \"\"\"\n",
        "    Scalar implemenation of the Heaviside step function.\n",
        "    \"\"\"\n",
        "    #print(type(x))\n",
        "    if x >= 0:\n",
        "        return 1\n",
        "    else:\n",
        "        return 0"
      ],
      "execution_count": null,
      "outputs": []
    },
    {
      "cell_type": "code",
      "metadata": {
        "id": "4r9x4ZLWOzSx",
        "outputId": "32574abb-3f98-4110-f3bb-4bff573f1bd8"
      },
      "source": [
        "Theta(-8)"
      ],
      "execution_count": null,
      "outputs": [
        {
          "output_type": "execute_result",
          "data": {
            "text/plain": [
              "0"
            ]
          },
          "metadata": {
            "tags": []
          },
          "execution_count": 55
        }
      ]
    },
    {
      "cell_type": "code",
      "metadata": {
        "id": "d38Ss2AHOzSx",
        "outputId": "fad8d136-b4f6-4154-f4f9-b33e01177640"
      },
      "source": [
        "Theta(np.array([-3,-2,-1,0,1,2,3]))"
      ],
      "execution_count": null,
      "outputs": [
        {
          "output_type": "error",
          "ename": "ValueError",
          "evalue": "The truth value of an array with more than one element is ambiguous. Use a.any() or a.all()",
          "traceback": [
            "\u001b[0;31m---------------------------------------------------------------------------\u001b[0m",
            "\u001b[0;31mValueError\u001b[0m                                Traceback (most recent call last)",
            "\u001b[0;32m<ipython-input-56-b49266106206>\u001b[0m in \u001b[0;36m<module>\u001b[0;34m\u001b[0m\n\u001b[0;32m----> 1\u001b[0;31m \u001b[0mTheta\u001b[0m\u001b[0;34m(\u001b[0m\u001b[0mnp\u001b[0m\u001b[0;34m.\u001b[0m\u001b[0marray\u001b[0m\u001b[0;34m(\u001b[0m\u001b[0;34m[\u001b[0m\u001b[0;34m-\u001b[0m\u001b[0;36m3\u001b[0m\u001b[0;34m,\u001b[0m\u001b[0;34m-\u001b[0m\u001b[0;36m2\u001b[0m\u001b[0;34m,\u001b[0m\u001b[0;34m-\u001b[0m\u001b[0;36m1\u001b[0m\u001b[0;34m,\u001b[0m\u001b[0;36m0\u001b[0m\u001b[0;34m,\u001b[0m\u001b[0;36m1\u001b[0m\u001b[0;34m,\u001b[0m\u001b[0;36m2\u001b[0m\u001b[0;34m,\u001b[0m\u001b[0;36m3\u001b[0m\u001b[0;34m]\u001b[0m\u001b[0;34m)\u001b[0m\u001b[0;34m)\u001b[0m\u001b[0;34m\u001b[0m\u001b[0;34m\u001b[0m\u001b[0m\n\u001b[0m",
            "\u001b[0;32m<ipython-input-54-4fbc6138ae15>\u001b[0m in \u001b[0;36mTheta\u001b[0;34m(x)\u001b[0m\n\u001b[1;32m      4\u001b[0m     \"\"\"\n\u001b[1;32m      5\u001b[0m     \u001b[0;31m#print(type(x))\u001b[0m\u001b[0;34m\u001b[0m\u001b[0;34m\u001b[0m\u001b[0;34m\u001b[0m\u001b[0m\n\u001b[0;32m----> 6\u001b[0;31m     \u001b[0;32mif\u001b[0m \u001b[0mx\u001b[0m \u001b[0;34m>=\u001b[0m \u001b[0;36m0\u001b[0m\u001b[0;34m:\u001b[0m\u001b[0;34m\u001b[0m\u001b[0;34m\u001b[0m\u001b[0m\n\u001b[0m\u001b[1;32m      7\u001b[0m         \u001b[0;32mreturn\u001b[0m \u001b[0;36m1\u001b[0m\u001b[0;34m\u001b[0m\u001b[0;34m\u001b[0m\u001b[0m\n\u001b[1;32m      8\u001b[0m     \u001b[0;32melse\u001b[0m\u001b[0;34m:\u001b[0m\u001b[0;34m\u001b[0m\u001b[0;34m\u001b[0m\u001b[0m\n",
            "\u001b[0;31mValueError\u001b[0m: The truth value of an array with more than one element is ambiguous. Use a.any() or a.all()"
          ]
        }
      ]
    },
    {
      "cell_type": "markdown",
      "metadata": {
        "id": "FlLLg3oOOzSx"
      },
      "source": [
        "OK, that didn't work because we didn't write the `Theta` function so that it can handle a vector input... \n",
        "\n",
        "To get a vectorized version of Theta we can use the Numpy function `vectorize`. In many cases it can automatically vectorize a function:"
      ]
    },
    {
      "cell_type": "code",
      "metadata": {
        "id": "AkXbWdonOzSx",
        "outputId": "4ca35499-a900-480a-9d83-57a59d4ac2dc"
      },
      "source": [
        "Theta_vec = np.vectorize(Theta)\n",
        "Theta_vec"
      ],
      "execution_count": null,
      "outputs": [
        {
          "output_type": "execute_result",
          "data": {
            "text/plain": [
              "<numpy.vectorize at 0x7ffa087ac090>"
            ]
          },
          "metadata": {
            "tags": []
          },
          "execution_count": 57
        }
      ]
    },
    {
      "cell_type": "code",
      "metadata": {
        "id": "0z9ooa6sOzSx",
        "outputId": "82f5e66f-203e-49da-9a25-ed2aa2699b0b"
      },
      "source": [
        "Theta_vec(np.array([-3,-2,-1,0,1,2,3]))"
      ],
      "execution_count": null,
      "outputs": [
        {
          "output_type": "execute_result",
          "data": {
            "text/plain": [
              "array([0, 0, 0, 1, 1, 1, 1])"
            ]
          },
          "metadata": {
            "tags": []
          },
          "execution_count": 58
        }
      ]
    },
    {
      "cell_type": "code",
      "metadata": {
        "id": "XpPiXptsOzSy",
        "outputId": "e78d6cc6-d06b-42de-f9d7-830a738ad125"
      },
      "source": [
        "v = np.array([-3,-2,-1,0,1,2,3])\n",
        "1.0*(v>=0)"
      ],
      "execution_count": null,
      "outputs": [
        {
          "output_type": "execute_result",
          "data": {
            "text/plain": [
              "array([0., 0., 0., 1., 1., 1., 1.])"
            ]
          },
          "metadata": {
            "tags": []
          },
          "execution_count": 60
        }
      ]
    },
    {
      "cell_type": "markdown",
      "metadata": {
        "id": "PvPVpkOFOzSy"
      },
      "source": [
        "We can also implement the function to accept a vector input from the beginning (requires more effort but might give better performance):"
      ]
    },
    {
      "cell_type": "code",
      "metadata": {
        "id": "Piy90XZnOzSy"
      },
      "source": [
        "import numpy as np"
      ],
      "execution_count": null,
      "outputs": []
    },
    {
      "cell_type": "code",
      "metadata": {
        "id": "RhYndP9yOzSy"
      },
      "source": [
        "def Theta(x):\n",
        "    \"\"\"\n",
        "    Vector-aware implemenation of the Heaviside step function.\n",
        "    \"\"\"\n",
        "    #print(isinstance(x, np.ndarray))\n",
        "    return 1 * (x >= 0)"
      ],
      "execution_count": null,
      "outputs": []
    },
    {
      "cell_type": "code",
      "metadata": {
        "id": "mrQ8E21TOzSy",
        "outputId": "c907f76a-cfbe-43e2-b2ce-cbcdaf403279"
      },
      "source": [
        "Theta(np.array([-3,-2,-1,0,1,2,3]))"
      ],
      "execution_count": null,
      "outputs": [
        {
          "output_type": "execute_result",
          "data": {
            "text/plain": [
              "array([0, 0, 0, 1, 1, 1, 1])"
            ]
          },
          "metadata": {
            "tags": []
          },
          "execution_count": 63
        }
      ]
    },
    {
      "cell_type": "code",
      "metadata": {
        "id": "6-z57C5mOzSy",
        "outputId": "7453d245-e56f-4ca3-ee4d-f337cb4b7f6e"
      },
      "source": [
        "# still works for scalars as well\n",
        "Theta(-1.2), Theta(2.6)"
      ],
      "execution_count": null,
      "outputs": [
        {
          "output_type": "execute_result",
          "data": {
            "text/plain": [
              "(0, 1)"
            ]
          },
          "metadata": {
            "tags": []
          },
          "execution_count": 64
        }
      ]
    },
    {
      "cell_type": "code",
      "metadata": {
        "id": "2kxyN__tOzSz"
      },
      "source": [
        ""
      ],
      "execution_count": null,
      "outputs": []
    }
  ]
}