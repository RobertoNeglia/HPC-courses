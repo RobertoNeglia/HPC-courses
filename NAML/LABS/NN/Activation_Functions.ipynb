{
  "cells": [
    {
      "cell_type": "code",
      "execution_count": 4,
      "metadata": {
        "colab": {
          "base_uri": "https://localhost:8080/",
          "height": 283
        },
        "id": "FrsmqVPa_l2L",
        "outputId": "63f8c2b8-be9d-48e5-a1f6-f5113142b9a1"
      },
      "outputs": [
        {
          "name": "stdout",
          "output_type": "stream",
          "text": [
            "0.9999999999999998\n"
          ]
        },
        {
          "data": {
            "image/png": "[encoded data removed]",
            "text/plain": [
              "<Figure size 640x480 with 1 Axes>"
            ]
          },
          "metadata": {},
          "output_type": "display_data"
        }
      ],
      "source": [
        "import matplotlib.pyplot as plt\n",
        "import numpy as np\n",
        "from scipy import integrate\n",
        "\n",
        "# Data for plotting\n",
        "t = np.arange(-5.0, 5.0, 0.1)\n",
        "#s = t>0                              # Step\n",
        "#s = t                                # Linear\n",
        "#s = 1/(1+np.exp(-t))                 # Sigmoid\n",
        "#ds = s*(1-s)                         # Derivative of the sigmoid\n",
        "#s = np.tanh(t)                       # Tanh\n",
        "#ds = 1-s**2                          # Derivative of tanh\n",
        "#s = np.maximum(0,t)                  # ReLU\n",
        "#ds = s>0                             # Derivative of the ReLU\n",
        "#alpha = 0.1                          # Parameter for the Leaky ReLU\n",
        "#s = np.maximum(alpha*t,t)            # Leaky ReLU\n",
        "#ds = (s<0)*alpha+(s>=0)              # Derivative of the Leaky ReLU\n",
        "#a = 1                                # Parameter for the ELU\n",
        "#s = (t<0)*a*(np.exp(t)-1)+(t>=0)*t   # ELU\n",
        "#ds = (t<0)*(s+a)+(t>=0)              # Derivative of the ELU\n",
        "#s = t/(1+np.exp(-t))                 # Swish\n",
        "s = np.exp(t)/np.sum(np.exp(t))      # Softmax\n",
        "print(sum(s))                        # Softmax probabilities sum to 1\n",
        "\n",
        "fig, ax = plt.subplots()\n",
        "ax.plot(t, s)\n",
        "#ax.plot(t,ds,'r')\n",
        "\n",
        "ax.grid()\n",
        "\n",
        "plt.show()"
      ]
    },
    {
      "cell_type": "code",
      "execution_count": null,
      "metadata": {
        "colab": {
          "base_uri": "https://localhost:8080/"
        },
        "id": "OPy8u7tshkFU",
        "outputId": "6235c031-4d70-455b-a279-e0bea6c9cbe5"
      },
      "outputs": [
        {
          "data": {
            "text/plain": [
              "array([7.80134161e-05, 2.12062451e-04, 5.76445508e-04, 1.56694135e-03,\n",
              "       4.25938820e-03, 1.15782175e-02, 3.14728583e-02, 8.55520989e-02,\n",
              "       2.32554716e-01, 6.32149258e-01])"
            ]
          },
          "execution_count": 20,
          "metadata": {},
          "output_type": "execute_result"
        }
      ],
      "source": [
        "s"
      ]
    },
    {
      "attachments": {},
      "cell_type": "markdown",
      "metadata": {
        "id": "_tUhOzO7Zse4"
      },
      "source": [
        "**Step function** \n",
        "\n",
        "*Cons*\n",
        "\n",
        "* It cannot provide multi-value outputs—for example, it cannot be used for multiclass\n",
        "classification problems.\n",
        "* The gradient of the step function is zero, which causes a hindrance in the\n",
        "backpropagation process.\n",
        "\n",
        "**Linear**\n",
        "\n",
        "*Cons*\n",
        "\n",
        "* It’s not possible to use backpropagation as the derivative of the function is a\n",
        "constant and has no relation to the input x.\n",
        "* All layers of the neural network will collapse into one if a linear activation\n",
        "function is used. No matter the number of layers in the neural network, the last\n",
        "layer will still be a linear function of the first layer. So, essentially, a linear\n",
        "activation function turns the neural network into just one layer.\n",
        "\n",
        "**Sigmoid**\n",
        "\n",
        "*Pros*\n",
        "\n",
        "* It is commonly used for models where we have to predict the probability as an\n",
        "output. Since probability of anything exists only between the range of 0 and 1,\n",
        "sigmoid is the right choice because of its range.\n",
        "* The function is differentiable and provides a smooth gradient, i.e., preventing\n",
        "jumps in output values. This is represented by an S-shape of the sigmoid activation function.\n",
        "\n",
        "*Cons*\n",
        "\n",
        "* As we can see from the Figure, the gradient values are only significant for\n",
        "range -3 to 3, and the graph gets much flatter in other regions.\n",
        "It implies that for values greater than 3 or less than -3, the function will have very\n",
        "small gradients. As the gradient value approaches zero, the network ceases to learn\n",
        "and suffers from the *Vanishing gradient problem*.\n",
        "* The output of the logistic function is not symmetric around zero. This makes the training of the\n",
        "neural network more difficult and unstable.\n",
        "\n",
        "**Tanh**\n",
        "\n",
        "*Pros*\n",
        "\n",
        "* The output of the tanh activation function is Zero centered; hence we can\n",
        "easily map the output values as strongly negative, neutral, or strongly positive.\n",
        "* Usually used in hidden layers of a neural network as its values lie between -1 and 1; therefore, the mean for the hidden layer comes out to be 0 or very close to\n",
        "it. It helps in centering the data and makes learning for the next layer much\n",
        "easier.\n",
        "\n",
        "*Cons*\n",
        "\n",
        "* Also tanh faces the problem of *vanishing gradients* similar to the\n",
        "sigmoid activation function. Plus the gradient of the tanh function is much steeper as\n",
        "compared to the sigmoid function.\n",
        "Although both sigmoid and tanh face vanishing gradient issue, tanh is\n",
        "zero centered.\n",
        "Therefore, in practice, tanh nonlinearity is always preferred to sigmoid\n",
        "nonlinearity.\n",
        "\n",
        "**ReLU**\n",
        "\n",
        "*Pros*\n",
        "\n",
        "* Since only a certain number of neurons are activated, the ReLU function is far\n",
        "more computationally efficient when compared to the sigmoid and tanh\n",
        "functions.\n",
        "* ReLU accelerates the convergence of gradient descent towards the global\n",
        "minimum of the loss function due to its linear, non-saturating property.\n",
        "\n",
        "*Cons*\n",
        "\n",
        "* The negative side of the graph makes the gradient value zero. Due to this reason,\n",
        "during the backpropagation process, the weights and biases for some neurons are\n",
        "not updated. This can create dead neurons which never get activated.\n",
        "All the negative input values become zero immediately, which decreases the\n",
        "model’s ability to fit or train from the data properly.\n",
        "\n",
        "**Leaky ReLU**\n",
        "\n",
        "*Pros*\n",
        "\n",
        "* The advantages of Leaky ReLU are same as that of ReLU, in addition to the fact that\n",
        "it does enable backpropagation, even for negative input values.\n",
        "By making this minor modification for negative input values, the gradient of the left\n",
        "side of the graph comes out to be a non-zero value. Therefore, we would no longer\n",
        "encounter dead neurons in that region.\n",
        "\n",
        "*Cons*\n",
        "\n",
        "* The predictions may not be consistent for negative input values.\n",
        "* The gradient for negative values is a small value that makes the learning of\n",
        "model parameters time-consuming.\n",
        "\n",
        "**ELU (Exponential Linear Unit)**\n",
        "\n",
        "*Pros*\n",
        "\n",
        "* ELU becomes smooth slowly until its output equal to $a$ whereas RELU sharply smoothes.\n",
        "* Avoids dead ReLU problem by introducing log curve for negative values of\n",
        "input. It helps the network nudge weights and biases in the right direction.\n",
        "\n",
        "*Cons*\n",
        "\n",
        "* It increases the computational time because of the exponential operation\n",
        "included\n",
        "* No learning of the $a$ value takes place\n",
        "* Exploding gradient problem\n",
        "\n",
        "**Swish**\n",
        "\n",
        "*Pros*\n",
        "* Swish is a smooth function that means that it does not abruptly change\n",
        "direction like ReLU does near x = 0. Rather, it smoothly bends from 0 towards\n",
        "values $< 0$ and then upwards again.\n",
        "* Small negative values were zeroed out in ReLU activation function. However,\n",
        "those negative values may still be relevant for capturing patterns underlying\n",
        "the data. Large negative values are zeroed out for reasons of sparsity making it a win-win situation.\n",
        "\n",
        "**Softmax**\n",
        "\n",
        "*Pros*\n",
        "\n",
        "* It calculates the relative probabilities. Similar to the sigmoid/logistic activation\n",
        "function, the SoftMax function returns the probability of each class.\n",
        "It is most commonly used as an activation function for the last layer of the neural\n",
        "network in the case of multi-class classification.\n",
        "\n"
      ]
    },
    {
      "cell_type": "code",
      "execution_count": null,
      "metadata": {
        "id": "8aIVqtLEfHtI"
      },
      "outputs": [],
      "source": []
    }
  ],
  "metadata": {
    "colab": {
      "provenance": []
    },
    "kernelspec": {
      "display_name": "Python 3",
      "name": "python3"
    },
    "language_info": {
      "codemirror_mode": {
        "name": "ipython",
        "version": 3
      },
      "file_extension": ".py",
      "mimetype": "text/x-python",
      "name": "python",
      "nbconvert_exporter": "python",
      "pygments_lexer": "ipython3",
      "version": "3.11.3"
    }
  },
  "nbformat": 4,
  "nbformat_minor": 0
}
