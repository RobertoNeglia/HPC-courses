{
  "nbformat": 4,
  "nbformat_minor": 0,
  "metadata": {
    "colab": {
      "provenance": []
    },
    "kernelspec": {
      "name": "python3",
      "display_name": "Python 3"
    }
  },
  "cells": [
    {
      "cell_type": "markdown",
      "metadata": {
        "id": "W0wiCrjqH6y4"
      },
      "source": [
        "# 1D convolutions"
      ]
    },
    {
      "cell_type": "code",
      "metadata": {
        "id": "u3JPrwdxdJP1"
      },
      "source": [
        "import numpy as np\n",
        "import matplotlib.pyplot as plt\n",
        "from scipy import signal\n",
        "from scipy import linalg\n",
        "import time"
      ],
      "execution_count": null,
      "outputs": []
    },
    {
      "cell_type": "markdown",
      "metadata": {
        "id": "Zsw4zkuwrya7"
      },
      "source": [
        "Consider the square wave discrete signal:\n",
        "\n",
        "$$ \\mathbf{v}_i=\n",
        "\\begin{cases}\n",
        "0, & i = 1,\\dots, 50 \\\\\n",
        "1, & i = 51,\\dots, 75 \\\\\n",
        "0, & i = 76,\\dots, 100 \\\\\n",
        "\\end{cases}\n",
        "$$\n",
        "\n",
        "Define the vector $\\mathbf{v}$ and plot the corresponding signal."
      ]
    },
    {
      "cell_type": "markdown",
      "metadata": {
        "id": "tya5JinEtDzv"
      },
      "source": [
        "Consider the following kernels $\\mathbf{k}$:"
      ]
    },
    {
      "cell_type": "code",
      "metadata": {
        "id": "u31ecvCEs-gj"
      },
      "source": [
        "### first kernel\n",
        "k = np.ones(10)/10\n",
        "\n",
        "### second kernel\n",
        "#k = signal.gaussian(20, std=3)\n",
        "#k = k / np.sum(k)\n",
        "\n",
        "### third kernel\n",
        "#k = np.array([-1,2,-1])\n",
        "\n",
        "plt.plot(k)"
      ],
      "execution_count": null,
      "outputs": []
    },
    {
      "cell_type": "markdown",
      "metadata": {
        "id": "p3Q8XyARuzAp"
      },
      "source": [
        "In what follows, we will compute the convolution between $\\mathbf{v}$ and $\\mathbf{k}$ in 4 different manners. At the end of each point, plot the obtained filtered (i.e. convolved) signal."
      ]
    },
    {
      "cell_type": "markdown",
      "metadata": {
        "id": "-XUqNsUCtfJA"
      },
      "source": [
        "## 1. Toeplitz matrix\n",
        "\n",
        "Define a Toeplitz matrix $K$ associated with the kernel $\\mathbf{k}$.\n",
        "Then, compute the convolution between $\\mathbf{k}$ and $\\mathbf{v}$, exploiting the property:\n",
        "\n",
        "$\\mathbf{k} * \\mathbf{v} = K \\mathbf{v}$"
      ]
    },
    {
      "cell_type": "markdown",
      "metadata": {
        "id": "iJAIEAHfu5fx"
      },
      "source": [
        "## 2. Direct definition (sums of products)\n",
        "\n",
        "The convolution without \"boundary layer\" (i.e. the part of the vector which is identical between the standard and the circular convolutions), is given by:\n",
        "\n",
        "$(\\mathbf{k} * \\mathbf{v})_i = \\sum_{j = 0}^{n_k - 1} \\mathbf{k}_{n_k - j} \\mathbf{v}_{i + j}$\n",
        "\n",
        "for $i = 1, \\dots, n_v - n_k + 1$."
      ]
    },
    {
      "cell_type": "markdown",
      "metadata": {
        "id": "1_1hY_h2ywdP"
      },
      "source": [
        "## 3. Convolution through DFT\n",
        "\n",
        "When the two signals have the same size, we have:\n",
        "\n",
        "$ \\widehat{\\mathbf{v} \\circledast \\mathbf{k}} = \\widehat{\\mathbf{v}} \\odot \\widehat{\\mathbf{k}} $\n",
        "\n",
        "Where:\n",
        "- $\\hat{\\mathbf{a}}$ is the DFT of the signal $\\mathbf{a}$\n",
        "- $\\circledast$ is the circular convolution\n",
        "- $\\odot$ is the Hadamard product\n",
        "\n",
        "When the two signals do not have the same size, the above formula can be applied simply by \"zero-padding\" the shorter signal (N.B: this is automatically done by the `numpy.fft.fft` command by passing the required length as second argument).\n",
        "\n",
        "Besides the filtered signal, plot the DFT of the two signals and of their convolution.\n"
      ]
    },
    {
      "cell_type": "markdown",
      "metadata": {
        "id": "cNsTEqMk0-d6"
      },
      "source": [
        "## 4. Using the command `scipy.signal.convolve`\n",
        "\n",
        "Check out the [documentation](https://docs.scipy.org/doc/scipy/reference/generated/scipy.signal.convolve.html)."
      ]
    }
  ]
}