{
  "nbformat": 4,
  "nbformat_minor": 0,
  "metadata": {
    "colab": {
      "provenance": [],
      "collapsed_sections": []
    },
    "kernelspec": {
      "name": "python3",
      "display_name": "Python 3"
    }
  },
  "cells": [
    {
      "cell_type": "markdown",
      "metadata": {
        "id": "gMz-33_m3OVr"
      },
      "source": [
        "# Forward auto-diff through Dual Numbers"
      ]
    },
    {
      "cell_type": "code",
      "metadata": {
        "id": "0yxN97Qqaz7O"
      },
      "source": [
        "import numpy as np"
      ],
      "execution_count": null,
      "outputs": []
    },
    {
      "cell_type": "markdown",
      "metadata": {
        "id": "uJ7sptoJ3WoN"
      },
      "source": [
        "Let us define a class `DualNumber` that represents a dual number\n",
        "\n",
        "$$\n",
        "a + b \\epsilon \n",
        "$$\n",
        "\n",
        "where $a$ is the \"real\" part and $b$ is the \"dual\" part."
      ]
    },
    {
      "cell_type": "code",
      "metadata": {
        "id": "dzKOGcA9obqm"
      },
      "source": [
        "class DualNumber:\n",
        "  def __init__(self, real, dual):\n",
        "    # dual number: 'real' + 'dual' * eps\n",
        "    self.real = real\n",
        "    self.dual = dual\n",
        "\n",
        "  def __repr__(self):\n",
        "    return repr(self.real) + ' + ' + repr(self.dual) + ' epsilon'"
      ],
      "execution_count": 9,
      "outputs": []
    },
    {
      "cell_type": "markdown",
      "metadata": {
        "id": "KwUm1iNAohoq"
      },
      "source": [
        "Define the dual numbers\n",
        "\n",
        "$$\n",
        "\\begin{split}\n",
        "x &= 1 + 2 \\epsilon \\\\\n",
        "y &= 1.5 + 3.1 \\epsilon \\\\\n",
        "\\end{split}\n",
        "$$"
      ]
    },
    {
      "cell_type": "code",
      "source": [
        "x = DualNumber(1, 2)\n",
        "y = DualNumber(1.5, 3.1)\n",
        "print(x)\n",
        "print(y)\n",
        "x + y"
      ],
      "metadata": {
        "colab": {
          "base_uri": "https://localhost:8080/",
          "height": 235
        },
        "id": "VDr99gWj0Gqf",
        "outputId": "ab5712ac-ae72-400f-9e35-eb738b8ceeda"
      },
      "execution_count": 12,
      "outputs": [
        {
          "output_type": "stream",
          "name": "stdout",
          "text": [
            "1 + 2 epsilon\n",
            "1.5 + 3.1 epsilon\n"
          ]
        },
        {
          "output_type": "error",
          "ename": "TypeError",
          "evalue": "ignored",
          "traceback": [
            "\u001b[0;31m---------------------------------------------------------------------------\u001b[0m",
            "\u001b[0;31mTypeError\u001b[0m                                 Traceback (most recent call last)",
            "\u001b[0;32m<ipython-input-12-57803fc96869>\u001b[0m in \u001b[0;36m<module>\u001b[0;34m\u001b[0m\n\u001b[1;32m      3\u001b[0m \u001b[0mprint\u001b[0m\u001b[0;34m(\u001b[0m\u001b[0mx\u001b[0m\u001b[0;34m)\u001b[0m\u001b[0;34m\u001b[0m\u001b[0;34m\u001b[0m\u001b[0m\n\u001b[1;32m      4\u001b[0m \u001b[0mprint\u001b[0m\u001b[0;34m(\u001b[0m\u001b[0my\u001b[0m\u001b[0;34m)\u001b[0m\u001b[0;34m\u001b[0m\u001b[0;34m\u001b[0m\u001b[0m\n\u001b[0;32m----> 5\u001b[0;31m \u001b[0mx\u001b[0m \u001b[0;34m+\u001b[0m \u001b[0my\u001b[0m\u001b[0;34m\u001b[0m\u001b[0;34m\u001b[0m\u001b[0m\n\u001b[0m",
            "\u001b[0;31mTypeError\u001b[0m: unsupported operand type(s) for +: 'DualNumber' and 'DualNumber'"
          ]
        }
      ]
    },
    {
      "cell_type": "markdown",
      "metadata": {
        "id": "DAH2eIaHod_y"
      },
      "source": [
        "Implement the operator sum `__add__` for this class."
      ]
    },
    {
      "cell_type": "code",
      "metadata": {
        "id": "JbgwZc9UzG7U"
      },
      "source": [
        "class DualNumber:\n",
        "  def __init__(self, real, dual):\n",
        "    # dual number: 'real' + 'dual' * eps\n",
        "    self.real = real\n",
        "    self.dual = dual\n",
        "\n",
        "  def __repr__(self):\n",
        "    return repr(self.real) + ' + ' + repr(self.dual) + ' epsilon'\n",
        "\n",
        "  def __add__(self, other):\n",
        "    # implement the operation \"self + other\"\n",
        "    return DualNumber(self.real + other.real, self.dual + other.dual)"
      ],
      "execution_count": 13,
      "outputs": []
    },
    {
      "cell_type": "markdown",
      "metadata": {
        "id": "LgV_q13m3iD6"
      },
      "source": [
        "Define the dual numbers\n",
        "\n",
        "$$\n",
        "\\begin{split}\n",
        "x &= 1 + 2 \\epsilon \\\\\n",
        "y &= 1.5 + 3.1 \\epsilon \\\\\n",
        "\\end{split}\n",
        "$$\n",
        "\n",
        "Then, compute $z = x + y$ and display the result."
      ]
    },
    {
      "cell_type": "code",
      "source": [
        "x = DualNumber(1, 2)\n",
        "y = DualNumber(1.5, 3.1)\n",
        "z = x + y\n",
        "print(z)"
      ],
      "metadata": {
        "colab": {
          "base_uri": "https://localhost:8080/"
        },
        "id": "MEJXusCr1827",
        "outputId": "5f89d3e6-b9d3-4bf2-8e0e-218e97ece7c5"
      },
      "execution_count": 14,
      "outputs": [
        {
          "output_type": "stream",
          "name": "stdout",
          "text": [
            "2.5 + 5.1 epsilon\n"
          ]
        }
      ]
    },
    {
      "cell_type": "markdown",
      "metadata": {
        "id": "krnyTgBg4If-"
      },
      "source": [
        "Define now the dual number\n",
        "\n",
        "$$\n",
        "\\begin{split}\n",
        "x &= 1 + 2 \\epsilon \\\\\n",
        "\\end{split}\n",
        "$$\n",
        "\n",
        "and try to compute $w = x + 1$. What is going on?"
      ]
    },
    {
      "cell_type": "code",
      "source": [
        "x = DualNumber(1, 2)\n",
        "w = x + 1"
      ],
      "metadata": {
        "colab": {
          "base_uri": "https://localhost:8080/",
          "height": 270
        },
        "id": "TH8ckaQI2Hk2",
        "outputId": "8369c02b-4b06-4802-f962-934a19065b7c"
      },
      "execution_count": 15,
      "outputs": [
        {
          "output_type": "error",
          "ename": "AttributeError",
          "evalue": "ignored",
          "traceback": [
            "\u001b[0;31m---------------------------------------------------------------------------\u001b[0m",
            "\u001b[0;31mAttributeError\u001b[0m                            Traceback (most recent call last)",
            "\u001b[0;32m<ipython-input-15-2745f7d21471>\u001b[0m in \u001b[0;36m<module>\u001b[0;34m\u001b[0m\n\u001b[1;32m      1\u001b[0m \u001b[0mx\u001b[0m \u001b[0;34m=\u001b[0m \u001b[0mDualNumber\u001b[0m\u001b[0;34m(\u001b[0m\u001b[0;36m1\u001b[0m\u001b[0;34m,\u001b[0m \u001b[0;36m2\u001b[0m\u001b[0;34m)\u001b[0m\u001b[0;34m\u001b[0m\u001b[0;34m\u001b[0m\u001b[0m\n\u001b[0;32m----> 2\u001b[0;31m \u001b[0mw\u001b[0m \u001b[0;34m=\u001b[0m \u001b[0mx\u001b[0m \u001b[0;34m+\u001b[0m \u001b[0;36m1\u001b[0m\u001b[0;34m\u001b[0m\u001b[0;34m\u001b[0m\u001b[0m\n\u001b[0m",
            "\u001b[0;32m<ipython-input-13-b7a2dba4e0aa>\u001b[0m in \u001b[0;36m__add__\u001b[0;34m(self, other)\u001b[0m\n\u001b[1;32m     10\u001b[0m   \u001b[0;32mdef\u001b[0m \u001b[0m__add__\u001b[0m\u001b[0;34m(\u001b[0m\u001b[0mself\u001b[0m\u001b[0;34m,\u001b[0m \u001b[0mother\u001b[0m\u001b[0;34m)\u001b[0m\u001b[0;34m:\u001b[0m\u001b[0;34m\u001b[0m\u001b[0;34m\u001b[0m\u001b[0m\n\u001b[1;32m     11\u001b[0m     \u001b[0;31m# implement the operation \"self + other\"\u001b[0m\u001b[0;34m\u001b[0m\u001b[0;34m\u001b[0m\u001b[0;34m\u001b[0m\u001b[0m\n\u001b[0;32m---> 12\u001b[0;31m     \u001b[0;32mreturn\u001b[0m \u001b[0mDualNumber\u001b[0m\u001b[0;34m(\u001b[0m\u001b[0mself\u001b[0m\u001b[0;34m.\u001b[0m\u001b[0mreal\u001b[0m \u001b[0;34m+\u001b[0m \u001b[0mother\u001b[0m\u001b[0;34m.\u001b[0m\u001b[0mreal\u001b[0m\u001b[0;34m,\u001b[0m \u001b[0mself\u001b[0m\u001b[0;34m.\u001b[0m\u001b[0mdual\u001b[0m \u001b[0;34m+\u001b[0m \u001b[0mother\u001b[0m\u001b[0;34m.\u001b[0m\u001b[0mdual\u001b[0m\u001b[0;34m)\u001b[0m\u001b[0;34m\u001b[0m\u001b[0;34m\u001b[0m\u001b[0m\n\u001b[0m",
            "\u001b[0;31mAttributeError\u001b[0m: 'int' object has no attribute 'dual'"
          ]
        }
      ]
    },
    {
      "cell_type": "markdown",
      "metadata": {
        "id": "FvUatRPG4WAY"
      },
      "source": [
        "Try now to compute $w = 1 + x$ (in this specific order). What is going on this time?"
      ]
    },
    {
      "cell_type": "code",
      "source": [
        "w = 1 + x"
      ],
      "metadata": {
        "colab": {
          "base_uri": "https://localhost:8080/",
          "height": 166
        },
        "id": "5myDm7x42kNp",
        "outputId": "1caba148-cee3-4757-df4b-26a7e7df7f89"
      },
      "execution_count": 16,
      "outputs": [
        {
          "output_type": "error",
          "ename": "TypeError",
          "evalue": "ignored",
          "traceback": [
            "\u001b[0;31m---------------------------------------------------------------------------\u001b[0m",
            "\u001b[0;31mTypeError\u001b[0m                                 Traceback (most recent call last)",
            "\u001b[0;32m<ipython-input-16-f7f5800fddba>\u001b[0m in \u001b[0;36m<module>\u001b[0;34m\u001b[0m\n\u001b[0;32m----> 1\u001b[0;31m \u001b[0mw\u001b[0m \u001b[0;34m=\u001b[0m \u001b[0;36m1\u001b[0m \u001b[0;34m+\u001b[0m \u001b[0mx\u001b[0m\u001b[0;34m\u001b[0m\u001b[0;34m\u001b[0m\u001b[0m\n\u001b[0m",
            "\u001b[0;31mTypeError\u001b[0m: unsupported operand type(s) for +: 'int' and 'DualNumber'"
          ]
        }
      ]
    },
    {
      "cell_type": "markdown",
      "metadata": {
        "id": "baVLjN8Y4dIA"
      },
      "source": [
        "To overcome the above inconvenient, introduce a check (inside the definition of `__add__`) on the type of `other`. Moroever, define the operator `__radd__`, besides `__add__`."
      ]
    },
    {
      "cell_type": "code",
      "metadata": {
        "id": "k1XrCZgx0B09"
      },
      "source": [
        "class DualNumber:\n",
        "  def __init__(self, real, dual):\n",
        "    # dual number: 'real' + 'dual' * eps\n",
        "    self.real = real\n",
        "    self.dual = dual\n",
        "\n",
        "  def __repr__(self):\n",
        "    return repr(self.real) + ' + ' + repr(self.dual) + ' epsilon'\n",
        "\n",
        "  def __add__(self, other):\n",
        "    # implement the operation \"self + other\"\n",
        "    if isinstance(other, DualNumber):\n",
        "      return DualNumber(self.real + other.real, self.dual + other.dual)\n",
        "    else:\n",
        "      return DualNumber(self.real + other, self.dual)\n",
        "\n",
        "  def __radd__(self, other):\n",
        "    # implement the operation \"other + self\"\n",
        "    return self.__add__(other)"
      ],
      "execution_count": 17,
      "outputs": []
    },
    {
      "cell_type": "markdown",
      "metadata": {
        "id": "cpeVP2-p4u5f"
      },
      "source": [
        "Try again to compute $w = x + 1$"
      ]
    },
    {
      "cell_type": "code",
      "source": [
        "x = DualNumber(1, 2)\n",
        "w = x + 1\n",
        "print(w)"
      ],
      "metadata": {
        "colab": {
          "base_uri": "https://localhost:8080/"
        },
        "id": "VWhTC7ox4N7m",
        "outputId": "40a069d1-a262-45f7-c3b8-b6bddbdbc0ac"
      },
      "execution_count": 18,
      "outputs": [
        {
          "output_type": "stream",
          "name": "stdout",
          "text": [
            "2 + 2 epsilon\n"
          ]
        }
      ]
    },
    {
      "cell_type": "markdown",
      "metadata": {
        "id": "3o7AUeYt4yXN"
      },
      "source": [
        "Try again to compute $w = 1 + x$"
      ]
    },
    {
      "cell_type": "code",
      "source": [
        "w = 1 + x\n",
        "print(w)"
      ],
      "metadata": {
        "colab": {
          "base_uri": "https://localhost:8080/"
        },
        "id": "v5eNLCOp4VPj",
        "outputId": "31fcbc77-9e49-4c21-d611-8662ddc26453"
      },
      "execution_count": 19,
      "outputs": [
        {
          "output_type": "stream",
          "name": "stdout",
          "text": [
            "2 + 2 epsilon\n"
          ]
        }
      ]
    },
    {
      "cell_type": "markdown",
      "metadata": {
        "id": "2gHd4VjU40O-"
      },
      "source": [
        "Now that we have learnt how to treat the operator \"+\", let us define the full class `DualNumber`, implementing also the operators \"-\", \"*\", \"/\", \"**\"."
      ]
    },
    {
      "cell_type": "code",
      "metadata": {
        "id": "Os4HeXLoassa"
      },
      "source": [
        "class DualNumber:\n",
        "  def __init__(self, real, dual):\n",
        "    # dual number: 'real' + 'dual' * eps\n",
        "    self.real = real\n",
        "    self.dual = dual\n",
        "\n",
        "  def __add__(self, other):\n",
        "    # implement the operation \"self + other\"\n",
        "    if isinstance(other, DualNumber):\n",
        "      return DualNumber(self.real + other.real,\n",
        "                        self.dual + other.dual)\n",
        "    else:\n",
        "      return DualNumber(self.real + other, self.dual)\n",
        "  \n",
        "  def __radd__(self, other):\n",
        "    # implement the operation \"other + self\"\n",
        "    return self.__add__(other)\n",
        "\n",
        "  def __sub__(self, other):\n",
        "    # implement the operation \"self - other\"\n",
        "    if isinstance(other, DualNumber):\n",
        "      return DualNumber(self.real - other.real,\n",
        "                        self.dual - other.dual)\n",
        "    else:\n",
        "      return DualNumber(self.real - other, self.dual)\n",
        "\n",
        "  def __rsub__(self, other):\n",
        "    # implement the operation \"other - self\"\n",
        "    return DualNumber(other, 0.0) - self\n",
        "\n",
        "  def __mul__(self, other):\n",
        "    # implement the operation \"self * other\"\n",
        "    if isinstance(other, DualNumber):\n",
        "      return DualNumber(self.real * other.real,\n",
        "                        self.real * other.dual + self.dual * other.real)\n",
        "    else:\n",
        "      return DualNumber(self.real * other, self.dual * other)\n",
        "\n",
        "  def __rmul__(self, other):\n",
        "    # implement the operation \"other * self\"\n",
        "    return self.__mul__(other)\n",
        "\n",
        "  def __truediv__(self, other):\n",
        "    # implement the operation \"self / other\"\n",
        "    if isinstance(other, DualNumber):\n",
        "      return DualNumber(self.real/other.real, (self.dual*other.real - self.real*other.dual)/(other.real**2))\n",
        "    else:\n",
        "      return (1/other) * self\n",
        "\n",
        "  def __rtruediv__(self, other):\n",
        "    # implement the operation \"other / self\"\n",
        "    return DualNumber(other, 0.0).__truediv__(self)\n",
        "\n",
        "  def __pow__(self, other):\n",
        "    # implement the operation \"self ** other\"\n",
        "    return DualNumber(self.real**other,\n",
        "                      self.dual * other * self.real**(other - 1))\n",
        "\n",
        "  def __repr__(self):\n",
        "    return repr(self.real) + ' + ' + repr(self.dual) + ' epsilon'\n"
      ],
      "execution_count": 22,
      "outputs": []
    },
    {
      "cell_type": "markdown",
      "metadata": {
        "id": "gywkm3dK5OVe"
      },
      "source": [
        "Define the dual numbers\n",
        "\n",
        "$$\n",
        "\\begin{split}\n",
        "x &= 1 + 2 \\epsilon \\\\\n",
        "y &= 1.5 + 3.1 \\epsilon \\\\\n",
        "\\end{split}\n",
        "$$\n",
        "\n",
        "Then, compute the result of the following operations:\n",
        "- $x + y$\n",
        "- $x - y$\n",
        "- $x y$\n",
        "- $x / y$\n",
        "- $x + 1$\n",
        "- $2 x$\n",
        "- $x ^ 3$"
      ]
    },
    {
      "cell_type": "code",
      "source": [
        "x = DualNumber(1.0, 2.0)\n",
        "y = DualNumber(1.5, 3.1)\n",
        "z = x + y\n",
        "print(\"x     = %s\" % x)\n",
        "print(\"y     = %s\" % y)\n",
        "print(\"x + y = %s\" % (x + y))\n",
        "print(\"x - y = %s\" % (x - y))\n",
        "print(\"x * y = %s\" % (x * y))\n",
        "print(\"x / y = %s\" % (x / y))\n",
        "print(\"x + 1 = %s\" % (x + 1))\n",
        "print(\"2 * x = %s\" % (2 * x))\n",
        "print(\"x ^ 3 = %s\" % (x ** 3))"
      ],
      "metadata": {
        "colab": {
          "base_uri": "https://localhost:8080/"
        },
        "id": "PjCtHoCV7-uh",
        "outputId": "4c4702d6-570d-4e6e-e17d-56c0749d9002"
      },
      "execution_count": 23,
      "outputs": [
        {
          "output_type": "stream",
          "name": "stdout",
          "text": [
            "x     = 1.0 + 2.0 epsilon\n",
            "y     = 1.5 + 3.1 epsilon\n",
            "x + y = 2.5 + 5.1 epsilon\n",
            "x - y = -0.5 + -1.1 epsilon\n",
            "x * y = 1.5 + 6.1 epsilon\n",
            "x / y = 0.6666666666666666 + -0.04444444444444448 epsilon\n",
            "x + 1 = 2.0 + 2.0 epsilon\n",
            "2 * x = 2.0 + 4.0 epsilon\n",
            "x ^ 3 = 1.0 + 6.0 epsilon\n"
          ]
        }
      ]
    },
    {
      "cell_type": "markdown",
      "metadata": {
        "id": "qI1dQB-A5bpr"
      },
      "source": [
        "Define now the functions `my_sin`, `my_cos` and `my_exp`, implementing the operations sinus, cosinus and exponential, respectively."
      ]
    },
    {
      "cell_type": "code",
      "metadata": {
        "id": "ZaUQHJjem390"
      },
      "source": [
        "import numpy as np\n",
        "def my_sin(x):\n",
        "  if isinstance(x, DualNumber):\n",
        "    return DualNumber(np.sin(x.real), np.cos(x.real) * x.dual)\n",
        "  else:\n",
        "    return np.sin(x)\n",
        "\n",
        "def my_cos(x):\n",
        "  if isinstance(x, DualNumber):\n",
        "    return DualNumber(np.cos(x.real), -np.sin(x.real) * x.dual)\n",
        "  else:\n",
        "    return np.cos(x)\n",
        "\n",
        "def my_exp(x):\n",
        "  if isinstance(x, DualNumber):\n",
        "    return DualNumber(np.exp(x.real), np.exp(x.real) * x.dual)\n",
        "  else:\n",
        "    return np.exp(x)"
      ],
      "execution_count": 26,
      "outputs": []
    },
    {
      "cell_type": "markdown",
      "metadata": {
        "id": "TStUre5B5vE6"
      },
      "source": [
        "Define the dual number\n",
        "\n",
        "$$\n",
        "\\begin{split}\n",
        "x &= 1 + 2.3 \\epsilon \\\\\n",
        "\\end{split}\n",
        "$$\n",
        "\n",
        "Then, compute the result of the following operations:\n",
        "- $\\sin(x)$\n",
        "- $\\exp(x)$"
      ]
    },
    {
      "cell_type": "code",
      "source": [
        "x = DualNumber(1, 2.3)\n",
        "print(my_sin(x))\n",
        "print(my_exp(x))"
      ],
      "metadata": {
        "colab": {
          "base_uri": "https://localhost:8080/"
        },
        "id": "iELMcPd0_4W0",
        "outputId": "9a70b1e7-5067-4651-84e0-b639162d59b7"
      },
      "execution_count": 29,
      "outputs": [
        {
          "output_type": "stream",
          "name": "stdout",
          "text": [
            "0.8414709848078965 + 1.2426953034967214 epsilon\n",
            "2.718281828459045 + 6.252048205455803 epsilon\n"
          ]
        }
      ]
    },
    {
      "cell_type": "markdown",
      "metadata": {
        "id": "j2YgP93T5zIp"
      },
      "source": [
        "Define now a function `auto_diff` that, given a function $f \\colon \\mathbb{R} \\to \\mathbb{R}$ and a real number $x$, returns $f'(x)$, exploiting the class `DualNumber`. The function must have the following signature:\n",
        "```python\n",
        "def auto_diff(f, x):\n",
        "  ...\n",
        "```\n"
      ]
    },
    {
      "cell_type": "code",
      "source": [
        "def auto_diff(f,x):\n",
        "  return f(DualNumber(x, 1.0)).dual  "
      ],
      "metadata": {
        "id": "WIjh4zdZAOmZ"
      },
      "execution_count": 30,
      "outputs": []
    },
    {
      "cell_type": "markdown",
      "metadata": {
        "id": "hHvUj1_C8gyT"
      },
      "source": [
        "Consider the function \n",
        "\n",
        "$$\n",
        "f(x) = x \\sin(x^2)\n",
        "$$\n",
        "\n",
        "and use the function implemented above to compute $f'(x_0)$ for $x_0 = 0.13$. Compare the result with the analytical solution and compute the relative error.\n",
        "\n"
      ]
    },
    {
      "cell_type": "code",
      "metadata": {
        "id": "yq0GEyzWJHj-",
        "colab": {
          "base_uri": "https://localhost:8080/"
        },
        "outputId": "02b6e8c8-b5cc-4d84-86d8-d566f3675c9f"
      },
      "source": [
        "func = lambda x : x*my_sin(x**2)\n",
        "x0 = 0.13\n",
        "df_AD = auto_diff(func, x0)\n",
        "print('f\\'(x0) (AD): %f' % df_AD)\n",
        "\n",
        "dfunc = lambda x : np.sin(x**2)+2 * x**2 * np.cos(x**2)\n",
        "df_ex = dfunc(x0)\n",
        "print('f\\'(x0) (ex): %f' % df_ex)\n",
        "print('err (AD): %e' % (abs(df_AD - df_ex)/abs(df_ex)))"
      ],
      "execution_count": 31,
      "outputs": [
        {
          "output_type": "stream",
          "name": "stdout",
          "text": [
            "f'(x0) (AD): 0.050694\n",
            "f'(x0) (ex): 0.050694\n",
            "err (AD): 1.368770e-16\n"
          ]
        }
      ]
    },
    {
      "cell_type": "markdown",
      "metadata": {
        "id": "cMUEXu4d-aae"
      },
      "source": [
        "Repeat the previous point, this time by computing the numerical derivative (i.e. through finite differences)."
      ]
    },
    {
      "cell_type": "code",
      "metadata": {
        "id": "S-V_TQBR9NNw",
        "colab": {
          "base_uri": "https://localhost:8080/"
        },
        "outputId": "8f76eb79-2170-4234-9f99-5bcf4b48aae1"
      },
      "source": [
        "import scipy.misc\n",
        "df_FD = scipy.misc.derivative(func, x0, dx=1e-6)\n",
        "print('f\\'(x0) (FD): %f' % df_FD)\n",
        "print('err (FD): %e' % (abs(df_FD - df_ex)/abs(df_ex)))"
      ],
      "execution_count": 36,
      "outputs": [
        {
          "output_type": "stream",
          "name": "stdout",
          "text": [
            "f'(x0) (FD): 0.050694\n",
            "err (FD): 2.195234e-11\n"
          ]
        }
      ]
    },
    {
      "cell_type": "markdown",
      "metadata": {
        "id": "Is_OfXGT-v6W"
      },
      "source": [
        "Repeat the previous point, this time by computing the symbolic derivative (module `sympy` = **sym**bolic **py**thon)"
      ]
    },
    {
      "cell_type": "code",
      "metadata": {
        "id": "eeqC5uGI9hg2",
        "colab": {
          "base_uri": "https://localhost:8080/"
        },
        "outputId": "94ab7b67-bd1a-406c-b22e-67e959d156c2"
      },
      "source": [
        "import sympy\n",
        "x = sympy.symbols('x')\n",
        "func_sym = x*sympy.sin(x**2)\n",
        "x0 = 0.13\n",
        "\n",
        "dfunc_sym = sympy.diff(func_sym, x)\n",
        "print(dfunc_sym)\n",
        "df_sy = dfunc_sym.subs(x, x0)\n",
        "\n",
        "print('f\\'(x0) (sy): %f' % df_sy)\n",
        "print('err (sy): %e' % (abs(df_sy - df_ex)/abs(df_ex)))"
      ],
      "execution_count": 37,
      "outputs": [
        {
          "output_type": "stream",
          "name": "stdout",
          "text": [
            "2*x**2*cos(x**2) + sin(x**2)\n",
            "f'(x0) (sy): 0.050694\n",
            "err (sy): 0.000000e+00\n"
          ]
        }
      ]
    },
    {
      "cell_type": "markdown",
      "metadata": {
        "id": "MCxUDCRY-9aM"
      },
      "source": [
        "Evaluate and compare the execution time of the different approaches.\n",
        "To compute the execution time of a line of code, prepend IPython [magic command](https://ipython.readthedocs.io/en/stable/interactive/magics.html) `%timeit` to the line.\n",
        "\n",
        "Example:\n",
        "```python\n",
        "%timeit np.random.rand(1000)\n",
        "```"
      ]
    },
    {
      "cell_type": "code",
      "source": [
        "%timeit sympy.diff(func_sym, x).subs(x, x0)"
      ],
      "metadata": {
        "colab": {
          "base_uri": "https://localhost:8080/"
        },
        "id": "PL7HaMXGECLR",
        "outputId": "61951328-c634-4cb3-8b92-f9d3dd0fb26a"
      },
      "execution_count": 38,
      "outputs": [
        {
          "output_type": "stream",
          "name": "stdout",
          "text": [
            "175 µs ± 873 ns per loop (mean ± std. dev. of 7 runs, 10000 loops each)\n"
          ]
        }
      ]
    },
    {
      "cell_type": "code",
      "source": [
        "%timeit scipy.misc.derivative(func, x0, dx=1e-6)"
      ],
      "metadata": {
        "colab": {
          "base_uri": "https://localhost:8080/"
        },
        "id": "ygapJ99hEbZy",
        "outputId": "3d176760-d4cd-4e25-a368-ed520f729a4b"
      },
      "execution_count": 39,
      "outputs": [
        {
          "output_type": "stream",
          "name": "stdout",
          "text": [
            "22.6 µs ± 2.21 µs per loop (mean ± std. dev. of 7 runs, 10000 loops each)\n"
          ]
        }
      ]
    },
    {
      "cell_type": "code",
      "source": [
        "%timeit auto_diff(func, x0)"
      ],
      "metadata": {
        "colab": {
          "base_uri": "https://localhost:8080/"
        },
        "id": "x6kt-v2BElyj",
        "outputId": "d2d0b1f9-b183-4937-9f67-4329fc174def"
      },
      "execution_count": 40,
      "outputs": [
        {
          "output_type": "stream",
          "name": "stdout",
          "text": [
            "4.91 µs ± 62.2 ns per loop (mean ± std. dev. of 7 runs, 100000 loops each)\n"
          ]
        }
      ]
    },
    {
      "cell_type": "code",
      "source": [
        "%timeit dfunc(x0)"
      ],
      "metadata": {
        "colab": {
          "base_uri": "https://localhost:8080/"
        },
        "id": "7yK3MqYmEvA-",
        "outputId": "2ceda5b2-25a6-4ba2-ec5d-39ec95e01b19"
      },
      "execution_count": 41,
      "outputs": [
        {
          "output_type": "stream",
          "name": "stdout",
          "text": [
            "2.36 µs ± 34.5 ns per loop (mean ± std. dev. of 7 runs, 100000 loops each)\n"
          ]
        }
      ]
    },
    {
      "cell_type": "markdown",
      "metadata": {
        "id": "AAi_aPmvFqIZ"
      },
      "source": [
        "Consider now the function \n",
        "$$\n",
        "f(x) = \\frac{1}{x^5}\n",
        "$$\n",
        "compute the derivative in the point $x_0 = 10^{-2}$ with AD and FD and compare the results with the exact solution."
      ]
    },
    {
      "cell_type": "code",
      "source": [
        "func = lambda x : 1 / x**5\n",
        "dfunc = lambda x : -5 / x**6\n",
        "x0 = 0.01\n",
        "\n",
        "df_ex = dfunc(x0)\n",
        "df_FD = scipy.misc.derivative(func, x0, dx=1e-6)\n",
        "df_AD = auto_diff(func, x0)\n",
        "print('f\\'(x0) (ex): %f' % df_ex)\n",
        "print('f\\'(x0) (FD): %f' % df_FD)\n",
        "print('f\\'(x0) (AD): %f' % df_AD)"
      ],
      "metadata": {
        "colab": {
          "base_uri": "https://localhost:8080/"
        },
        "id": "cHmTGA5RAwmM",
        "outputId": "6f69424f-8b2f-49f4-f8a8-89ac87339db4"
      },
      "execution_count": 42,
      "outputs": [
        {
          "output_type": "stream",
          "name": "stdout",
          "text": [
            "f'(x0) (ex): -4999999999999.999023\n",
            "f'(x0) (FD): -5000000349996.567383\n",
            "f'(x0) (AD): -4999999999999.998047\n"
          ]
        }
      ]
    }
  ]
}