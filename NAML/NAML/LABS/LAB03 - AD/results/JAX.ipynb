{
  "nbformat": 4,
  "nbformat_minor": 0,
  "metadata": {
    "colab": {
      "provenance": [],
      "collapsed_sections": []
    },
    "kernelspec": {
      "name": "python3",
      "display_name": "Python 3"
    }
  },
  "cells": [
    {
      "cell_type": "markdown",
      "metadata": {
        "id": "e7q1DhWpV-Dw"
      },
      "source": [
        "# Auto-diff with JAX\n",
        "\n",
        "https://github.com/google/jax"
      ]
    },
    {
      "cell_type": "markdown",
      "metadata": {
        "id": "Snjf4u7vf0sa"
      },
      "source": [
        "JAX is a Google research project, developed by the former developers of [Autograd](https://github.com/hips/autograd), bringing together the potentialities of Autograd and the linear algebra accelerator [XLA](https://www.tensorflow.org/xla). It is based on three pillars:\n",
        "- `grad`: Automatic Differentiation\n",
        "- `jit`: Just-in-time compilation\n",
        "- `vmap`: Automatic vectorization.\n",
        "\n",
        "## Automatic differentiation in JAX\n",
        "\n",
        "JAX augments numpy and Python code with function transformations which make it trivial to perform operations common in machine learning programs. JAX's augmented numpy lives at `jax.numpy`. With a few exceptions, you can think of `jax.numpy` as directly interchangeable with `numpy`. As a general rule, you should use `jax.numpy` whenever you plan to use any of JAX's transformations.\n",
        "\n",
        "The function `df = jax.grad(f, argnums = 0)` takes the callable object `f` and returns another callable object, `df`, evaluating the gradient of `f` w.r.t. the argument(s) of index(es) `argnums`. For more information, check out the [documentation](https://jax.readthedocs.io/en/latest/jax.html?highlight=grad#jax.grad)."
      ]
    },
    {
      "cell_type": "markdown",
      "metadata": {
        "id": "yBVAFA6LiZhv"
      },
      "source": [
        "**Example**\n",
        "\n",
        "We consider the function:\n",
        "$$\n",
        "f(x) = x \\sin(x^2)\n",
        "$$\n",
        "\n",
        "and we compute $f'(x_0)$ for $x_0 = 0.13$"
      ]
    },
    {
      "cell_type": "code",
      "source": [
        "import jax.numpy as jnp\n",
        "jnp.sin(0)"
      ],
      "metadata": {
        "colab": {
          "base_uri": "https://localhost:8080/"
        },
        "id": "v-DLEOndHKlF",
        "outputId": "2361aead-1b65-4ac5-c718-2eeafa7041f3"
      },
      "execution_count": 1,
      "outputs": [
        {
          "output_type": "stream",
          "name": "stderr",
          "text": [
            "WARNING:absl:No GPU/TPU found, falling back to CPU. (Set TF_CPP_MIN_LOG_LEVEL=0 and rerun for more info.)\n"
          ]
        },
        {
          "output_type": "execute_result",
          "data": {
            "text/plain": [
              "DeviceArray(0., dtype=float32, weak_type=True)"
            ]
          },
          "metadata": {},
          "execution_count": 1
        }
      ]
    },
    {
      "cell_type": "code",
      "metadata": {
        "id": "pJsIHEuC0BwB",
        "colab": {
          "base_uri": "https://localhost:8080/"
        },
        "outputId": "fb2f3cdd-9f3f-4566-de67-49142f26c7e0"
      },
      "source": [
        "import numpy as np\n",
        "import jax.numpy as jnp\n",
        "import jax\n",
        "\n",
        "func = lambda x: x * jnp.sin(x**2)\n",
        "x0 = 0.13\n",
        "dfunc_AD = jax.grad(func)\n",
        "df_AD = dfunc_AD(x0)\n",
        "\n",
        "# analytical derivative\n",
        "dfunc = lambda x : np.sin(x**2)+2 * x**2 * np.cos(x**2)\n",
        "df_ex = dfunc(x0)\n",
        "\n",
        "print('df (ex): %f' % df_ex)\n",
        "print('df (AD): %f' % df_AD)\n",
        "\n",
        "print('err (AD): %e' % (abs(df_AD - df_ex)/abs(df_ex)))"
      ],
      "execution_count": 2,
      "outputs": [
        {
          "output_type": "stream",
          "name": "stdout",
          "text": [
            "df (ex): 0.050694\n",
            "df (AD): 0.050694\n",
            "err (AD): 7.348529e-08\n"
          ]
        }
      ]
    },
    {
      "cell_type": "markdown",
      "source": [
        "Evaluate the execution times of the functions `func` and `dfunc_AD`."
      ],
      "metadata": {
        "id": "Jt667yP0fy73"
      }
    },
    {
      "cell_type": "code",
      "source": [
        "%timeit func(x0)"
      ],
      "metadata": {
        "colab": {
          "base_uri": "https://localhost:8080/"
        },
        "id": "JvavEgZtIOCa",
        "outputId": "b39cb189-a8b1-4ba8-8a73-f75628f2af63"
      },
      "execution_count": 3,
      "outputs": [
        {
          "output_type": "stream",
          "name": "stdout",
          "text": [
            "9.61 µs ± 969 ns per loop (mean ± std. dev. of 7 runs, 100000 loops each)\n"
          ]
        }
      ]
    },
    {
      "cell_type": "code",
      "source": [
        "%timeit dfunc_AD(x0)"
      ],
      "metadata": {
        "colab": {
          "base_uri": "https://localhost:8080/"
        },
        "id": "czo-1oeqITeV",
        "outputId": "e1658266-15d9-4b8a-855a-112c2467cfdc"
      },
      "execution_count": 4,
      "outputs": [
        {
          "output_type": "stream",
          "name": "stdout",
          "text": [
            "4.33 ms ± 360 µs per loop (mean ± std. dev. of 7 runs, 100 loops each)\n"
          ]
        }
      ]
    },
    {
      "cell_type": "markdown",
      "metadata": {
        "id": "v9ziWf_lcjLn"
      },
      "source": [
        "### Speed it up with JIT!\n",
        "\n",
        "Compile the functions `func` and `dfunc_AD` using the [just-in-time compilation](https://en.wikipedia.org/wiki/Just-in-time_compilation) utility `jax.jit`. \n",
        "\n",
        "With `f_jit = jax.jit(f)` a callable `f` is compiled into `f_jit`.\n",
        "\n",
        "Then, check that the compiled functions return the same results as the original ones. Finally, evaluate the execution times and compare it with the previous results."
      ]
    },
    {
      "cell_type": "code",
      "source": [
        "func_jit = jax.jit(func)\n",
        "dfunc_AD_jit = jax.jit(dfunc_AD)"
      ],
      "metadata": {
        "id": "KygZa2-uIjzG"
      },
      "execution_count": 5,
      "outputs": []
    },
    {
      "cell_type": "code",
      "source": [
        "func_jit(x0) - func(x0)"
      ],
      "metadata": {
        "colab": {
          "base_uri": "https://localhost:8080/"
        },
        "id": "kD5wfH9KIyFG",
        "outputId": "cb2d364c-9981-4616-9958-44d477c22d18"
      },
      "execution_count": 7,
      "outputs": [
        {
          "output_type": "execute_result",
          "data": {
            "text/plain": [
              "DeviceArray(0., dtype=float32, weak_type=True)"
            ]
          },
          "metadata": {},
          "execution_count": 7
        }
      ]
    },
    {
      "cell_type": "code",
      "source": [
        "dfunc_AD_jit(x0) - dfunc_AD(x0)"
      ],
      "metadata": {
        "colab": {
          "base_uri": "https://localhost:8080/"
        },
        "id": "rLCj-6ihI4Q6",
        "outputId": "e0f61379-5a1c-4ba8-98cd-24ee8dfc5d96"
      },
      "execution_count": 8,
      "outputs": [
        {
          "output_type": "execute_result",
          "data": {
            "text/plain": [
              "DeviceArray(0., dtype=float32, weak_type=True)"
            ]
          },
          "metadata": {},
          "execution_count": 8
        }
      ]
    },
    {
      "cell_type": "code",
      "source": [
        "%timeit func_jit(x0)"
      ],
      "metadata": {
        "colab": {
          "base_uri": "https://localhost:8080/"
        },
        "id": "IZo4fWaKI8tB",
        "outputId": "8164539b-c1f3-4969-c1f7-38232e2829d9"
      },
      "execution_count": 9,
      "outputs": [
        {
          "output_type": "stream",
          "name": "stdout",
          "text": [
            "3.41 µs ± 144 ns per loop (mean ± std. dev. of 7 runs, 100000 loops each)\n"
          ]
        }
      ]
    },
    {
      "cell_type": "code",
      "source": [
        "%timeit dfunc_AD_jit(x0)"
      ],
      "metadata": {
        "colab": {
          "base_uri": "https://localhost:8080/"
        },
        "id": "sK7RNPiGI_ck",
        "outputId": "a6e7c7c0-7039-4819-8ff0-1de47e24476e"
      },
      "execution_count": 10,
      "outputs": [
        {
          "output_type": "stream",
          "name": "stdout",
          "text": [
            "3.36 µs ± 116 ns per loop (mean ± std. dev. of 7 runs, 100000 loops each)\n"
          ]
        }
      ]
    }
  ]
}