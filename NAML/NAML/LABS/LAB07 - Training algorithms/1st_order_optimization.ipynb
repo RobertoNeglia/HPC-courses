{
  "nbformat": 4,
  "nbformat_minor": 0,
  "metadata": {
    "colab": {
      "provenance": []
    },
    "kernelspec": {
      "name": "python3",
      "display_name": "Python 3"
    }
  },
  "cells": [
    {
      "cell_type": "markdown",
      "metadata": {
        "id": "e7q1DhWpV-Dw"
      },
      "source": [
        "# 1st order training (optimization) methods"
      ]
    },
    {
      "cell_type": "code",
      "metadata": {
        "id": "Si_DpGyVWZ5I"
      },
      "source": [
        "import numpy as np\n",
        "import matplotlib.pyplot as plt\n",
        "import time\n",
        "import jax.numpy as jnp\n",
        "import jax"
      ],
      "execution_count": null,
      "outputs": []
    },
    {
      "cell_type": "markdown",
      "metadata": {
        "id": "jwSbBfWhP-Bu"
      },
      "source": [
        "Let us consider the following function\n",
        "\n",
        "$$\n",
        "f(x) = e^{-\\frac{x}{10}}\\sin(x) + \\frac{1}{10} \\cos(\\pi x)\n",
        "$$\n",
        "\n",
        "defined over the interval $[0, 10]$."
      ]
    },
    {
      "cell_type": "code",
      "metadata": {
        "id": "7ICcIcLxyVr7"
      },
      "source": [
        "f = lambda x: np.sin(x) * np.exp(-0.1*x) + 0.1* np.cos(np.pi * x)\n",
        "a, b = 0, 10"
      ],
      "execution_count": null,
      "outputs": []
    },
    {
      "cell_type": "markdown",
      "metadata": {
        "id": "EfJ9uIDoyYNo"
      },
      "source": [
        "Define a function `get_training_data` that returns a collection of `N` training samples (using an equispaced sampling of the interval $[0,10]$), adding a noise sampled from a normal distribution with zero mean and standard deviation `noise`. The output should be a pair of `numpy` matrices `x, y`, of dimension `n` times 1."
      ]
    },
    {
      "cell_type": "code",
      "metadata": {
        "id": "HMn5CmgkzCN6"
      },
      "source": [
        "def get_training_data(N, noise):\n",
        "  np.random.seed(0) # for reproducibility\n",
        "  x = np.linspace(a, b, N)[:,None]\n",
        "  y = f(x) + noise * np.random.randn(N,1)\n",
        "  return x, y"
      ],
      "execution_count": null,
      "outputs": []
    },
    {
      "cell_type": "markdown",
      "metadata": {
        "id": "5ZSKLNsVzCqg"
      },
      "source": [
        "Plot now the function $f(x)$ in the considered interval, together with 100 training samples with noise magnitude equal to 0.05."
      ]
    },
    {
      "cell_type": "code",
      "metadata": {
        "id": "eImwvJilVoQp"
      },
      "source": [
        "x_fine, y_fine = get_training_data(1000, 0)\n",
        "plt.plot(x_fine, y_fine)\n",
        "\n",
        "xx, yy = get_training_data(100, 0.05)\n",
        "plt.plot(xx, yy, 'o')"
      ],
      "execution_count": null,
      "outputs": []
    },
    {
      "cell_type": "markdown",
      "metadata": {
        "id": "Pycg5Qe0zPby"
      },
      "source": [
        "Write a function `initialize_params` that, given the input `layers_size = [n1, n2, ..., nL]`, generates the parameters associated with an ANN, having as many layers as the number of elements of `layers_size`, with as many neurons as `n1`, `n2`, etc.\n",
        "\n",
        "Inizialize weights sampling from a standard Gaussian distribution and biases with zero values."
      ]
    },
    {
      "cell_type": "code",
      "metadata": {
        "id": "yw4yIqagbwiV"
      },
      "source": [
        "def initialize_params(layers_size):\n",
        "  np.random.seed(0) # for reproducibility\n",
        "  params = list()\n",
        "  for i in range(len(layers_size) - 1):\n",
        "    W = np.random.randn(layers_size[i+1], layers_size[i])\n",
        "    b = np.zeros((layers_size[i+1], 1))\n",
        "    params.append(W)\n",
        "    params.append(b)\n",
        "  return params"
      ],
      "execution_count": null,
      "outputs": []
    },
    {
      "cell_type": "markdown",
      "metadata": {
        "id": "wTUWVV-G0Wc3"
      },
      "source": [
        "Write a function `ANN` that implements an ANN, given the parameters `params`. Use $\\tanh$ as activation function and do not apply the activation function to the last layer.\n",
        "\n",
        "By convention, both the input and the output have:\n",
        "- 1 sample per row\n",
        "- 1 feature per column\n",
        "\n",
        "**Hint:** to help the training problem, normalize the input in $[-1,1]$."
      ]
    },
    {
      "cell_type": "code",
      "metadata": {
        "id": "Oap_WrrN0O4e"
      },
      "source": [
        "def ANN(x, params):\n",
        "  layer = (2*x.T - (a+b)) / (b - a)\n",
        "  num_layers = int(len(params) / 2 + 1)\n",
        "  weights = params[0::2]\n",
        "  biases = params[1::2]\n",
        "  for i in range(num_layers - 1):\n",
        "    layer = jnp.dot(weights[i], layer) - biases[i]\n",
        "    if i < num_layers - 2:\n",
        "      layer = jnp.tanh(layer)\n",
        "  return layer.T"
      ],
      "execution_count": null,
      "outputs": []
    },
    {
      "cell_type": "markdown",
      "metadata": {
        "id": "N49WdZR10sGu"
      },
      "source": [
        "Implement a function `loss`, that, given the input `x`, the target output `y` (i.e. the \"labels\") and the parameters `params`, returns the quadratic loss, defined as:\n",
        "\n",
        "$$\n",
        "\\mathcal{L}(\\mathbf{x}, \\mathbf{y}, \\boldsymbol{\\theta}) = \\frac{1}{m} \\sum_{i=1}^m (y_i - \\mathrm{ANN}(x_i, \\boldsymbol{\\theta}))^2\n",
        "$$\n",
        "\n",
        "where $m$ is the number of samples in `x`, `y` and $\\boldsymbol{\\theta}$ are the ANN parameters."
      ]
    },
    {
      "cell_type": "code",
      "metadata": {
        "id": "oXKxbBBa0PQ7"
      },
      "source": [
        "def loss(x, y, params):\n",
        "  error =  ANN(x, params) - y\n",
        "  return jnp.mean(error * error)"
      ],
      "execution_count": null,
      "outputs": []
    },
    {
      "cell_type": "markdown",
      "metadata": {
        "id": "gAfzem6L1N3p"
      },
      "source": [
        "Test your code, by generating the parameters associated with an ANN with two hidden layers with 5 neurons each and by computing the associated loss."
      ]
    },
    {
      "cell_type": "code",
      "metadata": {
        "id": "_GwEECnIWQSP"
      },
      "source": [
        "params = initialize_params([1, 5, 5, 1])\n",
        "loss(xx, yy, params)"
      ],
      "execution_count": null,
      "outputs": []
    },
    {
      "cell_type": "markdown",
      "metadata": {
        "id": "2ZB2beeY1aJx"
      },
      "source": [
        "The following cell provides an helper class that allows pnline plots during the training loop. Just run the cell, we will use it later."
      ]
    },
    {
      "cell_type": "code",
      "metadata": {
        "id": "cGNzV6j8E02t"
      },
      "source": [
        "from IPython import display\n",
        "\n",
        "class Callback:\n",
        "  def __init__(self, refresh_rate = 250):\n",
        "    self.refresh_rate = refresh_rate\n",
        "    self.fig, self.axs = plt.subplots(1,2, figsize=(16,8))\n",
        "    self.x_fine = np.linspace(a, b, 200)[:,None]\n",
        "    self.epoch = 0\n",
        "    self.__call__(-1)\n",
        "\n",
        "  def __call__(self, epoch):\n",
        "    self.epoch = epoch\n",
        "    if (epoch + 1) % self.refresh_rate == 0:\n",
        "      self.draw()\n",
        "      display.clear_output(wait=True)\n",
        "      display.display(plt.gcf())\n",
        "      time.sleep(1e-16)\n",
        "\n",
        "  def draw(self):\n",
        "    if self.epoch > 0:\n",
        "      self.axs[0].clear()\n",
        "      self.axs[0].loglog(history)\n",
        "      self.axs[0].set_title('epoch %d' % (self.epoch + 1))\n",
        "\n",
        "    self.axs[1].clear()\n",
        "    self.axs[1].plot(self.x_fine, f(self.x_fine))\n",
        "    self.axs[1].plot(self.x_fine, ANN(self.x_fine, params))\n",
        "    self.axs[1].plot(xx, yy, 'o')"
      ],
      "execution_count": null,
      "outputs": []
    },
    {
      "cell_type": "markdown",
      "metadata": {
        "id": "rcEZto-x17A3"
      },
      "source": [
        "## Gradient Descent\n",
        "\n",
        "Implement the GD method:\n",
        "$$\n",
        "\\begin{split}\n",
        "& \\boldsymbol{\\theta}^{(0)} \\text{given} \\\\\n",
        "& \\text{for } k = 0, 1, \\dots , n_{\\text{epochs}}\\\\\n",
        "& \\qquad \\mathbf{g}^{(k)} = \\frac{1}{N} \\sum_{i=1}^N \\nabla_{\\boldsymbol{\\theta}} \\mathcal{L}(x_i, y_i, \\boldsymbol{\\theta}^{(k)}) \\\\\n",
        "& \\qquad \\boldsymbol{\\theta}^{(k+1)} = \\boldsymbol{\\theta}^{(k)} - \\lambda \\mathbf{g}^{(k)}\n",
        "\\end{split}\n",
        "$$\n",
        "where N is the number of training samples. At each iteration, append the current cost to the list `history`.\n",
        "\n",
        "Hints: \n",
        "- Use `jax.jit` to speedup the evaluation of the loss and of the gradients.\n",
        "- To us the visualization callback, just initialize it outside the training loop with:\n",
        "```python\n",
        "cb = Callback(refresh_rate = 250)\n",
        "```\n",
        "and after each training epoch call `cb(epoch)`, where `epoch` is the epoch index. Finally, call `cb.draw()` when training is over.\n",
        "\n",
        "Test you code with:\n",
        "- 100 training points\n",
        "- noise magnitude 0.05\n",
        "- two hidden layers of 5 neurons each\n",
        "- 2000 epochs\n",
        "\n",
        "Experiment different choices of learning rate $\\lambda$, trying to maximize the performance of the algorithm.\n",
        "\n",
        "Does it look like your ANN is struggling to learn? Try to figure out why and figure out how to fix this issue."
      ]
    },
    {
      "cell_type": "code",
      "source": [
        "# Data\n",
        "n_training_points = ...\n",
        "noise = ...\n",
        "# Hyperparameters\n",
        "layers_size = ...\n",
        "# Training options\n",
        "num_epochs = ...\n",
        "learning_rate = ...\n",
        "########################################\n",
        "\n",
        "xx, yy = get_training_data(n_training_points, noise)\n",
        "params = initialize_params(layers_size)\n",
        "\n",
        "grad = jax.jit(jax.grad(loss, argnums = 2))\n",
        "loss_jit = jax.jit(loss)\n",
        "grad_jit = jax.jit(grad)\n",
        "\n",
        "history = list()\n",
        "history.append(loss_jit(xx, yy, params))\n",
        "\n",
        "cb = Callback(refresh_rate = 200)\n",
        "\n",
        "for epoch in range(num_epochs):\n",
        "  grads = grad_jit(xx, yy, params)\n",
        "  for i in range(len(params)):\n",
        "    params[i] -= learning_rate * grads[i]\n",
        "  history.append(loss_jit(xx, yy, params))\n",
        "  cb(epoch)\n",
        "cb.draw()\n",
        "\n",
        "print('loss: %1.3e' % history[-1])"
      ],
      "metadata": {
        "id": "uL_JU0uMBLYA"
      },
      "execution_count": null,
      "outputs": []
    },
    {
      "cell_type": "markdown",
      "metadata": {
        "id": "dZybCJC3GhwW"
      },
      "source": [
        "## Stochastic Gradient Descent\n",
        "\n",
        "Implement the SGD method:\n",
        "$$\n",
        "\\begin{split}\n",
        "& \\boldsymbol{\\theta}^{(0)} \\text{given} \\\\\n",
        "& \\text{for } k = 0, 1, \\dots , n_{\\text{epochs}}\\\\\n",
        "& \\qquad \\mathbf{g}^{(k)} = \\frac{1}{|I_k|} \\sum_{i \\in I_k} \\nabla_{\\boldsymbol{\\theta}} \\mathcal{L}(x_i, y_i, \\boldsymbol{\\theta}^{(k)}) \\\\\n",
        "& \\qquad \\boldsymbol{\\theta}^{(k+1)} = \\boldsymbol{\\theta}^{(k)} - \\lambda_k \\mathbf{g}^{(k)}\n",
        "\\end{split}\n",
        "$$\n",
        "where $I_k$ is the current minibatch. To select it, use the function [np.random.choice](https://docs.scipy.org/doc//numpy-1.10.4/reference/generated/numpy.random.choice.html) with replacement.\n",
        "\n",
        "Consider a linear decay of the learning rate:\n",
        "$$\n",
        "\\lambda_k = \\max\\left(\\lambda_\\min, \\lambda_\\max \\left(1 - \\frac{k}{K}\\right)\\right)\n",
        "$$\n",
        "\n",
        "Test different choices of batch size and try to optimize the learning rate decay strategy."
      ]
    },
    {
      "cell_type": "markdown",
      "metadata": {
        "id": "kvXOEd7PIxcF"
      },
      "source": [
        "## Stochastic Gradient Descent with momentum\n",
        "\n",
        "Implement the SGD method with momentum:\n",
        "$$\n",
        "\\begin{split}\n",
        "& \\boldsymbol{\\theta}^{(0)} \\text{given}, \\mathbf{v}^{(0)}=\\mathbf{0}  \\\\\n",
        "& \\text{for } k = 0, 1, \\dots , n_{\\text{epochs}}\\\\\n",
        "& \\qquad \\mathbf{g}^{(k)} = \\frac{1}{|I_k|} \\sum_{i \\in I_k} \\nabla_{\\boldsymbol{\\theta}} \\mathcal{L}(x_i, y_i, \\boldsymbol{\\theta}^{(k)}) \\\\\n",
        "& \\qquad \\mathbf{v}^{(k+1)} = \\alpha \\mathbf{v}^{(k+1)} -  \\lambda_k \\mathbf{g}^{(k)}\\\\\n",
        "& \\qquad \\boldsymbol{\\theta}^{(k+1)} = \\boldsymbol{\\theta}^{(k)} + \\mathbf{v}^{(k+1)}\n",
        "\\end{split}\n",
        "$$\n",
        "\n",
        "Test different choices of $\\alpha$."
      ]
    },
    {
      "cell_type": "markdown",
      "metadata": {
        "id": "SW4LkahCWhOu"
      },
      "source": [
        "## AdaGrad\n",
        "\n",
        "Implement the AdaGrad algorithm:\n",
        "$$\n",
        "\\begin{split}\n",
        "& \\boldsymbol{\\theta}^{(0)} \\text{given}, \\mathbf{r}^{(0)}=\\mathbf{0}  \\\\\n",
        "& \\text{for } k = 0, 1, \\dots , n_{\\text{epochs}} - 1\\\\\n",
        "& \\qquad \\mathbf{g}^{(k)} = \\frac{1}{|I_k|} \\sum_{i \\in I_k} \\nabla_{\\boldsymbol{\\theta}} \\mathcal{L}(x_i, y_i, \\boldsymbol{\\theta}^{(k)}) \\\\\n",
        "& \\qquad \\mathbf{r}^{(k+1)} = \\mathbf{r}^{(k)} + \\mathbf{g}^{(k)} \\odot \\mathbf{g}^{(k)}\\\\\n",
        "& \\qquad \\boldsymbol{\\theta}^{(k+1)} = \\boldsymbol{\\theta}^{(k)} - \n",
        "\\frac{\\lambda}{\\delta + \\sqrt{\\mathbf{r}^{(k+1)}}} \\odot \\mathbf{g}^{(k)}\n",
        "\\end{split}\n",
        "$$\n",
        "where $\\delta = 10^{-7}$ is a small constant.\n",
        "Notice that the operations in the last line should be intepreted \"componentwise\".\n",
        "test different choices of the learning rate $\\lambda$."
      ]
    },
    {
      "cell_type": "markdown",
      "metadata": {
        "id": "1efnuiHIWkG2"
      },
      "source": [
        "## RMSProp\n",
        "\n",
        "Implement the RMSProp algorithm:\n",
        "$$\n",
        "\\begin{split}\n",
        "& \\boldsymbol{\\theta}^{(0)} \\text{given}, \\mathbf{r}^{(0)}=\\mathbf{0}  \\\\\n",
        "& \\text{for } k = 0, 1, \\dots , n_{\\text{epochs}} - 1\\\\\n",
        "& \\qquad \\mathbf{g}^{(k)} = \\frac{1}{|I_k|} \\sum_{i \\in I_k} \\nabla_{\\boldsymbol{\\theta}} \\mathcal{L}(x_i, y_i, \\boldsymbol{\\theta}^{(k)}) \\\\\n",
        "& \\qquad \\mathbf{r}^{(k+1)} = \\rho \\mathbf{r}^{(k)} + (1 - \\rho)\\mathbf{g}^{(k)} \\odot \\mathbf{g}^{(k)}\\\\\n",
        "& \\qquad \\boldsymbol{\\theta}^{(k+1)} = \\boldsymbol{\\theta}^{(k)} - \n",
        "\\frac{\\lambda}{\\delta + \\sqrt{\\mathbf{r}^{(k+1)}}} \\odot \\mathbf{g}^{(k)}\n",
        "\\end{split}\n",
        "$$\n",
        "where $\\delta = 10^{-7}$ is a small constant.\n",
        "test different choices of the learning rate $\\lambda$ and decay rate $\\rho$."
      ]
    }
  ]
}