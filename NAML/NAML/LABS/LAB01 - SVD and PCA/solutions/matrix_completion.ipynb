{
  "nbformat": 4,
  "nbformat_minor": 0,
  "metadata": {
    "colab": {
      "provenance": [],
      "collapsed_sections": []
    },
    "kernelspec": {
      "name": "python3",
      "display_name": "Python 3"
    },
    "language_info": {
      "name": "python"
    }
  },
  "cells": [
    {
      "cell_type": "markdown",
      "metadata": {
        "id": "38-hDL_qyNgD"
      },
      "source": [
        "# Matrix completion and recommender systems"
      ]
    },
    {
      "cell_type": "markdown",
      "metadata": {
        "id": "vAQg0dnYQv7w"
      },
      "source": [
        "[MovieLens](movielens.umn.edu) data sets were collected by the [GroupLens Research Project](http://www.grouplens.org/) at the University of Minnesota.\n",
        " \n",
        "This data set consists of:\n",
        "- 100000 ratings (1-5) from 943 users on 1682 movies. \n",
        "- Each user has rated at least 20 movies.\n",
        "\n",
        "The `movielens.csv` file contains the full dataset. Users and items are numbered consecutively from 1. The data is randomly              ordered. This is a tab separated list of \n",
        "\n",
        "```\n",
        "user id | item id | rating | timestamp\n",
        "```"
      ]
    },
    {
      "cell_type": "code",
      "metadata": {
        "id": "CErbjjHvR85c"
      },
      "source": [
        "import pandas as pd\n",
        "import numpy as np\n",
        "import matplotlib.pyplot as plt\n",
        "from scipy.sparse import csr_matrix\n",
        "from scipy.stats import pearsonr"
      ],
      "execution_count": 1,
      "outputs": []
    },
    {
      "cell_type": "markdown",
      "metadata": {
        "id": "9hSllBeQSGNd"
      },
      "source": [
        "Read the dataset from the `movielens.csv` file."
      ]
    },
    {
      "cell_type": "code",
      "metadata": {
        "id": "BGUGfjrcSNFE",
        "colab": {
          "base_uri": "https://localhost:8080/",
          "height": 300
        },
        "outputId": "256cf725-7d18-4b40-d94e-5f74cea33131"
      },
      "source": [
        "dataset = pd.read_csv('movielens.csv', sep = '\\t', header = None)\n",
        "dataset.describe()"
      ],
      "execution_count": 4,
      "outputs": [
        {
          "output_type": "execute_result",
          "data": {
            "text/plain": [
              "                  0              1              2             3\n",
              "count  100000.00000  100000.000000  100000.000000  1.000000e+05\n",
              "mean      462.48475     425.530130       3.529860  8.835289e+08\n",
              "std       266.61442     330.798356       1.125674  5.343856e+06\n",
              "min         1.00000       1.000000       1.000000  8.747247e+08\n",
              "25%       254.00000     175.000000       3.000000  8.794487e+08\n",
              "50%       447.00000     322.000000       4.000000  8.828269e+08\n",
              "75%       682.00000     631.000000       4.000000  8.882600e+08\n",
              "max       943.00000    1682.000000       5.000000  8.932866e+08"
            ],
            "text/html": [
              "\n",
              "  <div id=\"df-0cbf9a72-179a-4e73-8b88-d11c177e2a9a\">\n",
              "    <div class=\"colab-df-container\">\n",
              "      <div>\n",
              "<style scoped>\n",
              "    .dataframe tbody tr th:only-of-type {\n",
              "        vertical-align: middle;\n",
              "    }\n",
              "\n",
              "    .dataframe tbody tr th {\n",
              "        vertical-align: top;\n",
              "    }\n",
              "\n",
              "    .dataframe thead th {\n",
              "        text-align: right;\n",
              "    }\n",
              "</style>\n",
              "<table border=\"1\" class=\"dataframe\">\n",
              "  <thead>\n",
              "    <tr style=\"text-align: right;\">\n",
              "      <th></th>\n",
              "      <th>0</th>\n",
              "      <th>1</th>\n",
              "      <th>2</th>\n",
              "      <th>3</th>\n",
              "    </tr>\n",
              "  </thead>\n",
              "  <tbody>\n",
              "    <tr>\n",
              "      <th>count</th>\n",
              "      <td>100000.00000</td>\n",
              "      <td>100000.000000</td>\n",
              "      <td>100000.000000</td>\n",
              "      <td>1.000000e+05</td>\n",
              "    </tr>\n",
              "    <tr>\n",
              "      <th>mean</th>\n",
              "      <td>462.48475</td>\n",
              "      <td>425.530130</td>\n",
              "      <td>3.529860</td>\n",
              "      <td>8.835289e+08</td>\n",
              "    </tr>\n",
              "    <tr>\n",
              "      <th>std</th>\n",
              "      <td>266.61442</td>\n",
              "      <td>330.798356</td>\n",
              "      <td>1.125674</td>\n",
              "      <td>5.343856e+06</td>\n",
              "    </tr>\n",
              "    <tr>\n",
              "      <th>min</th>\n",
              "      <td>1.00000</td>\n",
              "      <td>1.000000</td>\n",
              "      <td>1.000000</td>\n",
              "      <td>8.747247e+08</td>\n",
              "    </tr>\n",
              "    <tr>\n",
              "      <th>25%</th>\n",
              "      <td>254.00000</td>\n",
              "      <td>175.000000</td>\n",
              "      <td>3.000000</td>\n",
              "      <td>8.794487e+08</td>\n",
              "    </tr>\n",
              "    <tr>\n",
              "      <th>50%</th>\n",
              "      <td>447.00000</td>\n",
              "      <td>322.000000</td>\n",
              "      <td>4.000000</td>\n",
              "      <td>8.828269e+08</td>\n",
              "    </tr>\n",
              "    <tr>\n",
              "      <th>75%</th>\n",
              "      <td>682.00000</td>\n",
              "      <td>631.000000</td>\n",
              "      <td>4.000000</td>\n",
              "      <td>8.882600e+08</td>\n",
              "    </tr>\n",
              "    <tr>\n",
              "      <th>max</th>\n",
              "      <td>943.00000</td>\n",
              "      <td>1682.000000</td>\n",
              "      <td>5.000000</td>\n",
              "      <td>8.932866e+08</td>\n",
              "    </tr>\n",
              "  </tbody>\n",
              "</table>\n",
              "</div>\n",
              "      <button class=\"colab-df-convert\" onclick=\"convertToInteractive('df-0cbf9a72-179a-4e73-8b88-d11c177e2a9a')\"\n",
              "              title=\"Convert this dataframe to an interactive table.\"\n",
              "              style=\"display:none;\">\n",
              "        \n",
              "  <svg xmlns=\"http://www.w3.org/2000/svg\" height=\"24px\"viewBox=\"0 0 24 24\"\n",
              "       width=\"24px\">\n",
              "    <path d=\"M0 0h24v24H0V0z\" fill=\"none\"/>\n",
              "    <path d=\"M18.56 5.44l.94 2.06.94-2.06 2.06-.94-2.06-.94-.94-2.06-.94 2.06-2.06.94zm-11 1L8.5 8.5l.94-2.06 2.06-.94-2.06-.94L8.5 2.5l-.94 2.06-2.06.94zm10 10l.94 2.06.94-2.06 2.06-.94-2.06-.94-.94-2.06-.94 2.06-2.06.94z\"/><path d=\"M17.41 7.96l-1.37-1.37c-.4-.4-.92-.59-1.43-.59-.52 0-1.04.2-1.43.59L10.3 9.45l-7.72 7.72c-.78.78-.78 2.05 0 2.83L4 21.41c.39.39.9.59 1.41.59.51 0 1.02-.2 1.41-.59l7.78-7.78 2.81-2.81c.8-.78.8-2.07 0-2.86zM5.41 20L4 18.59l7.72-7.72 1.47 1.35L5.41 20z\"/>\n",
              "  </svg>\n",
              "      </button>\n",
              "      \n",
              "  <style>\n",
              "    .colab-df-container {\n",
              "      display:flex;\n",
              "      flex-wrap:wrap;\n",
              "      gap: 12px;\n",
              "    }\n",
              "\n",
              "    .colab-df-convert {\n",
              "      background-color: #E8F0FE;\n",
              "      border: none;\n",
              "      border-radius: 50%;\n",
              "      cursor: pointer;\n",
              "      display: none;\n",
              "      fill: #1967D2;\n",
              "      height: 32px;\n",
              "      padding: 0 0 0 0;\n",
              "      width: 32px;\n",
              "    }\n",
              "\n",
              "    .colab-df-convert:hover {\n",
              "      background-color: #E2EBFA;\n",
              "      box-shadow: 0px 1px 2px rgba(60, 64, 67, 0.3), 0px 1px 3px 1px rgba(60, 64, 67, 0.15);\n",
              "      fill: #174EA6;\n",
              "    }\n",
              "\n",
              "    [theme=dark] .colab-df-convert {\n",
              "      background-color: #3B4455;\n",
              "      fill: #D2E3FC;\n",
              "    }\n",
              "\n",
              "    [theme=dark] .colab-df-convert:hover {\n",
              "      background-color: #434B5C;\n",
              "      box-shadow: 0px 1px 3px 1px rgba(0, 0, 0, 0.15);\n",
              "      filter: drop-shadow(0px 1px 2px rgba(0, 0, 0, 0.3));\n",
              "      fill: #FFFFFF;\n",
              "    }\n",
              "  </style>\n",
              "\n",
              "      <script>\n",
              "        const buttonEl =\n",
              "          document.querySelector('#df-0cbf9a72-179a-4e73-8b88-d11c177e2a9a button.colab-df-convert');\n",
              "        buttonEl.style.display =\n",
              "          google.colab.kernel.accessAllowed ? 'block' : 'none';\n",
              "\n",
              "        async function convertToInteractive(key) {\n",
              "          const element = document.querySelector('#df-0cbf9a72-179a-4e73-8b88-d11c177e2a9a');\n",
              "          const dataTable =\n",
              "            await google.colab.kernel.invokeFunction('convertToInteractive',\n",
              "                                                     [key], {});\n",
              "          if (!dataTable) return;\n",
              "\n",
              "          const docLinkHtml = 'Like what you see? Visit the ' +\n",
              "            '<a target=\"_blank\" href=https://colab.research.google.com/notebooks/data_table.ipynb>data table notebook</a>'\n",
              "            + ' to learn more about interactive tables.';\n",
              "          element.innerHTML = '';\n",
              "          dataTable['output_type'] = 'display_data';\n",
              "          await google.colab.output.renderOutput(dataTable, element);\n",
              "          const docLink = document.createElement('div');\n",
              "          docLink.innerHTML = docLinkHtml;\n",
              "          element.appendChild(docLink);\n",
              "        }\n",
              "      </script>\n",
              "    </div>\n",
              "  </div>\n",
              "  "
            ]
          },
          "metadata": {},
          "execution_count": 4
        }
      ]
    },
    {
      "cell_type": "markdown",
      "metadata": {
        "id": "KL3LYjZjSUkE"
      },
      "source": [
        "How many movies? How many people? How many ratings?"
      ]
    },
    {
      "cell_type": "code",
      "source": [
        "rows = np.array(dataset[0]) - 1\n",
        "cols = np.array(dataset[1]) - 1\n",
        "vals = np.array(dataset[2])\n",
        "\n",
        "n = rows.max() + 1\n",
        "p = cols.max() + 1\n",
        "d = len(rows)\n",
        "\n",
        "print('%d users' % n)\n",
        "print('%d movies' % p)\n",
        "print('%d ratings' % d)"
      ],
      "metadata": {
        "colab": {
          "base_uri": "https://localhost:8080/"
        },
        "id": "0g53ZwefZTKI",
        "outputId": "204fd506-2b4a-40d1-b961-18f0151a1739"
      },
      "execution_count": 12,
      "outputs": [
        {
          "output_type": "stream",
          "name": "stdout",
          "text": [
            "943 users\n",
            "1682 movies\n",
            "100000 ratings\n"
          ]
        }
      ]
    },
    {
      "cell_type": "markdown",
      "metadata": {
        "id": "w4BfJL9wScZU"
      },
      "source": [
        "Shuffle the data (see the function [`np.random.shuffle`](https://numpy.org/doc/stable/reference/random/generated/numpy.random.shuffle.html))."
      ]
    },
    {
      "cell_type": "code",
      "source": [
        "idx = np.arange(d)\n",
        "np.random.seed(1) # for reproducibility\n",
        "np.random.shuffle(idx)\n",
        "rows = rows[idx]\n",
        "cols = cols[idx]\n",
        "vals = vals[idx]"
      ],
      "metadata": {
        "id": "B7LTBp0wakNn"
      },
      "execution_count": 21,
      "outputs": []
    },
    {
      "cell_type": "markdown",
      "metadata": {
        "id": "Orx1_BciSkTl"
      },
      "source": [
        "Split the dataset into a subset of 80000 training ratings and 20000 testing ratings."
      ]
    },
    {
      "cell_type": "code",
      "source": [
        "n_train_samples = 80000\n",
        "\n",
        "rows_train = rows[:n_train_samples]\n",
        "cols_train = cols[:n_train_samples]\n",
        "vals_train = vals[:n_train_samples]\n",
        "\n",
        "rows_test  = rows[n_train_samples:]\n",
        "cols_test  = cols[n_train_samples:]\n",
        "vals_test  = vals[n_train_samples:]"
      ],
      "metadata": {
        "id": "Ui3893VBbgVz"
      },
      "execution_count": 22,
      "outputs": []
    },
    {
      "cell_type": "markdown",
      "metadata": {
        "id": "fu5h_yrnSwAZ"
      },
      "source": [
        "Let us denote by $\\Omega$ the set of pairs $(i,j)$ such that rating of the $i$-th user on the $j$-th movie is available in the training set (similarly, $\\Omega_{\\text{test}}$ is the set of testing pairs).\n",
        "Let us denote by $r_{ij}$ the corresponding rating.\n",
        "\n",
        "Create a full matrix $X \\in \\mathbb{R}^{n \\times p}$, such that:\n",
        "$$\n",
        "X_{i,j} = \n",
        "\\begin{cases}\n",
        "r_{ij} & \\text{if } (i,j) \\in \\Omega\\\\\n",
        "0& \\text{otherwise}\n",
        "\\end{cases}\n",
        "$$"
      ]
    },
    {
      "cell_type": "code",
      "source": [
        "X_full = csr_matrix((vals_train, (rows_train, cols_train)), shape=(n, p)).toarray()\n",
        "X_full"
      ],
      "metadata": {
        "colab": {
          "base_uri": "https://localhost:8080/"
        },
        "id": "Uf9Gn-56cBiz",
        "outputId": "ec25042c-f3cc-43bf-dfad-718958130367"
      },
      "execution_count": 30,
      "outputs": [
        {
          "output_type": "execute_result",
          "data": {
            "text/plain": [
              "array([[0, 3, 0, ..., 0, 0, 0],\n",
              "       [4, 0, 0, ..., 0, 0, 0],\n",
              "       [0, 0, 0, ..., 0, 0, 0],\n",
              "       ...,\n",
              "       [0, 0, 0, ..., 0, 0, 0],\n",
              "       [0, 0, 0, ..., 0, 0, 0],\n",
              "       [0, 5, 0, ..., 0, 0, 0]])"
            ]
          },
          "metadata": {},
          "execution_count": 30
        }
      ]
    },
    {
      "cell_type": "markdown",
      "metadata": {
        "id": "sGg4nEkKTSWK"
      },
      "source": [
        "## Trivial recommender system\n",
        "\n",
        "Create a trivial recommender system, based on the average rating of each user:\n",
        "$$\n",
        "r^{\\text{pred}}_{ij} = \\frac{1}{N_i} \\sum_{j : (i,j) \\in \\Omega} r_{ij}\n",
        "$$\n",
        "where $N_i = card(j : (i,j) \\in \\Omega)$.\n",
        "\n",
        "Then compute the RMSE (root mean square error):\n",
        "$$\n",
        "\\text{RMSE} = \\sqrt{\\frac{1}{card(\\Omega_{\\text{test}})} \\sum_{(i,j) \\in \\Omega_{\\text{test}}} (r_{ij} - r^{\\text{pred}}_{ij})^2}\n",
        "$$\n",
        "and the Pearson correlation coefficient $\\rho$ (use the function [scipy.stats.pearsonr](https://docs.scipy.org/doc/scipy/reference/generated/scipy.stats.pearsonr.html)):\n",
        "$$\n",
        "\\rho = \n",
        "\\frac\n",
        "{\n",
        "    \\displaystyle\\sum_{(i,j) \\in \\Omega_{\\text{test}}} \n",
        "       (r_{ij} - \\overline{r})\n",
        "       (r^{\\text{pred}}_{ij} - \\overline{r}^{\\text{pred}})\n",
        "}\n",
        "{\\sqrt{\n",
        "    \\displaystyle\\sum_{(i,j) \\in \\Omega_{\\text{test}}} \n",
        "       (r_{ij} - \\overline{r})^2\n",
        "       }\n",
        "\\sqrt{\n",
        "    \\displaystyle\\sum_{(i,j) \\in \\Omega_{\\text{test}}} \n",
        "       (r^{\\text{pred}}_{ij} - \\overline{r}^{\\text{pred}})^2\n",
        "       }}\n",
        "$$\n",
        "where\n",
        "$$\n",
        "\\begin{split}\n",
        "\\overline{r} &= \\frac{1}{card(\\Omega_{\\text{test}})} \\sum_{(i,j) \\in \\Omega_{\\text{test}}} \n",
        "       r_{ij} \n",
        "\\\\\n",
        "\\overline{r}^{\\text{pred}} &= \\frac{1}{card(\\Omega_{\\text{test}})} \\sum_{(i,j) \\in \\Omega_{\\text{test}}} \n",
        "       r^{\\text{pred}}_{ij} \n",
        "\\end{split}\n",
        "$$"
      ]
    },
    {
      "cell_type": "code",
      "source": [
        "average_ratings = np.array([np.mean(vals_train[rows_train == i]) for i in range(n)])\n",
        "vals_test_trivial = average_ratings[rows_test]\n",
        "error_trivial = vals_test - vals_test_trivial\n",
        "\n",
        "RMSE_trivial = np.sqrt(np.mean(error_trivial**2))\n",
        "rho_trivial = pearsonr(vals_test, vals_test_trivial)[0]\n",
        "\n",
        "print('RMSE = %f' % RMSE_trivial)\n",
        "print('rho = %f' % rho_trivial)"
      ],
      "metadata": {
        "colab": {
          "base_uri": "https://localhost:8080/"
        },
        "id": "e2rdRI1RfvVp",
        "outputId": "0e44bbc7-af4e-4072-ab2f-f9bfb2647e2b"
      },
      "execution_count": 47,
      "outputs": [
        {
          "output_type": "stream",
          "name": "stdout",
          "text": [
            "RMSE = 1.043231\n",
            "rho = 0.383526\n"
          ]
        }
      ]
    },
    {
      "cell_type": "markdown",
      "metadata": {
        "id": "aQxUcttequN3"
      },
      "source": [
        "# Singular value truncation (SVT) based recommender system"
      ]
    },
    {
      "cell_type": "markdown",
      "metadata": {
        "id": "cLtvKy_kqz2D"
      },
      "source": [
        "Implement the SVT algorithm to predict the ratings of the testing set. Set a maximum number of iterations equal to 100. Print the RMSE and $\\rho$ at each iteration. Finally, plot the trend of both metrics.\n",
        "\n",
        "Try to calibrate the threshold to get better results."
      ]
    },
    {
      "cell_type": "code",
      "source": [
        "n_max_iter = 100\n",
        "threshold = 100.0\n",
        "tolerance = 1e-6\n",
        "\n",
        "RMSE_SVT_history = []\n",
        "pearson_SVT_history = []\n",
        "\n",
        "X_hat = X_full.copy()\n",
        "for k in range(n_max_iter):\n",
        "  X_hat_old = X_hat.copy()\n",
        "  U,s,VT = np.linalg.svd(X_hat, full_matrices = False)\n",
        "  s[s < threshold] = 0\n",
        "  X_hat = U @ np.diag(s) @ VT\n",
        "  X_hat[rows_train, cols_train] = vals_train\n",
        "  increment = np.linalg.norm(X_hat - X_hat_old)\n",
        "\n",
        "  vals_test_SVT = X_hat[rows_test, cols_test]\n",
        "  RMSE_SVT = np.sqrt(np.mean((vals_test - vals_test_SVT)**2))\n",
        "  pearson_SVT = pearsonr(vals_test, vals_test_SVT)[0]\n",
        "\n",
        "  RMSE_SVT_history.append(RMSE_SVT)\n",
        "  pearson_SVT_history.append(pearson_SVT)\n",
        "\n",
        "  print('======= iteration %d (increment %1.2e)' % (k, increment))\n",
        "  print('RMSE = %f' % RMSE_SVT)\n",
        "  print('rho = %f' % pearson_SVT)\n",
        "\n",
        "  if increment < tolerance:\n",
        "    break"
      ],
      "metadata": {
        "colab": {
          "base_uri": "https://localhost:8080/"
        },
        "id": "9sCGR_Ujhb_8",
        "outputId": "c74fe8b1-8df0-4651-debc-f17941d7b4be"
      },
      "execution_count": 54,
      "outputs": [
        {
          "output_type": "stream",
          "name": "stdout",
          "text": [
            "======= iteration 0 (increment 4.31e+02)\n",
            "RMSE = 2.611147\n",
            "rho = 0.313786\n",
            "======= iteration 1 (increment 2.58e+02)\n",
            "RMSE = 2.166277\n",
            "rho = 0.342040\n",
            "======= iteration 2 (increment 1.84e+02)\n",
            "RMSE = 1.918819\n",
            "rho = 0.363894\n",
            "======= iteration 3 (increment 1.43e+02)\n",
            "RMSE = 1.758455\n",
            "rho = 0.381251\n",
            "======= iteration 4 (increment 1.17e+02)\n",
            "RMSE = 1.645191\n",
            "rho = 0.395365\n",
            "======= iteration 5 (increment 9.89e+01)\n",
            "RMSE = 1.560651\n",
            "rho = 0.407092\n",
            "======= iteration 6 (increment 8.55e+01)\n",
            "RMSE = 1.495034\n",
            "rho = 0.417022\n",
            "======= iteration 7 (increment 7.52e+01)\n",
            "RMSE = 1.442582\n",
            "rho = 0.425566\n",
            "======= iteration 8 (increment 6.71e+01)\n",
            "RMSE = 1.399670\n",
            "rho = 0.433017\n",
            "======= iteration 9 (increment 6.06e+01)\n",
            "RMSE = 1.363901\n",
            "rho = 0.439589\n",
            "======= iteration 10 (increment 5.52e+01)\n",
            "RMSE = 1.333621\n",
            "rho = 0.445439\n",
            "======= iteration 11 (increment 5.06e+01)\n",
            "RMSE = 1.307654\n",
            "rho = 0.450688\n",
            "======= iteration 12 (increment 4.68e+01)\n",
            "RMSE = 1.285139\n",
            "rho = 0.455431\n",
            "======= iteration 13 (increment 4.35e+01)\n",
            "RMSE = 1.265431\n",
            "rho = 0.459741\n",
            "======= iteration 14 (increment 4.06e+01)\n",
            "RMSE = 1.248038\n",
            "rho = 0.463678\n",
            "======= iteration 15 (increment 3.81e+01)\n",
            "RMSE = 1.232576\n",
            "rho = 0.467291\n",
            "======= iteration 16 (increment 3.58e+01)\n",
            "RMSE = 1.218742\n",
            "rho = 0.470620\n",
            "======= iteration 17 (increment 3.39e+01)\n",
            "RMSE = 1.206294\n",
            "rho = 0.473699\n",
            "======= iteration 18 (increment 3.21e+01)\n",
            "RMSE = 1.195036\n",
            "rho = 0.476555\n",
            "======= iteration 19 (increment 3.05e+01)\n",
            "RMSE = 1.184806\n",
            "rho = 0.479214\n",
            "======= iteration 20 (increment 2.90e+01)\n",
            "RMSE = 1.175472\n",
            "rho = 0.481694\n",
            "======= iteration 21 (increment 2.77e+01)\n",
            "RMSE = 1.166922\n",
            "rho = 0.484014\n",
            "======= iteration 22 (increment 2.65e+01)\n",
            "RMSE = 1.159064\n",
            "rho = 0.486190\n",
            "======= iteration 23 (increment 2.54e+01)\n",
            "RMSE = 1.151818\n",
            "rho = 0.488234\n",
            "======= iteration 24 (increment 2.44e+01)\n",
            "RMSE = 1.145116\n",
            "rho = 0.490159\n",
            "======= iteration 25 (increment 2.34e+01)\n",
            "RMSE = 1.138902\n",
            "rho = 0.491974\n",
            "======= iteration 26 (increment 2.26e+01)\n",
            "RMSE = 1.133125\n",
            "rho = 0.493689\n",
            "======= iteration 27 (increment 2.18e+01)\n",
            "RMSE = 1.127741\n",
            "rho = 0.495311\n",
            "======= iteration 28 (increment 2.10e+01)\n",
            "RMSE = 1.122714\n",
            "rho = 0.496849\n",
            "======= iteration 29 (increment 2.03e+01)\n",
            "RMSE = 1.118009\n",
            "rho = 0.498307\n",
            "======= iteration 30 (increment 1.97e+01)\n",
            "RMSE = 1.113599\n",
            "rho = 0.499693\n",
            "======= iteration 31 (increment 1.90e+01)\n",
            "RMSE = 1.109457\n",
            "rho = 0.501012\n",
            "======= iteration 32 (increment 1.85e+01)\n",
            "RMSE = 1.105560\n",
            "rho = 0.502267\n",
            "======= iteration 33 (increment 1.79e+01)\n",
            "RMSE = 1.101888\n",
            "rho = 0.503463\n",
            "======= iteration 34 (increment 1.74e+01)\n",
            "RMSE = 1.098424\n",
            "rho = 0.504604\n",
            "======= iteration 35 (increment 1.69e+01)\n",
            "RMSE = 1.095151\n",
            "rho = 0.505694\n",
            "======= iteration 36 (increment 1.65e+01)\n",
            "RMSE = 1.092054\n",
            "rho = 0.506736\n",
            "======= iteration 37 (increment 1.60e+01)\n",
            "RMSE = 1.089120\n",
            "rho = 0.507732\n",
            "======= iteration 38 (increment 1.56e+01)\n",
            "RMSE = 1.086338\n",
            "rho = 0.508686\n",
            "======= iteration 39 (increment 1.52e+01)\n",
            "RMSE = 1.083697\n",
            "rho = 0.509599\n",
            "======= iteration 40 (increment 1.49e+01)\n",
            "RMSE = 1.081187\n",
            "rho = 0.510475\n",
            "======= iteration 41 (increment 1.45e+01)\n",
            "RMSE = 1.078800\n",
            "rho = 0.511314\n",
            "======= iteration 42 (increment 1.42e+01)\n",
            "RMSE = 1.076527\n",
            "rho = 0.512120\n",
            "======= iteration 43 (increment 1.39e+01)\n",
            "RMSE = 1.074360\n",
            "rho = 0.512894\n",
            "======= iteration 44 (increment 1.35e+01)\n",
            "RMSE = 1.072294\n",
            "rho = 0.513637\n",
            "======= iteration 45 (increment 1.32e+01)\n",
            "RMSE = 1.070321\n",
            "rho = 0.514352\n",
            "======= iteration 46 (increment 1.30e+01)\n",
            "RMSE = 1.068437\n",
            "rho = 0.515039\n",
            "======= iteration 47 (increment 1.27e+01)\n",
            "RMSE = 1.066635\n",
            "rho = 0.515700\n",
            "======= iteration 48 (increment 1.24e+01)\n",
            "RMSE = 1.064912\n",
            "rho = 0.516336\n",
            "======= iteration 49 (increment 1.22e+01)\n",
            "RMSE = 1.063262\n",
            "rho = 0.516949\n",
            "======= iteration 50 (increment 1.20e+01)\n",
            "RMSE = 1.061682\n",
            "rho = 0.517539\n",
            "======= iteration 51 (increment 1.17e+01)\n",
            "RMSE = 1.060168\n",
            "rho = 0.518108\n",
            "======= iteration 52 (increment 1.15e+01)\n",
            "RMSE = 1.058715\n",
            "rho = 0.518657\n",
            "======= iteration 53 (increment 1.13e+01)\n",
            "RMSE = 1.057322\n",
            "rho = 0.519186\n",
            "======= iteration 54 (increment 1.11e+01)\n",
            "RMSE = 1.055984\n",
            "rho = 0.519696\n",
            "======= iteration 55 (increment 1.09e+01)\n",
            "RMSE = 1.054699\n",
            "rho = 0.520188\n",
            "======= iteration 56 (increment 1.07e+01)\n",
            "RMSE = 1.053464\n",
            "rho = 0.520663\n",
            "======= iteration 57 (increment 1.05e+01)\n",
            "RMSE = 1.052276\n",
            "rho = 0.521122\n",
            "======= iteration 58 (increment 1.03e+01)\n",
            "RMSE = 1.051134\n",
            "rho = 0.521565\n",
            "======= iteration 59 (increment 1.02e+01)\n",
            "RMSE = 1.050035\n",
            "rho = 0.521993\n",
            "======= iteration 60 (increment 1.00e+01)\n",
            "RMSE = 1.048977\n",
            "rho = 0.522406\n",
            "======= iteration 61 (increment 9.85e+00)\n",
            "RMSE = 1.047959\n",
            "rho = 0.522806\n",
            "======= iteration 62 (increment 9.69e+00)\n",
            "RMSE = 1.046977\n",
            "rho = 0.523192\n",
            "======= iteration 63 (increment 9.54e+00)\n",
            "RMSE = 1.046031\n",
            "rho = 0.523566\n",
            "======= iteration 64 (increment 9.40e+00)\n",
            "RMSE = 1.045119\n",
            "rho = 0.523927\n",
            "======= iteration 65 (increment 9.26e+00)\n",
            "RMSE = 1.044240\n",
            "rho = 0.524277\n",
            "======= iteration 66 (increment 9.12e+00)\n",
            "RMSE = 1.043392\n",
            "rho = 0.524615\n",
            "======= iteration 67 (increment 8.99e+00)\n",
            "RMSE = 1.042573\n",
            "rho = 0.524942\n",
            "======= iteration 68 (increment 8.86e+00)\n",
            "RMSE = 1.041783\n",
            "rho = 0.525258\n",
            "======= iteration 69 (increment 8.74e+00)\n",
            "RMSE = 1.041020\n",
            "rho = 0.525565\n",
            "======= iteration 70 (increment 8.62e+00)\n",
            "RMSE = 1.040283\n",
            "rho = 0.525861\n",
            "======= iteration 71 (increment 8.50e+00)\n",
            "RMSE = 1.039571\n",
            "rho = 0.526148\n",
            "======= iteration 72 (increment 8.39e+00)\n",
            "RMSE = 1.038883\n",
            "rho = 0.526426\n",
            "======= iteration 73 (increment 8.28e+00)\n",
            "RMSE = 1.038218\n",
            "rho = 0.526695\n",
            "======= iteration 74 (increment 8.17e+00)\n",
            "RMSE = 1.037576\n",
            "rho = 0.526956\n",
            "======= iteration 75 (increment 8.06e+00)\n",
            "RMSE = 1.036954\n",
            "rho = 0.527209\n",
            "======= iteration 76 (increment 7.96e+00)\n",
            "RMSE = 1.036353\n",
            "rho = 0.527453\n",
            "======= iteration 77 (increment 7.86e+00)\n",
            "RMSE = 1.035772\n",
            "rho = 0.527690\n",
            "======= iteration 78 (increment 7.76e+00)\n",
            "RMSE = 1.035210\n",
            "rho = 0.527919\n",
            "======= iteration 79 (increment 7.67e+00)\n",
            "RMSE = 1.034666\n",
            "rho = 0.528142\n",
            "======= iteration 80 (increment 7.58e+00)\n",
            "RMSE = 1.034139\n",
            "rho = 0.528357\n",
            "======= iteration 81 (increment 7.49e+00)\n",
            "RMSE = 1.033629\n",
            "rho = 0.528566\n",
            "======= iteration 82 (increment 7.40e+00)\n",
            "RMSE = 1.033136\n",
            "rho = 0.528768\n",
            "======= iteration 83 (increment 7.32e+00)\n",
            "RMSE = 1.032658\n",
            "rho = 0.528964\n",
            "======= iteration 84 (increment 7.23e+00)\n",
            "RMSE = 1.032195\n",
            "rho = 0.529154\n",
            "======= iteration 85 (increment 7.15e+00)\n",
            "RMSE = 1.031747\n",
            "rho = 0.529338\n",
            "======= iteration 86 (increment 7.07e+00)\n",
            "RMSE = 1.031313\n",
            "rho = 0.529516\n",
            "======= iteration 87 (increment 7.00e+00)\n",
            "RMSE = 1.030893\n",
            "rho = 0.529689\n",
            "======= iteration 88 (increment 6.92e+00)\n",
            "RMSE = 1.030486\n",
            "rho = 0.529856\n",
            "======= iteration 89 (increment 6.85e+00)\n",
            "RMSE = 1.030091\n",
            "rho = 0.530018\n",
            "======= iteration 90 (increment 6.78e+00)\n",
            "RMSE = 1.029709\n",
            "rho = 0.530175\n",
            "======= iteration 91 (increment 6.71e+00)\n",
            "RMSE = 1.029339\n",
            "rho = 0.530328\n",
            "======= iteration 92 (increment 6.64e+00)\n",
            "RMSE = 1.028980\n",
            "rho = 0.530475\n",
            "======= iteration 93 (increment 6.57e+00)\n",
            "RMSE = 1.028632\n",
            "rho = 0.530618\n",
            "======= iteration 94 (increment 6.50e+00)\n",
            "RMSE = 1.028295\n",
            "rho = 0.530756\n",
            "======= iteration 95 (increment 6.44e+00)\n",
            "RMSE = 1.027968\n",
            "rho = 0.530890\n",
            "======= iteration 96 (increment 6.38e+00)\n",
            "RMSE = 1.027651\n",
            "rho = 0.531020\n",
            "======= iteration 97 (increment 6.31e+00)\n",
            "RMSE = 1.027344\n",
            "rho = 0.531146\n",
            "======= iteration 98 (increment 6.25e+00)\n",
            "RMSE = 1.027047\n",
            "rho = 0.531268\n",
            "======= iteration 99 (increment 6.19e+00)\n",
            "RMSE = 1.026758\n",
            "rho = 0.531386\n"
          ]
        }
      ]
    },
    {
      "cell_type": "code",
      "source": [
        "fig, axs = plt.subplots(2,1,figsize = (8,8))\n",
        "axs[0].loglog(RMSE_SVT_history, 'o-')\n",
        "axs[0].axhline(RMSE_trivial, color = 'red')\n",
        "axs[1].semilogx(pearson_SVT_history, 'o-')\n",
        "axs[1].axhline(rho_trivial, color = 'red')"
      ],
      "metadata": {
        "colab": {
          "base_uri": "https://localhost:8080/",
          "height": 505
        },
        "id": "m8Jt6GizmvLO",
        "outputId": "b008c3ca-b4b8-421e-8df5-f6affdc68739"
      },
      "execution_count": 58,
      "outputs": [
        {
          "output_type": "execute_result",
          "data": {
            "text/plain": [
              "<matplotlib.lines.Line2D at 0x7f5656d17b90>"
            ]
          },
          "metadata": {},
          "execution_count": 58
        },
        {
          "output_type": "display_data",
          "data": {
            "text/plain": [
              "<Figure size 576x576 with 2 Axes>"
            ],
            "image/png": "[encoded data removed]"
          },
          "metadata": {
            "needs_background": "light"
          }
        }
      ]
    }
  ]
}