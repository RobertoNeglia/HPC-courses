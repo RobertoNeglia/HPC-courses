{
  "nbformat": 4,
  "nbformat_minor": 0,
  "metadata": {
    "colab": {
      "provenance": [],
      "collapsed_sections": []
    },
    "kernelspec": {
      "name": "python3",
      "display_name": "Python 3"
    }
  },
  "cells": [
    {
      "cell_type": "markdown",
      "metadata": {
        "id": "4C5ncMKPCGS_"
      },
      "source": [
        "# Moore-Penrose pseudo inverse"
      ]
    },
    {
      "cell_type": "code",
      "metadata": {
        "id": "mf3YmOwwWx3P"
      },
      "source": [
        "import numpy as np\n",
        "import scipy.linalg as la\n",
        "import matplotlib.pyplot as plt"
      ],
      "execution_count": 1,
      "outputs": []
    },
    {
      "cell_type": "markdown",
      "metadata": {
        "id": "WTAIp1RRBzfn"
      },
      "source": [
        "Write a function computing the Moore-Penrose pseudo inverse, exploiting the full SVD."
      ]
    },
    {
      "cell_type": "code",
      "metadata": {
        "id": "l53EKZ8m9v6X"
      },
      "source": [
        "def my_pinv1(A):\n",
        "  U,s,VT = np.linalg.svd(A)\n",
        "  s[s > 0] = 1 / s[s > 0]\n",
        "  return VT.transpose() @ la.diagsvd(s, A.shape[1], A.shape[0]) @ U.transpose()"
      ],
      "execution_count": 2,
      "outputs": []
    },
    {
      "cell_type": "markdown",
      "metadata": {
        "id": "pji4usPEFaPS"
      },
      "source": [
        "Write now a function computing the Moore-Penrose pseudo inverse, exploiting the reduced SVD."
      ]
    },
    {
      "cell_type": "code",
      "metadata": {
        "id": "n-cfuhorCG0f"
      },
      "source": [
        "def my_pinv2(A):\n",
        "  U,s,VT = np.linalg.svd(A, full_matrices = False)\n",
        "  s[s > 0] = 1 / s[s > 0]\n",
        "  return VT.transpose() @ np.diag(s) @ U.transpose()"
      ],
      "execution_count": 3,
      "outputs": []
    },
    {
      "cell_type": "markdown",
      "metadata": {
        "id": "AiVbuB94CItY"
      },
      "source": [
        "Generate a random matrix $A$ (with elements sampled from a standard Gaussian distribution) with 5 rows and 4 columns. Compute its Moore-Penrose pseudo inverse thorugh the two functions above defined, and compare the result with the function `numpy.linalg.pinv` (see [Documentation](https://numpy.org/doc/stable/reference/generated/numpy.linalg.pinv.html))."
      ]
    },
    {
      "cell_type": "code",
      "metadata": {
        "id": "56sxO58a87LU",
        "colab": {
          "base_uri": "https://localhost:8080/"
        },
        "outputId": "c851ecf1-df21-4642-b638-39015b340fd2"
      },
      "source": [
        "A = np.random.randn(5,4)\n",
        "Apinv0 = np.linalg.pinv(A)\n",
        "Apinv1 = my_pinv1(A)\n",
        "Apinv2 = my_pinv2(A)\n",
        "print(np.linalg.norm(Apinv0 - Apinv1) / np.linalg.norm(Apinv0))\n",
        "print(np.linalg.norm(Apinv0 - Apinv2) / np.linalg.norm(Apinv0))"
      ],
      "execution_count": 4,
      "outputs": [
        {
          "output_type": "stream",
          "name": "stdout",
          "text": [
            "1.2437648206501032e-16\n",
            "1.2437648206501032e-16\n"
          ]
        }
      ]
    },
    {
      "cell_type": "markdown",
      "metadata": {
        "id": "oLqUjmIvCnCN"
      },
      "source": [
        "Compare the three implementations performances through the Google Colab magic command `%timeit`."
      ]
    },
    {
      "cell_type": "code",
      "metadata": {
        "id": "nhvfVtIo-NC1"
      },
      "source": [
        "%timeit np.linalg.pinv(A)"
      ],
      "execution_count": null,
      "outputs": []
    },
    {
      "cell_type": "code",
      "metadata": {
        "id": "y21T3Nnj-aL-"
      },
      "source": [
        "%timeit my_pinv1(A)"
      ],
      "execution_count": null,
      "outputs": []
    },
    {
      "cell_type": "code",
      "metadata": {
        "id": "5zzvnNMJ-dD7"
      },
      "source": [
        "%timeit my_pinv2(A)"
      ],
      "execution_count": null,
      "outputs": []
    },
    {
      "cell_type": "markdown",
      "metadata": {
        "id": "i2rYM4FpDI9M"
      },
      "source": [
        "# Least-square regression"
      ]
    },
    {
      "cell_type": "markdown",
      "metadata": {
        "id": "hquNEJ1sDN9I"
      },
      "source": [
        "Consider the linear model\n",
        "$$\n",
        "y = mx + q.\n",
        "$$\n",
        "where $m = 2$ and $q = 3$.\n",
        "\n",
        "Generate $N = 100$ points $x_i$, sampling from a standard Gaussian distribution, and the associated $y_i$. Then, add a synthetic noise ($\\epsilon_i$) by sampling from a Gaussian distribution with zero mean and standard deviation $\\sigma = 2$. Plot the noisy data $(x_i, \\tilde{y}_i)$, where $\\tilde{y}_i = y_i + \\epsilon_i$, in the $(x,y)$ plane, together with the line $y = mx + q$."
      ]
    },
    {
      "cell_type": "code",
      "metadata": {
        "id": "SRF2lfmNAH1M"
      },
      "source": [
        "m = 2.0\n",
        "q = 3.0\n",
        "N = 100\n",
        "noise = 2.0\n",
        "\n",
        "X = np.random.randn(N)\n",
        "Y = m*X + q + noise * np.random.randn(N)"
      ],
      "execution_count": 7,
      "outputs": []
    },
    {
      "cell_type": "code",
      "metadata": {
        "id": "YEWmpybMAaax",
        "colab": {
          "base_uri": "https://localhost:8080/",
          "height": 283
        },
        "outputId": "d1910a90-50db-4be0-b4e3-5692884de3e1"
      },
      "source": [
        "plt.scatter(X,Y)\n",
        "plt.plot(X, m*X + q, color = 'red')"
      ],
      "execution_count": 8,
      "outputs": [
        {
          "output_type": "execute_result",
          "data": {
            "text/plain": [
              "[<matplotlib.lines.Line2D at 0x7f00bb810510>]"
            ]
          },
          "metadata": {},
          "execution_count": 8
        },
        {
          "output_type": "display_data",
          "data": {
            "text/plain": [
              "<Figure size 432x288 with 1 Axes>"
            ],
            "image/png": "[encoded data removed]"
          },
          "metadata": {
            "needs_background": "light"
          }
        }
      ]
    },
    {
      "cell_type": "markdown",
      "metadata": {
        "id": "V8w-4ou8D20u"
      },
      "source": [
        "Using the previously implemented functions to compute the Moore-Penrose pseudo inverse, solve the least-squares problem\n",
        "$$\n",
        "\\min_{m,q} \\sum_{i=1}^N (\\tilde{y}_i - (m x_i + q))^2\n",
        "$$\n",
        "and display the regression line superimposed to the noisy data and the exact model."
      ]
    },
    {
      "cell_type": "code",
      "metadata": {
        "id": "is1jvP_WAz4C",
        "colab": {
          "base_uri": "https://localhost:8080/"
        },
        "outputId": "d199c633-4630-4645-8f36-c62e1f08ef42"
      },
      "source": [
        "Phi = np.block([X[:,np.newaxis], np.ones((N,1))])\n",
        "z = my_pinv2(Phi) @ Y\n",
        "m_hat = z[0]\n",
        "q_hat = z[1]\n",
        "print('m_hat = %f' % m_hat)\n",
        "print('q_hat = %f' % q_hat)"
      ],
      "execution_count": 14,
      "outputs": [
        {
          "output_type": "stream",
          "name": "stdout",
          "text": [
            "m_hat = 2.182822\n",
            "q_hat = 3.166391\n"
          ]
        }
      ]
    },
    {
      "cell_type": "code",
      "metadata": {
        "id": "8X2JKmbQBRV-",
        "colab": {
          "base_uri": "https://localhost:8080/",
          "height": 283
        },
        "outputId": "18301b50-a7f6-4c48-f8c7-fad2d69b56bd"
      },
      "source": [
        "plt.scatter(X,Y)\n",
        "plt.plot(X, m*X + q, color = 'red')\n",
        "plt.plot(X, m_hat*X + q_hat, color = 'green')"
      ],
      "execution_count": 15,
      "outputs": [
        {
          "output_type": "execute_result",
          "data": {
            "text/plain": [
              "[<matplotlib.lines.Line2D at 0x7f00b2e4bb90>]"
            ]
          },
          "metadata": {},
          "execution_count": 15
        },
        {
          "output_type": "display_data",
          "data": {
            "text/plain": [
              "<Figure size 432x288 with 1 Axes>"
            ],
            "image/png": "[encoded data removed]"
          },
          "metadata": {
            "needs_background": "light"
          }
        }
      ]
    },
    {
      "cell_type": "markdown",
      "metadata": {
        "id": "-wssES11FISl"
      },
      "source": [
        "Repeat the excercise by solving the normal equations. Compare the results"
      ]
    },
    {
      "cell_type": "code",
      "metadata": {
        "id": "B9HYqolhBia3",
        "colab": {
          "base_uri": "https://localhost:8080/"
        },
        "outputId": "67b49663-e102-48d5-a065-2588cfede8c7"
      },
      "source": [
        "z2 = np.linalg.solve(Phi.transpose() @ Phi, Phi.transpose() @ Y)\n",
        "np.linalg.norm(z - z2)"
      ],
      "execution_count": 16,
      "outputs": [
        {
          "output_type": "execute_result",
          "data": {
            "text/plain": [
              "6.280369834735101e-16"
            ]
          },
          "metadata": {},
          "execution_count": 16
        }
      ]
    },
    {
      "cell_type": "markdown",
      "metadata": {
        "id": "V5E5i7tk62e4"
      },
      "source": [
        "# Ridge regression and Kernel regression"
      ]
    },
    {
      "cell_type": "markdown",
      "metadata": {
        "id": "793QCqaoIAGB"
      },
      "source": [
        "Consider the function\n",
        "$$\n",
        "y = f(x) = \\tanh(2x - 1).\n",
        "$$\n",
        "\n",
        "Generate $N = 100$ points $x_i$, sampling from a standard Gaussian distribution, and the associated $y_i$. Then, add a synthetic noise ($\\epsilon_i$) by sampling from a Gaussian distribution with zero mean and standard deviation $\\sigma = 0.1$. Plot the noisy data $(x_i, \\tilde{y}_i)$, where $\\tilde{y}_i = y_i + \\epsilon_i$, in the $(x,y)$ plane.\n",
        "\n",
        "Then, generate 1000 testing points, uniformly distributed in the interval $[-3,3]$, and display the function $y = f(x)$ in correspondence of the testing points."
      ]
    },
    {
      "cell_type": "code",
      "metadata": {
        "id": "cQ1mVije617U",
        "colab": {
          "base_uri": "https://localhost:8080/",
          "height": 283
        },
        "outputId": "708a8b6a-fcdf-4d4c-fb10-591594b2a2f7"
      },
      "source": [
        "N = 100\n",
        "noise = 0.1\n",
        "y_ex = lambda x: np.tanh(2*(x - 1))\n",
        "\n",
        "X = np.random.randn(N)\n",
        "Y = y_ex(X) + noise * np.random.randn(N)\n",
        "\n",
        "N_test = 1000\n",
        "X_test = np.linspace(-3,3,N_test)\n",
        "Y_test_ex = y_ex(X_test)\n",
        "\n",
        "plt.scatter(X,Y, marker = '+', color = 'black', label = 'data')\n",
        "plt.plot(X_test, Y_test_ex, color = 'black', label = '$y_{ex}(x)$')\n",
        "plt.legend()"
      ],
      "execution_count": 17,
      "outputs": [
        {
          "output_type": "execute_result",
          "data": {
            "text/plain": [
              "<matplotlib.legend.Legend at 0x7f00b2e2c610>"
            ]
          },
          "metadata": {},
          "execution_count": 17
        },
        {
          "output_type": "display_data",
          "data": {
            "text/plain": [
              "<Figure size 432x288 with 1 Axes>"
            ],
            "image/png": "[encoded data removed]"
          },
          "metadata": {
            "needs_background": "light"
          }
        }
      ]
    },
    {
      "cell_type": "markdown",
      "metadata": {
        "id": "T6SY2zU3I406"
      },
      "source": [
        "Proceeding as in the previous exercise, compute the regression line resulting from the **least squares regression** of data $(x_i, \\tilde{y}_i)$. Plot the resulting regression line."
      ]
    },
    {
      "cell_type": "code",
      "metadata": {
        "id": "XKgk85JyJXty",
        "colab": {
          "base_uri": "https://localhost:8080/",
          "height": 319
        },
        "outputId": "bfea6861-fa97-4de1-9c47-c8d7128cd155"
      },
      "source": [
        "Phi = np.block([X[:,None], np.ones((N,1))])\n",
        "z = my_pinv2(Phi) @ Y\n",
        "m_hat = z[0]\n",
        "q_hat = z[1]\n",
        "print('m_hat = %f' % m_hat)\n",
        "print('q_hat = %f' % q_hat)\n",
        "Y_test_LS = m_hat*X_test + q_hat\n",
        "\n",
        "plt.scatter(X,Y, marker = '+', color = 'black', label = 'data')\n",
        "plt.plot(X_test, Y_test_ex, color = 'black', label = '$y_{ex}(x)$')\n",
        "plt.plot(X_test, Y_test_LS, color = 'green', label = 'LS regression')\n",
        "plt.legend()"
      ],
      "execution_count": 18,
      "outputs": [
        {
          "output_type": "stream",
          "name": "stdout",
          "text": [
            "m_hat = 0.451383\n",
            "q_hat = -0.649705\n"
          ]
        },
        {
          "output_type": "execute_result",
          "data": {
            "text/plain": [
              "<matplotlib.legend.Legend at 0x7f00b2d76cd0>"
            ]
          },
          "metadata": {},
          "execution_count": 18
        },
        {
          "output_type": "display_data",
          "data": {
            "text/plain": [
              "<Figure size 432x288 with 1 Axes>"
            ],
            "image/png": "[encoded data removed]"
          },
          "metadata": {
            "needs_background": "light"
          }
        }
      ]
    },
    {
      "cell_type": "markdown",
      "metadata": {
        "id": "ERGPDoiwJv-O"
      },
      "source": [
        "Let us now consider **ridge regression**, corresponding to a regularizaton parameter $\\lambda = 1.0$. Compare the obtained regression line with the one obtained through least squares regression."
      ]
    },
    {
      "cell_type": "code",
      "metadata": {
        "id": "G_HmhHEHKLsX",
        "colab": {
          "base_uri": "https://localhost:8080/",
          "height": 283
        },
        "outputId": "8cdfb55d-ebb4-49b4-c8a0-d13dd02122a5"
      },
      "source": [
        "lam = 1.0\n",
        "PhiPhiT = Phi @ Phi.transpose()\n",
        "alpha = np.linalg.solve(PhiPhiT + lam*np.eye(N), Y)\n",
        "w = Phi.transpose() @ alpha\n",
        "Phi_test = np.block([X_test[:,None], np.ones((N_test,1))])\n",
        "Y_test_RR = Phi_test @ w\n",
        "\n",
        "plt.scatter(X,Y, marker = '+', color = 'black', label = 'data')\n",
        "plt.plot(X_test, Y_test_ex, color = 'black', label = '$y_{ex}(x)$')\n",
        "plt.plot(X_test, Y_test_LS, color = 'green', label = 'LS regression')\n",
        "plt.plot(X_test, Y_test_RR, color = 'red', linestyle = '--', label = 'Ridge regression')\n",
        "plt.legend()"
      ],
      "execution_count": 37,
      "outputs": [
        {
          "output_type": "execute_result",
          "data": {
            "text/plain": [
              "<matplotlib.legend.Legend at 0x7f00aff7bd50>"
            ]
          },
          "metadata": {},
          "execution_count": 37
        },
        {
          "output_type": "display_data",
          "data": {
            "text/plain": [
              "<Figure size 432x288 with 1 Axes>"
            ],
            "image/png": "[encoded data removed]"
          },
          "metadata": {
            "needs_background": "light"
          }
        }
      ]
    },
    {
      "cell_type": "markdown",
      "metadata": {
        "id": "_c7X6mmPKXiC"
      },
      "source": [
        "Consider now **kernel regression**. \n",
        "\n",
        "1. Consider first the scalar product kernel \n",
        "$$K(x_i,x_j) = x_i x_j + 1.$$\n",
        "Compute the regression function and compare the result with the ones obtained at the previous point. How do the results compare?\n",
        "\n",
        "2. Consider then the higher-order scalar product kernel, for $q > 1$.\n",
        "$$K(x_i,x_j) = (x_i x_j + 1)^q.$$\n",
        "\n",
        "3. Consider finally a Gaussian kernel, for $\\sigma > 0$.\n",
        "$$K(x_i,x_j) = \\exp\\left(-\\frac{(x_i - x_j)^2}{2 \\sigma^2}\\right).$$"
      ]
    },
    {
      "cell_type": "code",
      "metadata": {
        "id": "L-bazLFG7MYj",
        "colab": {
          "base_uri": "https://localhost:8080/",
          "height": 287
        },
        "outputId": "88ef3669-043a-4b63-a9be-95eeb37a9c5c"
      },
      "source": [
        "lam =  1.0\n",
        "\n",
        "#def kernel(xi,xj):\n",
        "#  return (xi*xj+1)**6\n",
        "\n",
        "sigma = 1.0\n",
        "def kernel(xi,xj):\n",
        "  return np.exp(-np.abs(xi-xj)**2/(2*sigma**2))\n",
        "\n",
        "K = np.array([[kernel(X[i],X[j]) for j in range(N)] for i in range(N)])\n",
        "alpha = np.linalg.solve(K+lam*np.eye(N), Y)\n",
        "K_test = np.array([[kernel(X_test[i],X[j]) for j in range(N)] for i in range(N_test)])\n",
        "Y_test_KR = K_test @ alpha\n",
        "\n",
        "plt.scatter(X,Y, marker = '+', color = 'black', label = 'data')\n",
        "plt.plot(X_test, Y_test_ex, color = 'black', label = '$y_{ex}(x)$')\n",
        "plt.plot(X_test, Y_test_LS, color = 'green', label = 'LS regression')\n",
        "plt.plot(X_test, Y_test_RR, color = 'red', linestyle = '--', label = 'Ridge regression')\n",
        "plt.plot(X_test, Y_test_KR, color = 'blue', linestyle = ':', label = 'kernel regression')\n",
        "plt.legend()\n",
        "plt.ylim([-2, 2])"
      ],
      "execution_count": 49,
      "outputs": [
        {
          "output_type": "execute_result",
          "data": {
            "text/plain": [
              "(-2.0, 2.0)"
            ]
          },
          "metadata": {},
          "execution_count": 49
        },
        {
          "output_type": "display_data",
          "data": {
            "text/plain": [
              "<Figure size 432x288 with 1 Axes>"
            ],
            "image/png": "[encoded data removed]"
          },
          "metadata": {
            "needs_background": "light"
          }
        }
      ]
    }
  ]
}